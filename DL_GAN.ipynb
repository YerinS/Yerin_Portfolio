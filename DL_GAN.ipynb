{
  "nbformat": 4,
  "nbformat_minor": 0,
  "metadata": {
    "colab": {
      "name": "DL_GAN",
      "provenance": [],
      "collapsed_sections": [],
      "authorship_tag": "ABX9TyPXfLJJOVoLMORMFiM7PLw6",
      "include_colab_link": true
    },
    "kernelspec": {
      "name": "python3",
      "display_name": "Python 3"
    },
    "language_info": {
      "name": "python"
    },
    "accelerator": "GPU"
  },
  "cells": [
    {
      "cell_type": "markdown",
      "metadata": {
        "id": "view-in-github",
        "colab_type": "text"
      },
      "source": [
        "<a href=\"https://colab.research.google.com/github/YerinS/Yerin_Portfolio/blob/main/DL_GAN.ipynb\" target=\"_parent\"><img src=\"https://colab.research.google.com/assets/colab-badge.svg\" alt=\"Open In Colab\"/></a>"
      ]
    },
    {
      "cell_type": "markdown",
      "source": [
        "# [DL GAN] Handwritten Digits\n"
      ],
      "metadata": {
        "id": "fMqfcR5LOXYo"
      }
    },
    {
      "cell_type": "markdown",
      "source": [
        "- 　__Data__ 　　　　　　　MNIST dataset<br/>\n",
        "- 　__Data Source__ 　 　　 TensorFlow Datasets collection<br/>\n",
        "- 　__DL Framework__ 　 　 Keras<br/>\n",
        "- 　__Packages__ 　 　 　　TensorFlow v2.7, NumPy, Matplotlib, IPython<br/>\n",
        "<br/>"
      ],
      "metadata": {
        "id": "vFCOJz2k0IHh"
      }
    },
    {
      "cell_type": "code",
      "source": [
        "import os\n",
        "from PIL import Image\n",
        "import numpy as np\n",
        "import tensorflow as tf\n",
        "from tensorflow import keras\n",
        "import imageio\n",
        "import glob\n",
        "from IPython import display\n",
        "from matplotlib import pyplot as plt\n",
        "import time"
      ],
      "metadata": {
        "id": "Z-vn8bNPRtgY"
      },
      "execution_count": 1,
      "outputs": []
    },
    {
      "cell_type": "markdown",
      "source": [
        "# 1. Prepare & Manipulate Data"
      ],
      "metadata": {
        "id": "S5s9bZkjC6Pn"
      }
    },
    {
      "cell_type": "markdown",
      "source": [
        "- Download data from https://storage.googleapis.com/tensorflow/tf-keras-datasets/mnist.npz"
      ],
      "metadata": {
        "id": "3JUnGzP1SK0w"
      }
    },
    {
      "cell_type": "code",
      "source": [
        "class DataReader():\n",
        "    def __init__(self):\n",
        "        (self.train_X, _), (_, _) = keras.datasets.mnist.load_data()\n",
        "        self.train_X = self.preprocess(self.train_X)\n",
        "        self.train_dataset = tf.data.Dataset.from_tensor_slices(self.train_X).shuffle(60000).batch(256)\n",
        "\n",
        "    def preprocess(self, images):\n",
        "        images = images.reshape(images.shape[0], 28, 28, 1).astype('float32')\n",
        "        images = images / 127.5 - 1\n",
        "        return images\n",
        "\n",
        "    def show_processed_images(self):\n",
        "        plt.figure(figsize=(10, 10))\n",
        "        for i in range(25):\n",
        "            plt.subplot(5, 5, i + 1)\n",
        "            plt.xticks([])\n",
        "            plt.yticks([])\n",
        "            plt.grid(False)\n",
        "            plt.imshow(self.train_X[i])\n",
        "        plt.show()"
      ],
      "metadata": {
        "id": "L2ktTPTxSGhP"
      },
      "execution_count": 2,
      "outputs": []
    },
    {
      "cell_type": "code",
      "source": [
        "dr = DataReader()"
      ],
      "metadata": {
        "colab": {
          "base_uri": "https://localhost:8080/"
        },
        "id": "0-nzMwC7SNRr",
        "outputId": "1cbef94f-1eb6-444b-98f0-b50e9b87ec89"
      },
      "execution_count": 3,
      "outputs": [
        {
          "output_type": "stream",
          "name": "stdout",
          "text": [
            "Downloading data from https://storage.googleapis.com/tensorflow/tf-keras-datasets/mnist.npz\n",
            "11493376/11490434 [==============================] - 0s 0us/step\n",
            "11501568/11490434 [==============================] - 0s 0us/step\n"
          ]
        }
      ]
    },
    {
      "cell_type": "markdown",
      "source": [
        "# 2. Make Generator and Discriminator"
      ],
      "metadata": {
        "id": "Cd19RMSfU7mk"
      }
    },
    {
      "cell_type": "code",
      "source": [
        "def make_generator():\n",
        "    model = keras.Sequential([\n",
        "        keras.layers.Dense(7*7*256, use_bias=False, input_shape=(100,)),\n",
        "        keras.layers.BatchNormalization(),\n",
        "        keras.layers.LeakyReLU(),\n",
        "\n",
        "        keras.layers.Reshape((7, 7, 256)),\n",
        "\n",
        "        keras.layers.Conv2DTranspose(128, (5, 5), strides=(1, 1), padding='same', use_bias=False),\n",
        "        keras.layers.BatchNormalization(),\n",
        "        keras.layers.LeakyReLU(),\n",
        "\n",
        "        keras.layers.Conv2DTranspose(64, (5, 5), strides=(2, 2), padding='same', use_bias=False),\n",
        "        keras.layers.BatchNormalization(),\n",
        "        keras.layers.LeakyReLU(),\n",
        "\n",
        "        keras.layers.Conv2DTranspose(1, (5, 5), strides=(2, 2), padding='same', use_bias=False, activation='tanh')\n",
        "    ])\n",
        "\n",
        "    return model"
      ],
      "metadata": {
        "id": "qZBCR9NjSuTq"
      },
      "execution_count": 4,
      "outputs": []
    },
    {
      "cell_type": "code",
      "source": [
        "def make_discriminator():\n",
        "    model = keras.Sequential([\n",
        "        keras.layers.Conv2D(64, (5, 5), strides=(2, 2), padding='same', input_shape=[28, 28, 1]),\n",
        "        keras.layers.LeakyReLU(),\n",
        "        keras.layers.Dropout(0.3),\n",
        "\n",
        "        keras.layers.Conv2D(128, (5, 5), strides=(2, 2), padding='same'),\n",
        "        keras.layers.LeakyReLU(),\n",
        "        keras.layers.Dropout(0.3),\n",
        "\n",
        "        keras.layers.Flatten(),\n",
        "        keras.layers.Dense(1)\n",
        "    ])\n",
        "\n",
        "    return model"
      ],
      "metadata": {
        "id": "GjDPOmfRSuRf"
      },
      "execution_count": 5,
      "outputs": []
    },
    {
      "cell_type": "code",
      "source": [
        "def loss_G(fake_output):\n",
        "    return keras.losses.BinaryCrossentropy(from_logits=True)(tf.ones_like(fake_output), fake_output)"
      ],
      "metadata": {
        "id": "dxOrFGYdSuN1"
      },
      "execution_count": 6,
      "outputs": []
    },
    {
      "cell_type": "code",
      "source": [
        "def loss_D(real_output, fake_output):\n",
        "    real_loss = keras.losses.BinaryCrossentropy(from_logits=True)(tf.ones_like(real_output), real_output)\n",
        "    fake_loss = keras.losses.BinaryCrossentropy(from_logits=True)(tf.zeros_like(fake_output), fake_output)\n",
        "    total_loss = real_loss + fake_loss\n",
        "    return total_loss"
      ],
      "metadata": {
        "id": "orOk6di5SuPW"
      },
      "execution_count": 7,
      "outputs": []
    },
    {
      "cell_type": "code",
      "source": [
        "generator_optimizer = keras.optimizers.Adam(1e-4)\n",
        "discriminator_optimizer = keras.optimizers.Adam(1e-4)"
      ],
      "metadata": {
        "id": "c5nbhHZDSuMB"
      },
      "execution_count": 8,
      "outputs": []
    },
    {
      "cell_type": "code",
      "source": [
        "noise_dim = 100\n",
        "seed = tf.random.normal([36, noise_dim])"
      ],
      "metadata": {
        "id": "qQyeiJNaSuJe"
      },
      "execution_count": 9,
      "outputs": []
    },
    {
      "cell_type": "code",
      "source": [
        "@tf.function\n",
        "def train_step(generator, discriminator, images):\n",
        "    noise = tf.random.normal([256, noise_dim])\n",
        "\n",
        "    with tf.GradientTape() as gen_tape, tf.GradientTape() as disc_tape:\n",
        "        generated_images = generator(noise, training=True)\n",
        "\n",
        "        real_output = discriminator(images, training=True)\n",
        "        fake_output = discriminator(generated_images, training=True)\n",
        "\n",
        "        gen_loss = loss_G(fake_output)\n",
        "        disc_loss = loss_D(real_output, fake_output)\n",
        "\n",
        "    gradient_G = gen_tape.gradient(gen_loss, generator.trainable_variables)\n",
        "    gradient_D = disc_tape.gradient(disc_loss, discriminator.trainable_variables)\n",
        "\n",
        "    generator_optimizer.apply_gradients(zip(gradient_G, generator.trainable_variables))\n",
        "    discriminator_optimizer.apply_gradients(zip(gradient_D, discriminator.trainable_variables))\n",
        "\n",
        "    return gen_loss, disc_loss"
      ],
      "metadata": {
        "id": "EHdYw97YSuHq"
      },
      "execution_count": 10,
      "outputs": []
    },
    {
      "cell_type": "code",
      "source": [
        "def generate_and_save_images(model, epoch, test_input):\n",
        "    predictions = model(test_input, training=False)\n",
        "    fig = plt.figure(figsize=(6, 6))\n",
        "\n",
        "    for i in range(predictions.shape[0]):\n",
        "        plt.subplot(6, 6, i+1)\n",
        "        plt.imshow(((predictions[i, :, :, 0]) + 1)/2)\n",
        "        plt.axis('off')\n",
        "\n",
        "    plt.savefig('results/image_at_epoch_{:04d}.png'.format(epoch))\n",
        "    plt.close(fig)"
      ],
      "metadata": {
        "id": "EmP1K_IJSuE2"
      },
      "execution_count": 11,
      "outputs": []
    },
    {
      "cell_type": "markdown",
      "source": [
        "# 3. Train Model"
      ],
      "metadata": {
        "id": "DnXTpkaLWoku"
      }
    },
    {
      "cell_type": "code",
      "source": [
        "def train(generator, discriminator, dataset, epochs):\n",
        "    if \"results\" not in os.listdir():\n",
        "        os.mkdir(\"results\")\n",
        "\n",
        "    for epoch in range(epochs):\n",
        "        start = time.time()\n",
        "        for image_batch in dataset:\n",
        "            gen_loss, disc_loss = train_step(generator, discriminator, image_batch)\n",
        "        duration = time.time() - start\n",
        "        display.clear_output(wait=True)\n",
        "        generate_and_save_images(generator, epoch + 1, seed)\n",
        "        print(\"Epoch \" + str(epoch + 1) + \"   Generator Loss : \" + str(float(gen_loss))[:7]\n",
        "                        + \"   Discriminator Loss : \" + str(float(disc_loss))[:7]\n",
        "                        + \"   Time : \" + str(duration)[:5] + \" seconds\")\n",
        "\n",
        "    display.clear_output(wait=True)\n",
        "    generate_and_save_images(generator, epochs, seed)"
      ],
      "metadata": {
        "id": "zNpz63fRTGLZ"
      },
      "execution_count": 12,
      "outputs": []
    },
    {
      "cell_type": "code",
      "source": [
        "generator = make_generator()\n",
        "discriminator = make_discriminator()\n",
        "\n",
        "train(generator, discriminator, dr.train_dataset, epochs=100)"
      ],
      "metadata": {
        "colab": {
          "base_uri": "https://localhost:8080/"
        },
        "id": "DE8Uq7N5TGDW",
        "outputId": "b9c2f28b-fa6f-4758-ac84-1e3db1427087"
      },
      "execution_count": 13,
      "outputs": [
        {
          "output_type": "stream",
          "name": "stdout",
          "text": [
            "Epoch 100   Generator Loss : 1.10146   Discriminator Loss : 1.16822   Time : 6.290 seconds\n"
          ]
        }
      ]
    },
    {
      "cell_type": "markdown",
      "source": [
        "# 4. Save Result as a GIF"
      ],
      "metadata": {
        "id": "ZYO-ZFt2WEMC"
      }
    },
    {
      "cell_type": "code",
      "source": [
        "def gif_generation():\n",
        "    anim_file = 'results/dcgan.gif'\n",
        "\n",
        "    with imageio.get_writer(anim_file, mode='I') as writer:\n",
        "        filenames = glob.glob('results/image*.png')\n",
        "        filenames = sorted(filenames)\n",
        "        last = -1\n",
        "        for i, filename in enumerate(filenames):\n",
        "            frame = 2 * (i ** 0.5)\n",
        "            if round(frame) > round(last):\n",
        "                last = frame\n",
        "            else:\n",
        "                continue\n",
        "            image = imageio.imread(filename)\n",
        "            writer.append_data(image)\n",
        "        image = imageio.imread(filename)\n",
        "        writer.append_data(image)\n",
        "\n",
        "    import IPython\n",
        "    if IPython.version_info > (6, 2, 0, ''):\n",
        "        display.Image(filename=anim_file)"
      ],
      "metadata": {
        "id": "OACLBkbWTGJf"
      },
      "execution_count": 14,
      "outputs": []
    },
    {
      "cell_type": "code",
      "source": [
        "gif_generation()"
      ],
      "metadata": {
        "id": "FMJFnJflTF_M"
      },
      "execution_count": 15,
      "outputs": []
    }
  ]
}