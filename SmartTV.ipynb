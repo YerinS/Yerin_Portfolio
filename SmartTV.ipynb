{
 "cells": [
  {
   "cell_type": "markdown",
   "id": "1b6fdcbc",
   "metadata": {},
   "source": [
    "# Why Is Samsung Smart TV Not For Me?"
   ]
  },
  {
   "cell_type": "markdown",
   "id": "606bbf26",
   "metadata": {},
   "source": [
    "## 1. ASK\n",
    "### Define the problem & ask the right question"
   ]
  },
  {
   "cell_type": "markdown",
   "id": "d829374f",
   "metadata": {},
   "source": [
    "- What smart TV should I buy?\n",
    "\n",
    "\n",
    "- I asked my parents and friends for recommendations. My parents recommended Samsung products(as always), and my friends recommended Theham and Innos products. Theham and Innos are SMEs based in Seoul and specialized in the development and sales of TVs.\n",
    "\n",
    "\n",
    "- I like to refer to Naver Shopping's price comparisons and reviews when purchasing products with a wide range of choices. So, again, I decided to look into the products people bought the most on Naver Shopping."
   ]
  },
  {
   "cell_type": "markdown",
   "id": "6cbcbcfc",
   "metadata": {},
   "source": [
    "## 2. PREPARE\n",
    "### Collect data"
   ]
  },
  {
   "cell_type": "code",
   "execution_count": 1,
   "id": "f5c2207c",
   "metadata": {},
   "outputs": [],
   "source": [
    "from selenium import webdriver\n",
    "from bs4 import BeautifulSoup\n",
    "import time\n",
    "from tqdm import tqdm_notebook\n",
    "import pandas as pd\n",
    "from matplotlib import font_manager, rc\n",
    "import matplotlib.pyplot as plt\n",
    "%matplotlib inline\n",
    "import seaborn as sns\n",
    "import platform \n",
    "import warnings\n",
    "warnings.filterwarnings('ignore')"
   ]
  },
  {
   "cell_type": "markdown",
   "id": "60aa8353",
   "metadata": {},
   "source": [
    "- Crawled data from https://search.shopping.naver.com/ on 2nd FEB, 2022"
   ]
  },
  {
   "cell_type": "code",
   "execution_count": 2,
   "id": "55625c12",
   "metadata": {},
   "outputs": [],
   "source": [
    "driver = webdriver.Chrome('c:/YS/chromedriver.exe')\n",
    "url = \"https://search.shopping.naver.com/search/all?frm=NVSHMDL&origQuery=smartTV&pagingIndex=1&pagingSize=40&productSet=model&query=smartTV&sort=review&timestamp=&viewType=list\"\n",
    "driver.get(url)"
   ]
  },
  {
   "cell_type": "markdown",
   "id": "bc1525d1",
   "metadata": {},
   "source": [
    "- Parse HTML"
   ]
  },
  {
   "cell_type": "code",
   "execution_count": 3,
   "id": "4a1b557d",
   "metadata": {},
   "outputs": [],
   "source": [
    "html = driver.page_source\n",
    "soup = BeautifulSoup(html, 'html.parser')"
   ]
  },
  {
   "cell_type": "code",
   "execution_count": 4,
   "id": "a9e96cf4",
   "metadata": {
    "scrolled": true
   },
   "outputs": [
    {
     "data": {
      "text/plain": [
       "40"
      ]
     },
     "execution_count": 4,
     "metadata": {},
     "output_type": "execute_result"
    }
   ],
   "source": [
    "prod_items = soup.select('div.basicList_inner__eY_mq')\n",
    "len(prod_items)"
   ]
  },
  {
   "cell_type": "markdown",
   "id": "5febc699",
   "metadata": {},
   "source": [
    "- Extract product information from HTML"
   ]
  },
  {
   "cell_type": "code",
   "execution_count": 5,
   "id": "3bc31471",
   "metadata": {
    "scrolled": true
   },
   "outputs": [
    {
     "name": "stdout",
     "output_type": "stream",
     "text": [
      "이노스 S6501KU\n"
     ]
    }
   ],
   "source": [
    "title = prod_items[0].select('div.basicList_title__3P9Q7 > a')[0].text.strip()\n",
    "print(title)"
   ]
  },
  {
   "cell_type": "code",
   "execution_count": 6,
   "id": "47ad118d",
   "metadata": {},
   "outputs": [
    {
     "name": "stdout",
     "output_type": "stream",
     "text": [
      "종류 : LED|TV화면크기 : 165.1cm(65인치)|해상도 : UHD(4K)|패널 : LG패널|스마트 : 쿼드코어, 유튜브, 인터넷, 스마트리모컨, 넷플릭스5.1, 프라임비디오|출시년도 : 2021년형|기술 : HDR10|기능 : 크로마서브샘플링(4:4:4)|USB기능 : USB재생(동영상,사진)|부가기능 : WiFi, 스피커내장, 스마트기능, 게임TV, HDMI 2.0 지원, 플리커프리, HDMI ARC, HDMI CEC, 3초 부팅, HDCP 2.2 지원|파일공유 : WiFi다이렉트|화면공유 : 스크린미러링, 미라캐스트, 스마트뷰, Wi-Di, 스크린캐스트|음향 : 10W(2채널), 돌비디지털Plus|백라이트 : 직하형|명암비 : 1,500 : 1|응답속도 : 6ms|주사율 : 60Hz|색표현 : 10bit컬러지원|밝기 : 400CD|동적명암비 : 1,000,000 : 1|화면비율 : 16:9|인공지능프로세서 : MSTAR 6886칩셋|구성품 : 스마트리모컨, 통합리모컨|서브픽셀 : RGB|VESA간격 : 300x200mm|단자 : HDMI(3개), USB(2개), 이어폰, RF, LAN, Optical|LAN : 유,무선랜|에너지효율 : 1등급|소비전력 : 62W|평균소비전력 : 180W|대기전력 : 0.3W|제품무상보증 : 1년(+유상:4년)|패널무상보증 : 2년|형태 : 평면형|무게(스탠드제외) : 16.8 (스탠드포함)kg|두께 : 258 (스탠드포함)mm|1년전기료 : 약 22,000원\n"
     ]
    }
   ],
   "source": [
    "spec_list = prod_items[0].select('div.basicList_detail_box__3ta3h')[0].text.strip()\n",
    "print(spec_list)"
   ]
  },
  {
   "cell_type": "code",
   "execution_count": 7,
   "id": "19bc3002",
   "metadata": {},
   "outputs": [
    {
     "name": "stdout",
     "output_type": "stream",
     "text": [
      "588000원\n"
     ]
    }
   ],
   "source": [
    "price = prod_items[0].select('span.price_num__2WUXn')[0].text.strip().replace(\",\",\"\")\n",
    "print(price)"
   ]
  },
  {
   "cell_type": "code",
   "execution_count": 8,
   "id": "0d0959b1",
   "metadata": {},
   "outputs": [
    {
     "name": "stdout",
     "output_type": "stream",
     "text": [
      "7114\n"
     ]
    }
   ],
   "source": [
    "reviews = prod_items[0].select('em.basicList_num__1yXM9')[0].text.strip().replace(\",\",\"\")\n",
    "print(reviews)"
   ]
  },
  {
   "cell_type": "code",
   "execution_count": 9,
   "id": "7292fd9b",
   "metadata": {
    "scrolled": true
   },
   "outputs": [
    {
     "name": "stdout",
     "output_type": "stream",
     "text": [
      "40\n"
     ]
    }
   ],
   "source": [
    "prod_data = []\n",
    "for prod_item in prod_items:\n",
    "    try:\n",
    "        title = prod_item.select('div.basicList_title__3P9Q7 > a')[0].text.strip()\n",
    "        spec_list = prod_item.select('div.basicList_info_area__17Xyo')[0].text.strip()\n",
    "        price = prod_item.select('span.price_num__2WUXn')[0].text.strip().replace(\",\", \"\")\n",
    "        reviews = prod_items[0].select('em.basicList_num__1yXM9')[0].text.strip().replace(\",\",\"\")\n",
    "        prod_data.append([title, spec_list, price])\n",
    "    except:\n",
    "        pass \n",
    "print(len(prod_data))\n",
    "#print(prod_data)"
   ]
  },
  {
   "cell_type": "code",
   "execution_count": 10,
   "id": "49d21c8d",
   "metadata": {},
   "outputs": [],
   "source": [
    "def get_prod_items(prod_items):\n",
    "    prod_data = []\n",
    "    for prod_item in prod_items:\n",
    "        try:\n",
    "            title = prod_item.select('div.basicList_title__3P9Q7 > a')[0].text.strip()\n",
    "            spec_list = prod_item.select('div.basicList_detail_box__3ta3h')[0].text.strip()\n",
    "            price = prod_item.select('span.price_num__2WUXn')[0].text.strip().replace(\",\", \"\")\n",
    "            reviews = prod_item.select('em.basicList_num__1yXM9')[0].text.strip().replace(\",\",\"\")\n",
    "            prod_data.append([title, spec_list, price, reviews])\n",
    "        except:\n",
    "            pass  \n",
    "    return prod_data"
   ]
  },
  {
   "cell_type": "code",
   "execution_count": 11,
   "id": "39da08ed",
   "metadata": {},
   "outputs": [
    {
     "name": "stdout",
     "output_type": "stream",
     "text": [
      "40\n"
     ]
    }
   ],
   "source": [
    "prod_items = soup.select('li.basicList_item__2XT81 > div.basicList_inner__eY_mq')\n",
    "prod_data = get_prod_items(prod_items)\n",
    "print(len(prod_data))"
   ]
  },
  {
   "cell_type": "code",
   "execution_count": 12,
   "id": "dcd03d13",
   "metadata": {},
   "outputs": [
    {
     "name": "stdout",
     "output_type": "stream",
     "text": [
      "https://search.shopping.naver.com/search/all?frm=NVSHMDL&pagingIndex=1&pagingSize=40&productSet=model&query=smartTV&sort=review&timestamp=&maxPrice=3000000&minPrice=0&viewType=list\n"
     ]
    }
   ],
   "source": [
    "def get_search_page_url(keyword, page, maxprice):\n",
    "    return \"https://search.shopping.naver.com/search/all?frm=NVSHMDL&pagingIndex={}&pagingSize=40&productSet=model&query={}&sort=review&timestamp=&maxPrice={}&minPrice=0&viewType=list\".format(page, keyword, maxprice)\n",
    "\n",
    "keyword = 'smartTV'\n",
    "page = 1\n",
    "maxprice = '3000000'\n",
    "url = get_search_page_url(keyword, page, maxprice)\n",
    "print(url)"
   ]
  },
  {
   "cell_type": "code",
   "execution_count": 13,
   "id": "ec4396b3",
   "metadata": {},
   "outputs": [
    {
     "data": {
      "application/vnd.jupyter.widget-view+json": {
       "model_id": "d48b826c297f4618830660be76f594ea",
       "version_major": 2,
       "version_minor": 0
      },
      "text/plain": [
       "  0%|          | 0/5 [00:00<?, ?it/s]"
      ]
     },
     "metadata": {},
     "output_type": "display_data"
    }
   ],
   "source": [
    "driver = webdriver.Chrome('c:/YS/chromedriver.exe')\n",
    "driver.implicitly_wait(3)\n",
    "\n",
    "keyword = 'smartTV'\n",
    "total_page = 5\n",
    "prod_data_total = []\n",
    "\n",
    "for page in tqdm_notebook(range(1, total_page + 1)):\n",
    "    url = get_search_page_url(keyword, page, maxprice)\n",
    "    driver.get(url)\n",
    "    time.sleep(5)\n",
    "\n",
    "    html = driver.page_source\n",
    "    soup = BeautifulSoup(html, 'html.parser')\n",
    "\n",
    "    prod_items = soup.select('li.basicList_item__2XT81 > div.basicList_inner__eY_mq')\n",
    "    prod_item_list = get_prod_items(prod_items)\n",
    "    \n",
    "    prod_data_total = prod_data_total + prod_item_list"
   ]
  },
  {
   "cell_type": "markdown",
   "id": "69de43a0",
   "metadata": {},
   "source": [
    "- Save collected data"
   ]
  },
  {
   "cell_type": "code",
   "execution_count": 14,
   "id": "f0807d70",
   "metadata": {},
   "outputs": [],
   "source": [
    "data = pd.DataFrame(prod_data_total)\n",
    "data.columns = ['Title', 'Specs', 'Price', 'Reviews']\n",
    "data.to_excel('./files/naver_crawling_result.xlsx', index = False)"
   ]
  },
  {
   "cell_type": "markdown",
   "id": "964b0158",
   "metadata": {},
   "source": [
    "## 3. PROCESS\n",
    "### Clean data, determine data bias, make data more consistent"
   ]
  },
  {
   "cell_type": "code",
   "execution_count": 15,
   "id": "f5199dfe",
   "metadata": {
    "scrolled": false
   },
   "outputs": [
    {
     "name": "stdout",
     "output_type": "stream",
     "text": [
      "<class 'pandas.core.frame.DataFrame'>\n",
      "RangeIndex: 196 entries, 0 to 195\n",
      "Data columns (total 4 columns):\n",
      " #   Column   Non-Null Count  Dtype \n",
      "---  ------   --------------  ----- \n",
      " 0   Title    196 non-null    object\n",
      " 1   Specs    196 non-null    object\n",
      " 2   Price    196 non-null    object\n",
      " 3   Reviews  196 non-null    int64 \n",
      "dtypes: int64(1), object(3)\n",
      "memory usage: 6.2+ KB\n"
     ]
    }
   ],
   "source": [
    "data = pd.read_excel('./files/naver_crawling_result.xlsx')\n",
    "data.info()"
   ]
  },
  {
   "cell_type": "markdown",
   "id": "1484a2d7",
   "metadata": {},
   "source": [
    "- 196 products as 4 out of 200 are EoS"
   ]
  },
  {
   "cell_type": "code",
   "execution_count": 16,
   "id": "4d8cc188",
   "metadata": {},
   "outputs": [
    {
     "data": {
      "text/html": [
       "<div>\n",
       "<style scoped>\n",
       "    .dataframe tbody tr th:only-of-type {\n",
       "        vertical-align: middle;\n",
       "    }\n",
       "\n",
       "    .dataframe tbody tr th {\n",
       "        vertical-align: top;\n",
       "    }\n",
       "\n",
       "    .dataframe thead th {\n",
       "        text-align: right;\n",
       "    }\n",
       "</style>\n",
       "<table border=\"1\" class=\"dataframe\">\n",
       "  <thead>\n",
       "    <tr style=\"text-align: right;\">\n",
       "      <th></th>\n",
       "      <th>Title</th>\n",
       "      <th>Specs</th>\n",
       "      <th>Price</th>\n",
       "      <th>Reviews</th>\n",
       "    </tr>\n",
       "  </thead>\n",
       "  <tbody>\n",
       "    <tr>\n",
       "      <th>0</th>\n",
       "      <td>이노스 S6501KU</td>\n",
       "      <td>종류 : LED|TV화면크기 : 165.1cm(65인치)|해상도 : UHD(4K)|...</td>\n",
       "      <td>588000원</td>\n",
       "      <td>7114</td>\n",
       "    </tr>\n",
       "    <tr>\n",
       "      <th>1</th>\n",
       "      <td>더함 코스모 C551UHD</td>\n",
       "      <td>종류 : LED|TV화면크기 : 139.7cm(55인치)|해상도 : UHD(4K)|...</td>\n",
       "      <td>343100원</td>\n",
       "      <td>5793</td>\n",
       "    </tr>\n",
       "    <tr>\n",
       "      <th>2</th>\n",
       "      <td>더함 노바 N431UHD IPS</td>\n",
       "      <td>종류 : LED|TV화면크기 : 109.22cm(43인치)|해상도 : UHD(4K)...</td>\n",
       "      <td>278950원</td>\n",
       "      <td>5644</td>\n",
       "    </tr>\n",
       "    <tr>\n",
       "      <th>3</th>\n",
       "      <td>삼성전자 삼성 KU65UT8070FXKR</td>\n",
       "      <td>종류 : LED|TV화면크기 : 165.1cm(65인치)|해상도 : UHD(4K)|...</td>\n",
       "      <td>1248870원</td>\n",
       "      <td>4944</td>\n",
       "    </tr>\n",
       "    <tr>\n",
       "      <th>4</th>\n",
       "      <td>삼성전자 삼성 KU75UT8070FXKR</td>\n",
       "      <td>종류 : LED|TV화면크기 : 190.5cm(75인치)|해상도 : UHD(4K)|...</td>\n",
       "      <td>2089000원</td>\n",
       "      <td>4886</td>\n",
       "    </tr>\n",
       "  </tbody>\n",
       "</table>\n",
       "</div>"
      ],
      "text/plain": [
       "                    Title                                              Specs  \\\n",
       "0             이노스 S6501KU  종류 : LED|TV화면크기 : 165.1cm(65인치)|해상도 : UHD(4K)|...   \n",
       "1          더함 코스모 C551UHD  종류 : LED|TV화면크기 : 139.7cm(55인치)|해상도 : UHD(4K)|...   \n",
       "2       더함 노바 N431UHD IPS  종류 : LED|TV화면크기 : 109.22cm(43인치)|해상도 : UHD(4K)...   \n",
       "3  삼성전자 삼성 KU65UT8070FXKR  종류 : LED|TV화면크기 : 165.1cm(65인치)|해상도 : UHD(4K)|...   \n",
       "4  삼성전자 삼성 KU75UT8070FXKR  종류 : LED|TV화면크기 : 190.5cm(75인치)|해상도 : UHD(4K)|...   \n",
       "\n",
       "      Price  Reviews  \n",
       "0   588000원     7114  \n",
       "1   343100원     5793  \n",
       "2   278950원     5644  \n",
       "3  1248870원     4944  \n",
       "4  2089000원     4886  "
      ]
     },
     "execution_count": 16,
     "metadata": {},
     "output_type": "execute_result"
    }
   ],
   "source": [
    "data.head()"
   ]
  },
  {
   "cell_type": "markdown",
   "id": "e323953a",
   "metadata": {},
   "source": [
    "- Split Title into Brand and Model"
   ]
  },
  {
   "cell_type": "code",
   "execution_count": 17,
   "id": "3433d4b5",
   "metadata": {},
   "outputs": [],
   "source": [
    "brand_list = []\n",
    "product_list = []\n",
    "for title in data['Title']:\n",
    "    title_info = title.split(' ', 1)\n",
    "    brand_name = title_info[0]\n",
    "    product_name = title_info[1]\n",
    "    brand_list.append(brand_name)\n",
    "    product_list.append(product_name)"
   ]
  },
  {
   "cell_type": "markdown",
   "id": "22458786",
   "metadata": {},
   "source": [
    "- Find resolution and screen size from Specs"
   ]
  },
  {
   "cell_type": "code",
   "execution_count": 18,
   "id": "a09ea370",
   "metadata": {},
   "outputs": [
    {
     "data": {
      "text/plain": [
       "['종류 : LED',\n",
       " 'TV화면크기 : 165.1cm(65인치)',\n",
       " '해상도 : UHD(4K)',\n",
       " '패널 : LG패널',\n",
       " '스마트 : 쿼드코어, 유튜브, 인터넷, 스마트리모컨, 넷플릭스5.1, 프라임비디오',\n",
       " '출시년도 : 2021년형',\n",
       " '기술 : HDR10',\n",
       " '기능 : 크로마서브샘플링(4:4:4)',\n",
       " 'USB기능 : USB재생(동영상,사진)',\n",
       " '부가기능 : WiFi, 스피커내장, 스마트기능, 게임TV, HDMI 2.0 지원, 플리커프리, HDMI ARC, HDMI CEC, 3초 부팅, HDCP 2.2 지원',\n",
       " '파일공유 : WiFi다이렉트',\n",
       " '화면공유 : 스크린미러링, 미라캐스트, 스마트뷰, Wi-Di, 스크린캐스트',\n",
       " '음향 : 10W(2채널), 돌비디지털Plus',\n",
       " '백라이트 : 직하형',\n",
       " '명암비 : 1,500 : 1',\n",
       " '응답속도 : 6ms',\n",
       " '주사율 : 60Hz',\n",
       " '색표현 : 10bit컬러지원',\n",
       " '밝기 : 400CD',\n",
       " '동적명암비 : 1,000,000 : 1',\n",
       " '화면비율 : 16:9',\n",
       " '인공지능프로세서 : MSTAR 6886칩셋',\n",
       " '구성품 : 스마트리모컨, 통합리모컨',\n",
       " '서브픽셀 : RGB',\n",
       " 'VESA간격 : 300x200mm',\n",
       " '단자 : HDMI(3개), USB(2개), 이어폰, RF, LAN, Optical',\n",
       " 'LAN : 유,무선랜',\n",
       " '에너지효율 : 1등급',\n",
       " '소비전력 : 62W',\n",
       " '평균소비전력 : 180W',\n",
       " '대기전력 : 0.3W',\n",
       " '제품무상보증 : 1년(+유상:4년)',\n",
       " '패널무상보증 : 2년',\n",
       " '형태 : 평면형',\n",
       " '무게(스탠드제외) : 16.8 (스탠드포함)kg',\n",
       " '두께 : 258 (스탠드포함)mm',\n",
       " '1년전기료 : 약 22,000원']"
      ]
     },
     "execution_count": 18,
     "metadata": {},
     "output_type": "execute_result"
    }
   ],
   "source": [
    "spec_list = data['Specs'][0].split('|')\n",
    "spec_list "
   ]
  },
  {
   "cell_type": "code",
   "execution_count": 19,
   "id": "a065af28",
   "metadata": {},
   "outputs": [
    {
     "name": "stdout",
     "output_type": "stream",
     "text": [
      "해상도 : UHD(4K)\n",
      "TV화면크기 : 165.1cm(65인치)\n"
     ]
    }
   ],
   "source": [
    "for spec in spec_list:\n",
    "    if '해상도' in spec:  # Resolution \n",
    "         panel_spec = spec \n",
    "    elif 'TV화면크기' in spec:  # Screen Size\n",
    "        size_spec = spec\n",
    "        \n",
    "print(panel_spec)\n",
    "print(size_spec)"
   ]
  },
  {
   "cell_type": "code",
   "execution_count": 20,
   "id": "363bb152",
   "metadata": {},
   "outputs": [
    {
     "name": "stdout",
     "output_type": "stream",
     "text": [
      "UHD(4K)\n",
      "165.1cm(65인치)\n"
     ]
    }
   ],
   "source": [
    "panel_value = panel_spec.split(' : ')[1].strip()\n",
    "size_value = size_spec.split(' : ')[1].strip()\n",
    "\n",
    "print(panel_value)\n",
    "print(size_value)"
   ]
  },
  {
   "cell_type": "code",
   "execution_count": 21,
   "id": "6b6e8e1b",
   "metadata": {},
   "outputs": [],
   "source": [
    "panel_list = []\n",
    "size_list = [] \n",
    "\n",
    "for spec_data in data['Specs']:\n",
    "    spec_list = spec_data.split('|')\n",
    "\n",
    "    panel_value = None \n",
    "    size_value = None \n",
    "\n",
    "    for spec in spec_list:\n",
    "        if '해상도' in spec: \n",
    "            panel_value = spec.split(' : ')[1].strip()             \n",
    "        if 'TV화면크기' in spec:\n",
    "            size_value = spec.split(' : ')[1].strip() \n",
    "    panel_list.append(panel_value)\n",
    "    size_list.append(size_value)"
   ]
  },
  {
   "cell_type": "code",
   "execution_count": 22,
   "id": "31d239a6",
   "metadata": {},
   "outputs": [
    {
     "name": "stdout",
     "output_type": "stream",
     "text": [
      "Resolution : 196 ['UHD(4K)', 'UHD(4K)', 'UHD(4K)', 'UHD(4K)', 'UHD(4K)']\n",
      "Screen Size : 196 ['165.1cm(65인치)', '139.7cm(55인치)', '109.22cm(43인치)', '165.1cm(65인치)', '190.5cm(75인치)']\n"
     ]
    }
   ],
   "source": [
    "print(\"Resolution :\", len(panel_list), panel_list[0:5])\n",
    "print(\"Screen Size :\", len(size_list), size_list[0:5])"
   ]
  },
  {
   "cell_type": "code",
   "execution_count": 23,
   "id": "1de3b9ce",
   "metadata": {},
   "outputs": [],
   "source": [
    "reviews_list = []\n",
    "for reviews in data['Reviews']:\n",
    "    reviews_list.append(reviews)"
   ]
  },
  {
   "cell_type": "markdown",
   "id": "10d1c1f6",
   "metadata": {},
   "source": [
    "- Save preprocessed data"
   ]
  },
  {
   "cell_type": "code",
   "execution_count": 24,
   "id": "700bf259",
   "metadata": {
    "scrolled": true
   },
   "outputs": [
    {
     "data": {
      "text/html": [
       "<div>\n",
       "<style scoped>\n",
       "    .dataframe tbody tr th:only-of-type {\n",
       "        vertical-align: middle;\n",
       "    }\n",
       "\n",
       "    .dataframe tbody tr th {\n",
       "        vertical-align: top;\n",
       "    }\n",
       "\n",
       "    .dataframe thead th {\n",
       "        text-align: right;\n",
       "    }\n",
       "</style>\n",
       "<table border=\"1\" class=\"dataframe\">\n",
       "  <thead>\n",
       "    <tr style=\"text-align: right;\">\n",
       "      <th></th>\n",
       "      <th>Brand</th>\n",
       "      <th>Model</th>\n",
       "      <th>Price</th>\n",
       "      <th>Resolution</th>\n",
       "      <th>Screen Size</th>\n",
       "      <th>Reviews</th>\n",
       "    </tr>\n",
       "  </thead>\n",
       "  <tbody>\n",
       "    <tr>\n",
       "      <th>0</th>\n",
       "      <td>이노스</td>\n",
       "      <td>S6501KU</td>\n",
       "      <td>588000원</td>\n",
       "      <td>UHD(4K)</td>\n",
       "      <td>165.1cm(65인치)</td>\n",
       "      <td>7114</td>\n",
       "    </tr>\n",
       "    <tr>\n",
       "      <th>1</th>\n",
       "      <td>더함</td>\n",
       "      <td>코스모 C551UHD</td>\n",
       "      <td>343100원</td>\n",
       "      <td>UHD(4K)</td>\n",
       "      <td>139.7cm(55인치)</td>\n",
       "      <td>5793</td>\n",
       "    </tr>\n",
       "    <tr>\n",
       "      <th>2</th>\n",
       "      <td>더함</td>\n",
       "      <td>노바 N431UHD IPS</td>\n",
       "      <td>278950원</td>\n",
       "      <td>UHD(4K)</td>\n",
       "      <td>109.22cm(43인치)</td>\n",
       "      <td>5644</td>\n",
       "    </tr>\n",
       "    <tr>\n",
       "      <th>3</th>\n",
       "      <td>삼성전자</td>\n",
       "      <td>삼성 KU65UT8070FXKR</td>\n",
       "      <td>1248870원</td>\n",
       "      <td>UHD(4K)</td>\n",
       "      <td>165.1cm(65인치)</td>\n",
       "      <td>4944</td>\n",
       "    </tr>\n",
       "    <tr>\n",
       "      <th>4</th>\n",
       "      <td>삼성전자</td>\n",
       "      <td>삼성 KU75UT8070FXKR</td>\n",
       "      <td>2089000원</td>\n",
       "      <td>UHD(4K)</td>\n",
       "      <td>190.5cm(75인치)</td>\n",
       "      <td>4886</td>\n",
       "    </tr>\n",
       "  </tbody>\n",
       "</table>\n",
       "</div>"
      ],
      "text/plain": [
       "  Brand              Model     Price Resolution     Screen Size  Reviews\n",
       "0   이노스            S6501KU   588000원    UHD(4K)   165.1cm(65인치)     7114\n",
       "1    더함        코스모 C551UHD   343100원    UHD(4K)   139.7cm(55인치)     5793\n",
       "2    더함     노바 N431UHD IPS   278950원    UHD(4K)  109.22cm(43인치)     5644\n",
       "3  삼성전자  삼성 KU65UT8070FXKR  1248870원    UHD(4K)   165.1cm(65인치)     4944\n",
       "4  삼성전자  삼성 KU75UT8070FXKR  2089000원    UHD(4K)   190.5cm(75인치)     4886"
      ]
     },
     "execution_count": 24,
     "metadata": {},
     "output_type": "execute_result"
    }
   ],
   "source": [
    "pd_data = pd.DataFrame()\n",
    "pd_data['Brand'] = brand_list\n",
    "pd_data['Model'] = product_list\n",
    "pd_data['Price'] = data['Price']\n",
    "pd_data['Resolution'] = panel_list\n",
    "pd_data['Screen Size'] = size_list\n",
    "pd_data['Reviews'] = reviews_list\n",
    "pd_data.head()"
   ]
  },
  {
   "cell_type": "code",
   "execution_count": 25,
   "id": "9fc91354",
   "metadata": {},
   "outputs": [
    {
     "data": {
      "text/plain": [
       "array(['이노스', '더함', '삼성전자', '이스트라', '루컴즈전자', 'LG전자', '프리즘코리아', '유맥스',\n",
       "       '한성컴퓨터', '와사비망고', '필립스', '피디케이전자', '앤트웍스', '이엔티비', '스마트뷰', '라익미'],\n",
       "      dtype=object)"
      ]
     },
     "execution_count": 25,
     "metadata": {},
     "output_type": "execute_result"
    }
   ],
   "source": [
    "pd_data['Brand'].unique()"
   ]
  },
  {
   "cell_type": "code",
   "execution_count": 26,
   "id": "8731f7ad",
   "metadata": {},
   "outputs": [
    {
     "data": {
      "text/plain": [
       "array(['Innos', 'Theham', 'Samsung', 'Estla', 'Lucoms', 'LG',\n",
       "       'Prismkorea', 'Umaxx', 'Hansung', 'Wasabimango', 'Philips', 'PDK',\n",
       "       'Antworks', 'ENTV', 'Smartview', 'Likeme'], dtype=object)"
      ]
     },
     "execution_count": 26,
     "metadata": {},
     "output_type": "execute_result"
    }
   ],
   "source": [
    "pd_data['Brand'] = pd_data['Brand'].replace({'이노스':'Innos', '더함':'Theham', '삼성전자':'Samsung', '이스트라':'Estla', \n",
    "                                             '루컴즈전자':'Lucoms', 'LG전자':'LG', '프리즘코리아':'Prismkorea', '유맥스':'Umaxx', \n",
    "                                             '한성컴퓨터':'Hansung', '와사비망고':'Wasabimango', '필립스':'Philips', '피디케이전자':'PDK', \n",
    "                                             '앤트웍스':'Antworks', '이엔티비':'ENTV', '스마트뷰':'Smartview', '라익미':'Likeme'})\n",
    "pd_data['Brand'].unique()"
   ]
  },
  {
   "cell_type": "code",
   "execution_count": 27,
   "id": "57166d48",
   "metadata": {},
   "outputs": [
    {
     "data": {
      "text/html": [
       "<div>\n",
       "<style scoped>\n",
       "    .dataframe tbody tr th:only-of-type {\n",
       "        vertical-align: middle;\n",
       "    }\n",
       "\n",
       "    .dataframe tbody tr th {\n",
       "        vertical-align: top;\n",
       "    }\n",
       "\n",
       "    .dataframe thead th {\n",
       "        text-align: right;\n",
       "    }\n",
       "</style>\n",
       "<table border=\"1\" class=\"dataframe\">\n",
       "  <thead>\n",
       "    <tr style=\"text-align: right;\">\n",
       "      <th></th>\n",
       "      <th>Brand</th>\n",
       "      <th>Model</th>\n",
       "      <th>Price</th>\n",
       "      <th>Resolution</th>\n",
       "      <th>Screen Size</th>\n",
       "      <th>Reviews</th>\n",
       "    </tr>\n",
       "  </thead>\n",
       "  <tbody>\n",
       "    <tr>\n",
       "      <th>0</th>\n",
       "      <td>Innos</td>\n",
       "      <td>S6501KU</td>\n",
       "      <td>588000</td>\n",
       "      <td>UHD(4K)</td>\n",
       "      <td>65</td>\n",
       "      <td>7114</td>\n",
       "    </tr>\n",
       "    <tr>\n",
       "      <th>1</th>\n",
       "      <td>Theham</td>\n",
       "      <td>코스모 C551UHD</td>\n",
       "      <td>343100</td>\n",
       "      <td>UHD(4K)</td>\n",
       "      <td>55</td>\n",
       "      <td>5793</td>\n",
       "    </tr>\n",
       "    <tr>\n",
       "      <th>2</th>\n",
       "      <td>Theham</td>\n",
       "      <td>노바 N431UHD IPS</td>\n",
       "      <td>278950</td>\n",
       "      <td>UHD(4K)</td>\n",
       "      <td>43</td>\n",
       "      <td>5644</td>\n",
       "    </tr>\n",
       "    <tr>\n",
       "      <th>3</th>\n",
       "      <td>Samsung</td>\n",
       "      <td>삼성 KU65UT8070FXKR</td>\n",
       "      <td>1248870</td>\n",
       "      <td>UHD(4K)</td>\n",
       "      <td>65</td>\n",
       "      <td>4944</td>\n",
       "    </tr>\n",
       "    <tr>\n",
       "      <th>4</th>\n",
       "      <td>Samsung</td>\n",
       "      <td>삼성 KU75UT8070FXKR</td>\n",
       "      <td>2089000</td>\n",
       "      <td>UHD(4K)</td>\n",
       "      <td>75</td>\n",
       "      <td>4886</td>\n",
       "    </tr>\n",
       "  </tbody>\n",
       "</table>\n",
       "</div>"
      ],
      "text/plain": [
       "     Brand              Model    Price Resolution Screen Size  Reviews\n",
       "0    Innos            S6501KU   588000    UHD(4K)          65     7114\n",
       "1   Theham        코스모 C551UHD   343100    UHD(4K)          55     5793\n",
       "2   Theham     노바 N431UHD IPS   278950    UHD(4K)          43     5644\n",
       "3  Samsung  삼성 KU65UT8070FXKR  1248870    UHD(4K)          65     4944\n",
       "4  Samsung  삼성 KU75UT8070FXKR  2089000    UHD(4K)          75     4886"
      ]
     },
     "execution_count": 27,
     "metadata": {},
     "output_type": "execute_result"
    }
   ],
   "source": [
    "pd_data['Price'] = pd_data['Price'].str.replace('원','')  # KRW\n",
    "pd_data['Screen Size'] = pd_data['Screen Size'].str[-5:-3]  # Inches\n",
    "pd_data.head()"
   ]
  },
  {
   "cell_type": "code",
   "execution_count": 28,
   "id": "9b9ebcd4",
   "metadata": {},
   "outputs": [],
   "source": [
    "pd_data_final = pd_data\n",
    "pd_data_final.to_excel('./files/naver_data_final.xlsx', index = False)"
   ]
  },
  {
   "cell_type": "markdown",
   "id": "80e943f0",
   "metadata": {},
   "source": [
    "## 4. ANALYZE\n",
    "### What stories data's telling? Reveal gaps & opportunities"
   ]
  },
  {
   "cell_type": "code",
   "execution_count": 29,
   "id": "7f3d7b12",
   "metadata": {
    "scrolled": true
   },
   "outputs": [
    {
     "data": {
      "text/html": [
       "<div>\n",
       "<style scoped>\n",
       "    .dataframe tbody tr th:only-of-type {\n",
       "        vertical-align: middle;\n",
       "    }\n",
       "\n",
       "    .dataframe tbody tr th {\n",
       "        vertical-align: top;\n",
       "    }\n",
       "\n",
       "    .dataframe thead th {\n",
       "        text-align: right;\n",
       "    }\n",
       "</style>\n",
       "<table border=\"1\" class=\"dataframe\">\n",
       "  <thead>\n",
       "    <tr style=\"text-align: right;\">\n",
       "      <th></th>\n",
       "      <th>Brand</th>\n",
       "      <th>Model</th>\n",
       "      <th>Price</th>\n",
       "      <th>Resolution</th>\n",
       "      <th>Screen Size</th>\n",
       "      <th>Reviews</th>\n",
       "    </tr>\n",
       "  </thead>\n",
       "  <tbody>\n",
       "    <tr>\n",
       "      <th>0</th>\n",
       "      <td>Innos</td>\n",
       "      <td>S6501KU</td>\n",
       "      <td>588000</td>\n",
       "      <td>UHD(4K)</td>\n",
       "      <td>65.0</td>\n",
       "      <td>7114</td>\n",
       "    </tr>\n",
       "    <tr>\n",
       "      <th>1</th>\n",
       "      <td>Theham</td>\n",
       "      <td>코스모 C551UHD</td>\n",
       "      <td>343100</td>\n",
       "      <td>UHD(4K)</td>\n",
       "      <td>55.0</td>\n",
       "      <td>5793</td>\n",
       "    </tr>\n",
       "    <tr>\n",
       "      <th>2</th>\n",
       "      <td>Theham</td>\n",
       "      <td>노바 N431UHD IPS</td>\n",
       "      <td>278950</td>\n",
       "      <td>UHD(4K)</td>\n",
       "      <td>43.0</td>\n",
       "      <td>5644</td>\n",
       "    </tr>\n",
       "    <tr>\n",
       "      <th>3</th>\n",
       "      <td>Samsung</td>\n",
       "      <td>삼성 KU65UT8070FXKR</td>\n",
       "      <td>1248870</td>\n",
       "      <td>UHD(4K)</td>\n",
       "      <td>65.0</td>\n",
       "      <td>4944</td>\n",
       "    </tr>\n",
       "    <tr>\n",
       "      <th>4</th>\n",
       "      <td>Samsung</td>\n",
       "      <td>삼성 KU75UT8070FXKR</td>\n",
       "      <td>2089000</td>\n",
       "      <td>UHD(4K)</td>\n",
       "      <td>75.0</td>\n",
       "      <td>4886</td>\n",
       "    </tr>\n",
       "  </tbody>\n",
       "</table>\n",
       "</div>"
      ],
      "text/plain": [
       "     Brand              Model    Price Resolution  Screen Size  Reviews\n",
       "0    Innos            S6501KU   588000    UHD(4K)         65.0     7114\n",
       "1   Theham        코스모 C551UHD   343100    UHD(4K)         55.0     5793\n",
       "2   Theham     노바 N431UHD IPS   278950    UHD(4K)         43.0     5644\n",
       "3  Samsung  삼성 KU65UT8070FXKR  1248870    UHD(4K)         65.0     4944\n",
       "4  Samsung  삼성 KU75UT8070FXKR  2089000    UHD(4K)         75.0     4886"
      ]
     },
     "execution_count": 29,
     "metadata": {},
     "output_type": "execute_result"
    }
   ],
   "source": [
    "smarttv_data = pd.read_excel('./files/naver_data_final.xlsx')\n",
    "smarttv_data.head()"
   ]
  },
  {
   "cell_type": "code",
   "execution_count": 30,
   "id": "e95f83d5",
   "metadata": {},
   "outputs": [
    {
     "name": "stdout",
     "output_type": "stream",
     "text": [
      "32.0\n",
      "86.0\n"
     ]
    }
   ],
   "source": [
    "print(smarttv_data['Screen Size'].min())\n",
    "print(smarttv_data['Screen Size'].max())"
   ]
  },
  {
   "cell_type": "markdown",
   "id": "87a765ea",
   "metadata": {},
   "source": [
    "#### Screen sizes range from 32 to 86 inches"
   ]
  },
  {
   "cell_type": "code",
   "execution_count": 31,
   "id": "523c432e",
   "metadata": {},
   "outputs": [
    {
     "data": {
      "text/html": [
       "<div>\n",
       "<style scoped>\n",
       "    .dataframe tbody tr th:only-of-type {\n",
       "        vertical-align: middle;\n",
       "    }\n",
       "\n",
       "    .dataframe tbody tr th {\n",
       "        vertical-align: top;\n",
       "    }\n",
       "\n",
       "    .dataframe thead th {\n",
       "        text-align: right;\n",
       "    }\n",
       "</style>\n",
       "<table border=\"1\" class=\"dataframe\">\n",
       "  <thead>\n",
       "    <tr style=\"text-align: right;\">\n",
       "      <th></th>\n",
       "      <th>Brand</th>\n",
       "      <th>Model</th>\n",
       "      <th>Price</th>\n",
       "      <th>Resolution</th>\n",
       "      <th>Screen Size</th>\n",
       "      <th>Reviews</th>\n",
       "    </tr>\n",
       "  </thead>\n",
       "  <tbody>\n",
       "    <tr>\n",
       "      <th>130</th>\n",
       "      <td>Innos</td>\n",
       "      <td>S8601KU</td>\n",
       "      <td>1896730</td>\n",
       "      <td>UHD(4K)</td>\n",
       "      <td>86.0</td>\n",
       "      <td>277</td>\n",
       "    </tr>\n",
       "    <tr>\n",
       "      <th>165</th>\n",
       "      <td>Theham</td>\n",
       "      <td>우버 U863UHD IPS</td>\n",
       "      <td>1996170</td>\n",
       "      <td>UHD(4K)</td>\n",
       "      <td>86.0</td>\n",
       "      <td>172</td>\n",
       "    </tr>\n",
       "    <tr>\n",
       "      <th>182</th>\n",
       "      <td>LG</td>\n",
       "      <td>86UP8770PUA(해외전용)</td>\n",
       "      <td>2414990</td>\n",
       "      <td>UHD(4K)</td>\n",
       "      <td>86.0</td>\n",
       "      <td>149</td>\n",
       "    </tr>\n",
       "    <tr>\n",
       "      <th>190</th>\n",
       "      <td>Innos</td>\n",
       "      <td>네츄럴 S8630GG 스마트 Pure Sound</td>\n",
       "      <td>2096100</td>\n",
       "      <td>UHD(4K)</td>\n",
       "      <td>86.0</td>\n",
       "      <td>132</td>\n",
       "    </tr>\n",
       "    <tr>\n",
       "      <th>194</th>\n",
       "      <td>Estla</td>\n",
       "      <td>AN860UHD 안드로이드 더 스마트 AI</td>\n",
       "      <td>1990150</td>\n",
       "      <td>UHD(4K)</td>\n",
       "      <td>86.0</td>\n",
       "      <td>122</td>\n",
       "    </tr>\n",
       "    <tr>\n",
       "      <th>96</th>\n",
       "      <td>Samsung</td>\n",
       "      <td>삼성 KU85UA8070FXKR</td>\n",
       "      <td>2748890</td>\n",
       "      <td>UHD(4K)</td>\n",
       "      <td>85.0</td>\n",
       "      <td>398</td>\n",
       "    </tr>\n",
       "    <tr>\n",
       "      <th>122</th>\n",
       "      <td>Samsung</td>\n",
       "      <td>삼성 KQ85QA60AFXKR</td>\n",
       "      <td>2952550</td>\n",
       "      <td>UHD(4K)</td>\n",
       "      <td>85.0</td>\n",
       "      <td>298</td>\n",
       "    </tr>\n",
       "    <tr>\n",
       "      <th>140</th>\n",
       "      <td>Samsung</td>\n",
       "      <td>삼성 KU85UA7000FXKR</td>\n",
       "      <td>2348760</td>\n",
       "      <td>UHD(4K)</td>\n",
       "      <td>85.0</td>\n",
       "      <td>238</td>\n",
       "    </tr>\n",
       "    <tr>\n",
       "      <th>4</th>\n",
       "      <td>Samsung</td>\n",
       "      <td>삼성 KU75UT8070FXKR</td>\n",
       "      <td>2089000</td>\n",
       "      <td>UHD(4K)</td>\n",
       "      <td>75.0</td>\n",
       "      <td>4886</td>\n",
       "    </tr>\n",
       "    <tr>\n",
       "      <th>21</th>\n",
       "      <td>Samsung</td>\n",
       "      <td>삼성 KU75UA8070FXKR</td>\n",
       "      <td>1645820</td>\n",
       "      <td>UHD(4K)</td>\n",
       "      <td>75.0</td>\n",
       "      <td>1904</td>\n",
       "    </tr>\n",
       "    <tr>\n",
       "      <th>26</th>\n",
       "      <td>LG</td>\n",
       "      <td>75UN7850KNA</td>\n",
       "      <td>1653500</td>\n",
       "      <td>UHD(4K)</td>\n",
       "      <td>75.0</td>\n",
       "      <td>1598</td>\n",
       "    </tr>\n",
       "    <tr>\n",
       "      <th>36</th>\n",
       "      <td>Theham</td>\n",
       "      <td>우버 U751UHD</td>\n",
       "      <td>1054110</td>\n",
       "      <td>UHD(4K)</td>\n",
       "      <td>75.0</td>\n",
       "      <td>1143</td>\n",
       "    </tr>\n",
       "    <tr>\n",
       "      <th>37</th>\n",
       "      <td>Innos</td>\n",
       "      <td>S7501KU WIFI</td>\n",
       "      <td>999000</td>\n",
       "      <td>UHD(4K)</td>\n",
       "      <td>75.0</td>\n",
       "      <td>1142</td>\n",
       "    </tr>\n",
       "    <tr>\n",
       "      <th>39</th>\n",
       "      <td>LG</td>\n",
       "      <td>75UK7400KNA</td>\n",
       "      <td>2820000</td>\n",
       "      <td>NaN</td>\n",
       "      <td>75.0</td>\n",
       "      <td>1070</td>\n",
       "    </tr>\n",
       "    <tr>\n",
       "      <th>44</th>\n",
       "      <td>LG</td>\n",
       "      <td>75UM7100KNB</td>\n",
       "      <td>2334810</td>\n",
       "      <td>NaN</td>\n",
       "      <td>75.0</td>\n",
       "      <td>969</td>\n",
       "    </tr>\n",
       "    <tr>\n",
       "      <th>57</th>\n",
       "      <td>Samsung</td>\n",
       "      <td>삼성 KU75UT7080FXKR</td>\n",
       "      <td>1999890</td>\n",
       "      <td>UHD(4K)</td>\n",
       "      <td>75.0</td>\n",
       "      <td>690</td>\n",
       "    </tr>\n",
       "    <tr>\n",
       "      <th>75</th>\n",
       "      <td>Hansung</td>\n",
       "      <td>ELEX TV8750</td>\n",
       "      <td>1090000</td>\n",
       "      <td>UHD(4K)</td>\n",
       "      <td>75.0</td>\n",
       "      <td>499</td>\n",
       "    </tr>\n",
       "    <tr>\n",
       "      <th>83</th>\n",
       "      <td>Estla</td>\n",
       "      <td>COOCAA UC751UHD 더 스마트 AI PRO</td>\n",
       "      <td>1121260</td>\n",
       "      <td>NaN</td>\n",
       "      <td>75.0</td>\n",
       "      <td>457</td>\n",
       "    </tr>\n",
       "    <tr>\n",
       "      <th>86</th>\n",
       "      <td>Samsung</td>\n",
       "      <td>KU75UT7050FXKR</td>\n",
       "      <td>1645550</td>\n",
       "      <td>UHD(4K)</td>\n",
       "      <td>75.0</td>\n",
       "      <td>440</td>\n",
       "    </tr>\n",
       "    <tr>\n",
       "      <th>88</th>\n",
       "      <td>Innos</td>\n",
       "      <td>네츄럴 S7530GG 스마트 Pure Sound</td>\n",
       "      <td>1197950</td>\n",
       "      <td>UHD(4K)</td>\n",
       "      <td>75.0</td>\n",
       "      <td>428</td>\n",
       "    </tr>\n",
       "  </tbody>\n",
       "</table>\n",
       "</div>"
      ],
      "text/plain": [
       "       Brand                         Model    Price Resolution  Screen Size  \\\n",
       "130    Innos                       S8601KU  1896730    UHD(4K)         86.0   \n",
       "165   Theham                우버 U863UHD IPS  1996170    UHD(4K)         86.0   \n",
       "182       LG             86UP8770PUA(해외전용)  2414990    UHD(4K)         86.0   \n",
       "190    Innos    네츄럴 S8630GG 스마트 Pure Sound  2096100    UHD(4K)         86.0   \n",
       "194    Estla       AN860UHD 안드로이드 더 스마트 AI  1990150    UHD(4K)         86.0   \n",
       "96   Samsung             삼성 KU85UA8070FXKR  2748890    UHD(4K)         85.0   \n",
       "122  Samsung              삼성 KQ85QA60AFXKR  2952550    UHD(4K)         85.0   \n",
       "140  Samsung             삼성 KU85UA7000FXKR  2348760    UHD(4K)         85.0   \n",
       "4    Samsung             삼성 KU75UT8070FXKR  2089000    UHD(4K)         75.0   \n",
       "21   Samsung             삼성 KU75UA8070FXKR  1645820    UHD(4K)         75.0   \n",
       "26        LG                   75UN7850KNA  1653500    UHD(4K)         75.0   \n",
       "36    Theham                    우버 U751UHD  1054110    UHD(4K)         75.0   \n",
       "37     Innos                  S7501KU WIFI   999000    UHD(4K)         75.0   \n",
       "39        LG                   75UK7400KNA  2820000        NaN         75.0   \n",
       "44        LG                   75UM7100KNB  2334810        NaN         75.0   \n",
       "57   Samsung             삼성 KU75UT7080FXKR  1999890    UHD(4K)         75.0   \n",
       "75   Hansung                   ELEX TV8750  1090000    UHD(4K)         75.0   \n",
       "83     Estla  COOCAA UC751UHD 더 스마트 AI PRO  1121260        NaN         75.0   \n",
       "86   Samsung                KU75UT7050FXKR  1645550    UHD(4K)         75.0   \n",
       "88     Innos    네츄럴 S7530GG 스마트 Pure Sound  1197950    UHD(4K)         75.0   \n",
       "\n",
       "     Reviews  \n",
       "130      277  \n",
       "165      172  \n",
       "182      149  \n",
       "190      132  \n",
       "194      122  \n",
       "96       398  \n",
       "122      298  \n",
       "140      238  \n",
       "4       4886  \n",
       "21      1904  \n",
       "26      1598  \n",
       "36      1143  \n",
       "37      1142  \n",
       "39      1070  \n",
       "44       969  \n",
       "57       690  \n",
       "75       499  \n",
       "83       457  \n",
       "86       440  \n",
       "88       428  "
      ]
     },
     "execution_count": 31,
     "metadata": {},
     "output_type": "execute_result"
    }
   ],
   "source": [
    "top_list = smarttv_data.sort_values(['Screen Size','Reviews'], ascending=False)\n",
    "top_list.head(20)"
   ]
  },
  {
   "cell_type": "markdown",
   "id": "f00ed9e2",
   "metadata": {},
   "source": [
    "#### Large companies(Samsung and LG) are the major players in The market of 75 inch+ smart TVs"
   ]
  },
  {
   "cell_type": "code",
   "execution_count": 32,
   "id": "17a7491d",
   "metadata": {},
   "outputs": [
    {
     "name": "stdout",
     "output_type": "stream",
     "text": [
      "0\n",
      "2952550\n"
     ]
    }
   ],
   "source": [
    "print(smarttv_data['Price'].min())\n",
    "print(smarttv_data['Price'].max())"
   ]
  },
  {
   "cell_type": "code",
   "execution_count": 33,
   "id": "13d02d22",
   "metadata": {},
   "outputs": [
    {
     "name": "stdout",
     "output_type": "stream",
     "text": [
      "     Brand       Model  Price Resolution  Screen Size  Reviews\n",
      "47  Theham  노바 N493UHD      0    UHD(4K)         49.0      908\n"
     ]
    }
   ],
   "source": [
    "print(smarttv_data.loc[smarttv_data['Price'] == 0])"
   ]
  },
  {
   "cell_type": "code",
   "execution_count": 34,
   "id": "e3cb0c14",
   "metadata": {},
   "outputs": [],
   "source": [
    "smarttv_data = smarttv_data.drop(47)"
   ]
  },
  {
   "cell_type": "code",
   "execution_count": 35,
   "id": "92e1f5ab",
   "metadata": {},
   "outputs": [
    {
     "name": "stdout",
     "output_type": "stream",
     "text": [
      "124000\n",
      "2952550\n"
     ]
    }
   ],
   "source": [
    "print(smarttv_data['Price'].min())\n",
    "print(smarttv_data['Price'].max())"
   ]
  },
  {
   "cell_type": "markdown",
   "id": "4195dc1c",
   "metadata": {},
   "source": [
    "#### Prices range from 124,000 to 2,952,550 won."
   ]
  },
  {
   "cell_type": "code",
   "execution_count": 36,
   "id": "a52bc387",
   "metadata": {},
   "outputs": [
    {
     "data": {
      "text/html": [
       "<div>\n",
       "<style scoped>\n",
       "    .dataframe tbody tr th:only-of-type {\n",
       "        vertical-align: middle;\n",
       "    }\n",
       "\n",
       "    .dataframe tbody tr th {\n",
       "        vertical-align: top;\n",
       "    }\n",
       "\n",
       "    .dataframe thead th {\n",
       "        text-align: right;\n",
       "    }\n",
       "</style>\n",
       "<table border=\"1\" class=\"dataframe\">\n",
       "  <thead>\n",
       "    <tr style=\"text-align: right;\">\n",
       "      <th></th>\n",
       "      <th>Brand</th>\n",
       "      <th>Model</th>\n",
       "      <th>Price</th>\n",
       "      <th>Resolution</th>\n",
       "      <th>Screen Size</th>\n",
       "      <th>Reviews</th>\n",
       "    </tr>\n",
       "  </thead>\n",
       "  <tbody>\n",
       "    <tr>\n",
       "      <th>155</th>\n",
       "      <td>Smartview</td>\n",
       "      <td>J32PE</td>\n",
       "      <td>124000</td>\n",
       "      <td>NaN</td>\n",
       "      <td>32.0</td>\n",
       "      <td>185</td>\n",
       "    </tr>\n",
       "    <tr>\n",
       "      <th>46</th>\n",
       "      <td>Innos</td>\n",
       "      <td>S3201KU</td>\n",
       "      <td>208000</td>\n",
       "      <td>HD</td>\n",
       "      <td>32.0</td>\n",
       "      <td>910</td>\n",
       "    </tr>\n",
       "    <tr>\n",
       "      <th>115</th>\n",
       "      <td>Lucoms</td>\n",
       "      <td>루컴즈 T3206TA</td>\n",
       "      <td>241430</td>\n",
       "      <td>HD</td>\n",
       "      <td>32.0</td>\n",
       "      <td>325</td>\n",
       "    </tr>\n",
       "    <tr>\n",
       "      <th>65</th>\n",
       "      <td>Lucoms</td>\n",
       "      <td>루컴즈 T32G2C</td>\n",
       "      <td>269000</td>\n",
       "      <td>HD</td>\n",
       "      <td>32.0</td>\n",
       "      <td>568</td>\n",
       "    </tr>\n",
       "    <tr>\n",
       "      <th>45</th>\n",
       "      <td>Innos</td>\n",
       "      <td>S4001KU</td>\n",
       "      <td>278000</td>\n",
       "      <td>Full HD</td>\n",
       "      <td>40.0</td>\n",
       "      <td>912</td>\n",
       "    </tr>\n",
       "    <tr>\n",
       "      <th>2</th>\n",
       "      <td>Theham</td>\n",
       "      <td>노바 N431UHD IPS</td>\n",
       "      <td>278950</td>\n",
       "      <td>UHD(4K)</td>\n",
       "      <td>43.0</td>\n",
       "      <td>5644</td>\n",
       "    </tr>\n",
       "    <tr>\n",
       "      <th>142</th>\n",
       "      <td>PDK</td>\n",
       "      <td>스마트에버 SW32F</td>\n",
       "      <td>289000</td>\n",
       "      <td>Full HD</td>\n",
       "      <td>32.0</td>\n",
       "      <td>229</td>\n",
       "    </tr>\n",
       "    <tr>\n",
       "      <th>180</th>\n",
       "      <td>Theham</td>\n",
       "      <td>노바 N431UHD VA</td>\n",
       "      <td>295440</td>\n",
       "      <td>UHD(4K)</td>\n",
       "      <td>43.0</td>\n",
       "      <td>152</td>\n",
       "    </tr>\n",
       "    <tr>\n",
       "      <th>74</th>\n",
       "      <td>Wasabimango</td>\n",
       "      <td>WM UV430 UHD</td>\n",
       "      <td>295450</td>\n",
       "      <td>UHD(4K)</td>\n",
       "      <td>43.0</td>\n",
       "      <td>504</td>\n",
       "    </tr>\n",
       "    <tr>\n",
       "      <th>25</th>\n",
       "      <td>Lucoms</td>\n",
       "      <td>루컴즈 T4002C</td>\n",
       "      <td>298990</td>\n",
       "      <td>Full HD</td>\n",
       "      <td>40.0</td>\n",
       "      <td>1694</td>\n",
       "    </tr>\n",
       "    <tr>\n",
       "      <th>15</th>\n",
       "      <td>Innos</td>\n",
       "      <td>S4301KU</td>\n",
       "      <td>299550</td>\n",
       "      <td>UHD(4K)</td>\n",
       "      <td>43.0</td>\n",
       "      <td>2492</td>\n",
       "    </tr>\n",
       "    <tr>\n",
       "      <th>98</th>\n",
       "      <td>Theham</td>\n",
       "      <td>우버 U431UHD</td>\n",
       "      <td>308950</td>\n",
       "      <td>UHD(4K)</td>\n",
       "      <td>43.0</td>\n",
       "      <td>390</td>\n",
       "    </tr>\n",
       "    <tr>\n",
       "      <th>34</th>\n",
       "      <td>Theham</td>\n",
       "      <td>우버 AMG UA431UHD</td>\n",
       "      <td>309000</td>\n",
       "      <td>UHD(4K)</td>\n",
       "      <td>43.0</td>\n",
       "      <td>1215</td>\n",
       "    </tr>\n",
       "    <tr>\n",
       "      <th>77</th>\n",
       "      <td>Estla</td>\n",
       "      <td>AN430UHD 안드로이드 더 스마트 AI</td>\n",
       "      <td>309640</td>\n",
       "      <td>UHD(4K)</td>\n",
       "      <td>43.0</td>\n",
       "      <td>487</td>\n",
       "    </tr>\n",
       "    <tr>\n",
       "      <th>179</th>\n",
       "      <td>Estla</td>\n",
       "      <td>AA431UHD IPS THE SMART PRO</td>\n",
       "      <td>317500</td>\n",
       "      <td>UHD(4K)</td>\n",
       "      <td>43.0</td>\n",
       "      <td>156</td>\n",
       "    </tr>\n",
       "    <tr>\n",
       "      <th>30</th>\n",
       "      <td>Prismkorea</td>\n",
       "      <td>A43i google android TV BT50</td>\n",
       "      <td>319000</td>\n",
       "      <td>UHD(4K)</td>\n",
       "      <td>43.0</td>\n",
       "      <td>1277</td>\n",
       "    </tr>\n",
       "    <tr>\n",
       "      <th>187</th>\n",
       "      <td>Prismkorea</td>\n",
       "      <td>A4311i</td>\n",
       "      <td>319000</td>\n",
       "      <td>UHD(4K)</td>\n",
       "      <td>43.0</td>\n",
       "      <td>135</td>\n",
       "    </tr>\n",
       "    <tr>\n",
       "      <th>177</th>\n",
       "      <td>Estla</td>\n",
       "      <td>AN433UHD 스마트 THE 울트라</td>\n",
       "      <td>328950</td>\n",
       "      <td>UHD(4K)</td>\n",
       "      <td>43.0</td>\n",
       "      <td>157</td>\n",
       "    </tr>\n",
       "    <tr>\n",
       "      <th>1</th>\n",
       "      <td>Theham</td>\n",
       "      <td>코스모 C551UHD</td>\n",
       "      <td>343100</td>\n",
       "      <td>UHD(4K)</td>\n",
       "      <td>55.0</td>\n",
       "      <td>5793</td>\n",
       "    </tr>\n",
       "    <tr>\n",
       "      <th>32</th>\n",
       "      <td>Umaxx</td>\n",
       "      <td>Ai43 구글공식인증 스마트TV 크롬캐스트</td>\n",
       "      <td>344990</td>\n",
       "      <td>UHD(4K)</td>\n",
       "      <td>43.0</td>\n",
       "      <td>1272</td>\n",
       "    </tr>\n",
       "  </tbody>\n",
       "</table>\n",
       "</div>"
      ],
      "text/plain": [
       "           Brand                        Model   Price Resolution  Screen Size  \\\n",
       "155    Smartview                        J32PE  124000        NaN         32.0   \n",
       "46         Innos                      S3201KU  208000         HD         32.0   \n",
       "115       Lucoms                  루컴즈 T3206TA  241430         HD         32.0   \n",
       "65        Lucoms                   루컴즈 T32G2C  269000         HD         32.0   \n",
       "45         Innos                      S4001KU  278000    Full HD         40.0   \n",
       "2         Theham               노바 N431UHD IPS  278950    UHD(4K)         43.0   \n",
       "142          PDK                  스마트에버 SW32F  289000    Full HD         32.0   \n",
       "180       Theham                노바 N431UHD VA  295440    UHD(4K)         43.0   \n",
       "74   Wasabimango                 WM UV430 UHD  295450    UHD(4K)         43.0   \n",
       "25        Lucoms                   루컴즈 T4002C  298990    Full HD         40.0   \n",
       "15         Innos                      S4301KU  299550    UHD(4K)         43.0   \n",
       "98        Theham                   우버 U431UHD  308950    UHD(4K)         43.0   \n",
       "34        Theham              우버 AMG UA431UHD  309000    UHD(4K)         43.0   \n",
       "77         Estla      AN430UHD 안드로이드 더 스마트 AI  309640    UHD(4K)         43.0   \n",
       "179        Estla   AA431UHD IPS THE SMART PRO  317500    UHD(4K)         43.0   \n",
       "30    Prismkorea  A43i google android TV BT50  319000    UHD(4K)         43.0   \n",
       "187   Prismkorea                       A4311i  319000    UHD(4K)         43.0   \n",
       "177        Estla         AN433UHD 스마트 THE 울트라  328950    UHD(4K)         43.0   \n",
       "1         Theham                  코스모 C551UHD  343100    UHD(4K)         55.0   \n",
       "32         Umaxx      Ai43 구글공식인증 스마트TV 크롬캐스트  344990    UHD(4K)         43.0   \n",
       "\n",
       "     Reviews  \n",
       "155      185  \n",
       "46       910  \n",
       "115      325  \n",
       "65       568  \n",
       "45       912  \n",
       "2       5644  \n",
       "142      229  \n",
       "180      152  \n",
       "74       504  \n",
       "25      1694  \n",
       "15      2492  \n",
       "98       390  \n",
       "34      1215  \n",
       "77       487  \n",
       "179      156  \n",
       "30      1277  \n",
       "187      135  \n",
       "177      157  \n",
       "1       5793  \n",
       "32      1272  "
      ]
     },
     "execution_count": 36,
     "metadata": {},
     "output_type": "execute_result"
    }
   ],
   "source": [
    "top_list = smarttv_data.sort_values(['Price'], ascending = True)\n",
    "top_list.head(20)"
   ]
  },
  {
   "cell_type": "markdown",
   "id": "57553599",
   "metadata": {},
   "source": [
    "#### SMEs lead the market of affordable smart TVs costing less than 350,000 won(appx. $290).\n",
    "#### The price of smart TVs they provide is generally proportional to the screen size."
   ]
  },
  {
   "cell_type": "code",
   "execution_count": 37,
   "id": "ff29971e",
   "metadata": {},
   "outputs": [
    {
     "data": {
      "text/html": [
       "<div>\n",
       "<style scoped>\n",
       "    .dataframe tbody tr th:only-of-type {\n",
       "        vertical-align: middle;\n",
       "    }\n",
       "\n",
       "    .dataframe tbody tr th {\n",
       "        vertical-align: top;\n",
       "    }\n",
       "\n",
       "    .dataframe thead th {\n",
       "        text-align: right;\n",
       "    }\n",
       "</style>\n",
       "<table border=\"1\" class=\"dataframe\">\n",
       "  <thead>\n",
       "    <tr style=\"text-align: right;\">\n",
       "      <th></th>\n",
       "      <th>Brand</th>\n",
       "      <th>Model</th>\n",
       "      <th>Price</th>\n",
       "      <th>Resolution</th>\n",
       "      <th>Screen Size</th>\n",
       "      <th>Reviews</th>\n",
       "    </tr>\n",
       "  </thead>\n",
       "  <tbody>\n",
       "    <tr>\n",
       "      <th>155</th>\n",
       "      <td>Smartview</td>\n",
       "      <td>J32PE</td>\n",
       "      <td>124000</td>\n",
       "      <td>NaN</td>\n",
       "      <td>32.0</td>\n",
       "      <td>185</td>\n",
       "    </tr>\n",
       "    <tr>\n",
       "      <th>46</th>\n",
       "      <td>Innos</td>\n",
       "      <td>S3201KU</td>\n",
       "      <td>208000</td>\n",
       "      <td>HD</td>\n",
       "      <td>32.0</td>\n",
       "      <td>910</td>\n",
       "    </tr>\n",
       "    <tr>\n",
       "      <th>115</th>\n",
       "      <td>Lucoms</td>\n",
       "      <td>루컴즈 T3206TA</td>\n",
       "      <td>241430</td>\n",
       "      <td>HD</td>\n",
       "      <td>32.0</td>\n",
       "      <td>325</td>\n",
       "    </tr>\n",
       "    <tr>\n",
       "      <th>65</th>\n",
       "      <td>Lucoms</td>\n",
       "      <td>루컴즈 T32G2C</td>\n",
       "      <td>269000</td>\n",
       "      <td>HD</td>\n",
       "      <td>32.0</td>\n",
       "      <td>568</td>\n",
       "    </tr>\n",
       "    <tr>\n",
       "      <th>45</th>\n",
       "      <td>Innos</td>\n",
       "      <td>S4001KU</td>\n",
       "      <td>278000</td>\n",
       "      <td>Full HD</td>\n",
       "      <td>40.0</td>\n",
       "      <td>912</td>\n",
       "    </tr>\n",
       "    <tr>\n",
       "      <th>2</th>\n",
       "      <td>Theham</td>\n",
       "      <td>노바 N431UHD IPS</td>\n",
       "      <td>278950</td>\n",
       "      <td>UHD(4K)</td>\n",
       "      <td>43.0</td>\n",
       "      <td>5644</td>\n",
       "    </tr>\n",
       "    <tr>\n",
       "      <th>142</th>\n",
       "      <td>PDK</td>\n",
       "      <td>스마트에버 SW32F</td>\n",
       "      <td>289000</td>\n",
       "      <td>Full HD</td>\n",
       "      <td>32.0</td>\n",
       "      <td>229</td>\n",
       "    </tr>\n",
       "    <tr>\n",
       "      <th>180</th>\n",
       "      <td>Theham</td>\n",
       "      <td>노바 N431UHD VA</td>\n",
       "      <td>295440</td>\n",
       "      <td>UHD(4K)</td>\n",
       "      <td>43.0</td>\n",
       "      <td>152</td>\n",
       "    </tr>\n",
       "    <tr>\n",
       "      <th>74</th>\n",
       "      <td>Wasabimango</td>\n",
       "      <td>WM UV430 UHD</td>\n",
       "      <td>295450</td>\n",
       "      <td>UHD(4K)</td>\n",
       "      <td>43.0</td>\n",
       "      <td>504</td>\n",
       "    </tr>\n",
       "    <tr>\n",
       "      <th>25</th>\n",
       "      <td>Lucoms</td>\n",
       "      <td>루컴즈 T4002C</td>\n",
       "      <td>298990</td>\n",
       "      <td>Full HD</td>\n",
       "      <td>40.0</td>\n",
       "      <td>1694</td>\n",
       "    </tr>\n",
       "    <tr>\n",
       "      <th>15</th>\n",
       "      <td>Innos</td>\n",
       "      <td>S4301KU</td>\n",
       "      <td>299550</td>\n",
       "      <td>UHD(4K)</td>\n",
       "      <td>43.0</td>\n",
       "      <td>2492</td>\n",
       "    </tr>\n",
       "    <tr>\n",
       "      <th>98</th>\n",
       "      <td>Theham</td>\n",
       "      <td>우버 U431UHD</td>\n",
       "      <td>308950</td>\n",
       "      <td>UHD(4K)</td>\n",
       "      <td>43.0</td>\n",
       "      <td>390</td>\n",
       "    </tr>\n",
       "    <tr>\n",
       "      <th>34</th>\n",
       "      <td>Theham</td>\n",
       "      <td>우버 AMG UA431UHD</td>\n",
       "      <td>309000</td>\n",
       "      <td>UHD(4K)</td>\n",
       "      <td>43.0</td>\n",
       "      <td>1215</td>\n",
       "    </tr>\n",
       "    <tr>\n",
       "      <th>77</th>\n",
       "      <td>Estla</td>\n",
       "      <td>AN430UHD 안드로이드 더 스마트 AI</td>\n",
       "      <td>309640</td>\n",
       "      <td>UHD(4K)</td>\n",
       "      <td>43.0</td>\n",
       "      <td>487</td>\n",
       "    </tr>\n",
       "    <tr>\n",
       "      <th>179</th>\n",
       "      <td>Estla</td>\n",
       "      <td>AA431UHD IPS THE SMART PRO</td>\n",
       "      <td>317500</td>\n",
       "      <td>UHD(4K)</td>\n",
       "      <td>43.0</td>\n",
       "      <td>156</td>\n",
       "    </tr>\n",
       "    <tr>\n",
       "      <th>30</th>\n",
       "      <td>Prismkorea</td>\n",
       "      <td>A43i google android TV BT50</td>\n",
       "      <td>319000</td>\n",
       "      <td>UHD(4K)</td>\n",
       "      <td>43.0</td>\n",
       "      <td>1277</td>\n",
       "    </tr>\n",
       "    <tr>\n",
       "      <th>187</th>\n",
       "      <td>Prismkorea</td>\n",
       "      <td>A4311i</td>\n",
       "      <td>319000</td>\n",
       "      <td>UHD(4K)</td>\n",
       "      <td>43.0</td>\n",
       "      <td>135</td>\n",
       "    </tr>\n",
       "    <tr>\n",
       "      <th>177</th>\n",
       "      <td>Estla</td>\n",
       "      <td>AN433UHD 스마트 THE 울트라</td>\n",
       "      <td>328950</td>\n",
       "      <td>UHD(4K)</td>\n",
       "      <td>43.0</td>\n",
       "      <td>157</td>\n",
       "    </tr>\n",
       "    <tr>\n",
       "      <th>1</th>\n",
       "      <td>Theham</td>\n",
       "      <td>코스모 C551UHD</td>\n",
       "      <td>343100</td>\n",
       "      <td>UHD(4K)</td>\n",
       "      <td>55.0</td>\n",
       "      <td>5793</td>\n",
       "    </tr>\n",
       "    <tr>\n",
       "      <th>32</th>\n",
       "      <td>Umaxx</td>\n",
       "      <td>Ai43 구글공식인증 스마트TV 크롬캐스트</td>\n",
       "      <td>344990</td>\n",
       "      <td>UHD(4K)</td>\n",
       "      <td>43.0</td>\n",
       "      <td>1272</td>\n",
       "    </tr>\n",
       "  </tbody>\n",
       "</table>\n",
       "</div>"
      ],
      "text/plain": [
       "           Brand                        Model   Price Resolution  Screen Size  \\\n",
       "155    Smartview                        J32PE  124000        NaN         32.0   \n",
       "46         Innos                      S3201KU  208000         HD         32.0   \n",
       "115       Lucoms                  루컴즈 T3206TA  241430         HD         32.0   \n",
       "65        Lucoms                   루컴즈 T32G2C  269000         HD         32.0   \n",
       "45         Innos                      S4001KU  278000    Full HD         40.0   \n",
       "2         Theham               노바 N431UHD IPS  278950    UHD(4K)         43.0   \n",
       "142          PDK                  스마트에버 SW32F  289000    Full HD         32.0   \n",
       "180       Theham                노바 N431UHD VA  295440    UHD(4K)         43.0   \n",
       "74   Wasabimango                 WM UV430 UHD  295450    UHD(4K)         43.0   \n",
       "25        Lucoms                   루컴즈 T4002C  298990    Full HD         40.0   \n",
       "15         Innos                      S4301KU  299550    UHD(4K)         43.0   \n",
       "98        Theham                   우버 U431UHD  308950    UHD(4K)         43.0   \n",
       "34        Theham              우버 AMG UA431UHD  309000    UHD(4K)         43.0   \n",
       "77         Estla      AN430UHD 안드로이드 더 스마트 AI  309640    UHD(4K)         43.0   \n",
       "179        Estla   AA431UHD IPS THE SMART PRO  317500    UHD(4K)         43.0   \n",
       "30    Prismkorea  A43i google android TV BT50  319000    UHD(4K)         43.0   \n",
       "187   Prismkorea                       A4311i  319000    UHD(4K)         43.0   \n",
       "177        Estla         AN433UHD 스마트 THE 울트라  328950    UHD(4K)         43.0   \n",
       "1         Theham                  코스모 C551UHD  343100    UHD(4K)         55.0   \n",
       "32         Umaxx      Ai43 구글공식인증 스마트TV 크롬캐스트  344990    UHD(4K)         43.0   \n",
       "\n",
       "     Reviews  \n",
       "155      185  \n",
       "46       910  \n",
       "115      325  \n",
       "65       568  \n",
       "45       912  \n",
       "2       5644  \n",
       "142      229  \n",
       "180      152  \n",
       "74       504  \n",
       "25      1694  \n",
       "15      2492  \n",
       "98       390  \n",
       "34      1215  \n",
       "77       487  \n",
       "179      156  \n",
       "30      1277  \n",
       "187      135  \n",
       "177      157  \n",
       "1       5793  \n",
       "32      1272  "
      ]
     },
     "execution_count": 37,
     "metadata": {},
     "output_type": "execute_result"
    }
   ],
   "source": [
    "top_list = smarttv_data.sort_values(['Price','Screen Size'], ascending=[True, False])\n",
    "top_list.head(20)"
   ]
  },
  {
   "cell_type": "code",
   "execution_count": 38,
   "id": "6a09dc31",
   "metadata": {},
   "outputs": [
    {
     "name": "stdout",
     "output_type": "stream",
     "text": [
      "Average Price : 1032062.17\n",
      "Average Screen Size : 58.92\n",
      "Average Reviews : 808.45\n"
     ]
    }
   ],
   "source": [
    "price_mean_value = smarttv_data['Price'].mean()\n",
    "size_mean_value = smarttv_data['Screen Size'].mean()\n",
    "reviews_mean_value = smarttv_data['Reviews'].mean()\n",
    "print(\"Average Price :\", price_mean_value.round(2))\n",
    "print(\"Average Screen Size :\", size_mean_value.round(2))\n",
    "print(\"Average Reviews :\", reviews_mean_value.round(2))"
   ]
  },
  {
   "cell_type": "markdown",
   "id": "c6ed0740",
   "metadata": {},
   "source": [
    "#### Bang for the buck"
   ]
  },
  {
   "cell_type": "code",
   "execution_count": 39,
   "id": "93a250e8",
   "metadata": {},
   "outputs": [
    {
     "data": {
      "text/html": [
       "<div>\n",
       "<style scoped>\n",
       "    .dataframe tbody tr th:only-of-type {\n",
       "        vertical-align: middle;\n",
       "    }\n",
       "\n",
       "    .dataframe tbody tr th {\n",
       "        vertical-align: top;\n",
       "    }\n",
       "\n",
       "    .dataframe thead th {\n",
       "        text-align: right;\n",
       "    }\n",
       "</style>\n",
       "<table border=\"1\" class=\"dataframe\">\n",
       "  <thead>\n",
       "    <tr style=\"text-align: right;\">\n",
       "      <th></th>\n",
       "      <th>Brand</th>\n",
       "      <th>Model</th>\n",
       "      <th>Price</th>\n",
       "      <th>Resolution</th>\n",
       "      <th>Screen Size</th>\n",
       "      <th>Reviews</th>\n",
       "    </tr>\n",
       "  </thead>\n",
       "  <tbody>\n",
       "    <tr>\n",
       "      <th>0</th>\n",
       "      <td>Innos</td>\n",
       "      <td>S6501KU</td>\n",
       "      <td>588000</td>\n",
       "      <td>UHD(4K)</td>\n",
       "      <td>65.0</td>\n",
       "      <td>7114</td>\n",
       "    </tr>\n",
       "    <tr>\n",
       "      <th>5</th>\n",
       "      <td>Theham</td>\n",
       "      <td>노바 N651UHD IPS</td>\n",
       "      <td>543540</td>\n",
       "      <td>UHD(4K)</td>\n",
       "      <td>65.0</td>\n",
       "      <td>4618</td>\n",
       "    </tr>\n",
       "    <tr>\n",
       "      <th>7</th>\n",
       "      <td>Theham</td>\n",
       "      <td>코스모 C651UHD</td>\n",
       "      <td>534810</td>\n",
       "      <td>UHD(4K)</td>\n",
       "      <td>65.0</td>\n",
       "      <td>3524</td>\n",
       "    </tr>\n",
       "    <tr>\n",
       "      <th>12</th>\n",
       "      <td>Theham</td>\n",
       "      <td>우버 U651UHD</td>\n",
       "      <td>659000</td>\n",
       "      <td>UHD(4K)</td>\n",
       "      <td>65.0</td>\n",
       "      <td>2747</td>\n",
       "    </tr>\n",
       "    <tr>\n",
       "      <th>20</th>\n",
       "      <td>Lucoms</td>\n",
       "      <td>루컴즈 T6503TU IPS HDR</td>\n",
       "      <td>679000</td>\n",
       "      <td>UHD(4K)</td>\n",
       "      <td>65.0</td>\n",
       "      <td>1937</td>\n",
       "    </tr>\n",
       "    <tr>\n",
       "      <th>37</th>\n",
       "      <td>Innos</td>\n",
       "      <td>S7501KU WIFI</td>\n",
       "      <td>999000</td>\n",
       "      <td>UHD(4K)</td>\n",
       "      <td>75.0</td>\n",
       "      <td>1142</td>\n",
       "    </tr>\n",
       "    <tr>\n",
       "      <th>38</th>\n",
       "      <td>Estla</td>\n",
       "      <td>QUKA UC651UHD 더 스마트 AI PRO</td>\n",
       "      <td>716480</td>\n",
       "      <td>UHD(4K)</td>\n",
       "      <td>65.0</td>\n",
       "      <td>1081</td>\n",
       "    </tr>\n",
       "  </tbody>\n",
       "</table>\n",
       "</div>"
      ],
      "text/plain": [
       "     Brand                       Model   Price Resolution  Screen Size  \\\n",
       "0    Innos                     S6501KU  588000    UHD(4K)         65.0   \n",
       "5   Theham              노바 N651UHD IPS  543540    UHD(4K)         65.0   \n",
       "7   Theham                 코스모 C651UHD  534810    UHD(4K)         65.0   \n",
       "12  Theham                  우버 U651UHD  659000    UHD(4K)         65.0   \n",
       "20  Lucoms         루컴즈 T6503TU IPS HDR  679000    UHD(4K)         65.0   \n",
       "37   Innos                S7501KU WIFI  999000    UHD(4K)         75.0   \n",
       "38   Estla  QUKA UC651UHD 더 스마트 AI PRO  716480    UHD(4K)         65.0   \n",
       "\n",
       "    Reviews  \n",
       "0      7114  \n",
       "5      4618  \n",
       "7      3524  \n",
       "12     2747  \n",
       "20     1937  \n",
       "37     1142  \n",
       "38     1081  "
      ]
     },
     "execution_count": 39,
     "metadata": {},
     "output_type": "execute_result"
    }
   ],
   "source": [
    "condition_data = smarttv_data [\n",
    "    (smarttv_data['Price'] <= price_mean_value) & \n",
    "    (smarttv_data['Screen Size'] >= size_mean_value) & \n",
    "    (smarttv_data['Reviews'] >= reviews_mean_value)]\n",
    "condition_data"
   ]
  },
  {
   "cell_type": "markdown",
   "id": "7e474edc",
   "metadata": {},
   "source": [
    "## 5. VISUALIZE\n",
    "### Communicate findings effectively"
   ]
  },
  {
   "cell_type": "code",
   "execution_count": 40,
   "id": "77843e6d",
   "metadata": {},
   "outputs": [
    {
     "data": {
      "text/plain": [
       "149"
      ]
     },
     "execution_count": 40,
     "metadata": {},
     "output_type": "execute_result"
    }
   ],
   "source": [
    "chart_data = smarttv_data.dropna(axis = 0)\n",
    "len(chart_data)"
   ]
  },
  {
   "cell_type": "code",
   "execution_count": 41,
   "id": "b510ef14",
   "metadata": {},
   "outputs": [],
   "source": [
    "size_max_value = chart_data['Screen Size'].max()\n",
    "size_min_value = chart_data['Screen Size'].min()\n",
    "size_mean_value = chart_data['Screen Size'].mean()\n",
    "price_max_value = chart_data['Price'].max()\n",
    "price_min_value = chart_data['Price'].min()\n",
    "price_mean_value = chart_data['Price'].mean()"
   ]
  },
  {
   "cell_type": "code",
   "execution_count": 42,
   "id": "975dccfc",
   "metadata": {},
   "outputs": [
    {
     "data": {
      "image/png": "[encoded data removed]",
      "text/plain": [
       "<Figure size 1440x720 with 1 Axes>"
      ]
     },
     "metadata": {
      "needs_background": "light"
     },
     "output_type": "display_data"
    }
   ],
   "source": [
    "plt.figure(figsize=(20, 10))\n",
    "plt.title(\"SmartTV Chart\")\n",
    "sns.scatterplot(x = 'Screen Size', y = 'Price', size = 'Reviews', hue = chart_data['Brand'], \n",
    "             data = chart_data, sizes = (10, 1000), legend = True, alpha=0.6, cmap='Spectral')\n",
    "plt.plot([size_min_value, size_max_value], \n",
    "          [price_mean_value, price_mean_value], \n",
    "          'r--', \n",
    "          lw = 1 )\n",
    "plt.plot([size_mean_value, size_mean_value], \n",
    "          [price_min_value, price_max_value], \n",
    "          'r--', \n",
    "          lw = 1 )\n",
    "plt.show()"
   ]
  },
  {
   "cell_type": "markdown",
   "id": "d1cad2a3",
   "metadata": {},
   "source": [
    "#### Top 20 Products"
   ]
  },
  {
   "cell_type": "code",
   "execution_count": 43,
   "id": "092cc6d4",
   "metadata": {},
   "outputs": [
    {
     "data": {
      "text/html": [
       "<div>\n",
       "<style scoped>\n",
       "    .dataframe tbody tr th:only-of-type {\n",
       "        vertical-align: middle;\n",
       "    }\n",
       "\n",
       "    .dataframe tbody tr th {\n",
       "        vertical-align: top;\n",
       "    }\n",
       "\n",
       "    .dataframe thead th {\n",
       "        text-align: right;\n",
       "    }\n",
       "</style>\n",
       "<table border=\"1\" class=\"dataframe\">\n",
       "  <thead>\n",
       "    <tr style=\"text-align: right;\">\n",
       "      <th></th>\n",
       "      <th>Brand</th>\n",
       "      <th>Model</th>\n",
       "      <th>Price</th>\n",
       "      <th>Resolution</th>\n",
       "      <th>Screen Size</th>\n",
       "      <th>Reviews</th>\n",
       "    </tr>\n",
       "  </thead>\n",
       "  <tbody>\n",
       "    <tr>\n",
       "      <th>0</th>\n",
       "      <td>Innos</td>\n",
       "      <td>S6501KU</td>\n",
       "      <td>588000</td>\n",
       "      <td>UHD(4K)</td>\n",
       "      <td>65.0</td>\n",
       "      <td>7114</td>\n",
       "    </tr>\n",
       "    <tr>\n",
       "      <th>1</th>\n",
       "      <td>Theham</td>\n",
       "      <td>코스모 C551UHD</td>\n",
       "      <td>343100</td>\n",
       "      <td>UHD(4K)</td>\n",
       "      <td>55.0</td>\n",
       "      <td>5793</td>\n",
       "    </tr>\n",
       "    <tr>\n",
       "      <th>2</th>\n",
       "      <td>Theham</td>\n",
       "      <td>노바 N431UHD IPS</td>\n",
       "      <td>278950</td>\n",
       "      <td>UHD(4K)</td>\n",
       "      <td>43.0</td>\n",
       "      <td>5644</td>\n",
       "    </tr>\n",
       "    <tr>\n",
       "      <th>3</th>\n",
       "      <td>Samsung</td>\n",
       "      <td>삼성 KU65UT8070FXKR</td>\n",
       "      <td>1248870</td>\n",
       "      <td>UHD(4K)</td>\n",
       "      <td>65.0</td>\n",
       "      <td>4944</td>\n",
       "    </tr>\n",
       "    <tr>\n",
       "      <th>4</th>\n",
       "      <td>Samsung</td>\n",
       "      <td>삼성 KU75UT8070FXKR</td>\n",
       "      <td>2089000</td>\n",
       "      <td>UHD(4K)</td>\n",
       "      <td>75.0</td>\n",
       "      <td>4886</td>\n",
       "    </tr>\n",
       "    <tr>\n",
       "      <th>5</th>\n",
       "      <td>Theham</td>\n",
       "      <td>노바 N651UHD IPS</td>\n",
       "      <td>543540</td>\n",
       "      <td>UHD(4K)</td>\n",
       "      <td>65.0</td>\n",
       "      <td>4618</td>\n",
       "    </tr>\n",
       "    <tr>\n",
       "      <th>6</th>\n",
       "      <td>Innos</td>\n",
       "      <td>S5501KU ZeroBezel</td>\n",
       "      <td>428000</td>\n",
       "      <td>UHD(4K)</td>\n",
       "      <td>55.0</td>\n",
       "      <td>4219</td>\n",
       "    </tr>\n",
       "    <tr>\n",
       "      <th>7</th>\n",
       "      <td>Theham</td>\n",
       "      <td>코스모 C651UHD</td>\n",
       "      <td>534810</td>\n",
       "      <td>UHD(4K)</td>\n",
       "      <td>65.0</td>\n",
       "      <td>3524</td>\n",
       "    </tr>\n",
       "    <tr>\n",
       "      <th>8</th>\n",
       "      <td>Theham</td>\n",
       "      <td>우버 U553UHD</td>\n",
       "      <td>439000</td>\n",
       "      <td>UHD(4K)</td>\n",
       "      <td>55.0</td>\n",
       "      <td>3063</td>\n",
       "    </tr>\n",
       "    <tr>\n",
       "      <th>9</th>\n",
       "      <td>Samsung</td>\n",
       "      <td>삼성 UN49NU7150FXKR</td>\n",
       "      <td>941000</td>\n",
       "      <td>UHD(4K)</td>\n",
       "      <td>49.0</td>\n",
       "      <td>2938</td>\n",
       "    </tr>\n",
       "    <tr>\n",
       "      <th>10</th>\n",
       "      <td>Theham</td>\n",
       "      <td>노바 N551UHD</td>\n",
       "      <td>406570</td>\n",
       "      <td>UHD(4K)</td>\n",
       "      <td>55.0</td>\n",
       "      <td>2867</td>\n",
       "    </tr>\n",
       "    <tr>\n",
       "      <th>11</th>\n",
       "      <td>Samsung</td>\n",
       "      <td>삼성 KU50UT8070FXKR</td>\n",
       "      <td>965000</td>\n",
       "      <td>UHD(4K)</td>\n",
       "      <td>50.0</td>\n",
       "      <td>2832</td>\n",
       "    </tr>\n",
       "    <tr>\n",
       "      <th>12</th>\n",
       "      <td>Theham</td>\n",
       "      <td>우버 U651UHD</td>\n",
       "      <td>659000</td>\n",
       "      <td>UHD(4K)</td>\n",
       "      <td>65.0</td>\n",
       "      <td>2747</td>\n",
       "    </tr>\n",
       "    <tr>\n",
       "      <th>13</th>\n",
       "      <td>Theham</td>\n",
       "      <td>우버 U501UHD</td>\n",
       "      <td>376000</td>\n",
       "      <td>UHD(4K)</td>\n",
       "      <td>50.0</td>\n",
       "      <td>2594</td>\n",
       "    </tr>\n",
       "    <tr>\n",
       "      <th>14</th>\n",
       "      <td>Samsung</td>\n",
       "      <td>삼성 KU43UT8070FXKR</td>\n",
       "      <td>745000</td>\n",
       "      <td>UHD(4K)</td>\n",
       "      <td>43.0</td>\n",
       "      <td>2555</td>\n",
       "    </tr>\n",
       "    <tr>\n",
       "      <th>15</th>\n",
       "      <td>Innos</td>\n",
       "      <td>S4301KU</td>\n",
       "      <td>299550</td>\n",
       "      <td>UHD(4K)</td>\n",
       "      <td>43.0</td>\n",
       "      <td>2492</td>\n",
       "    </tr>\n",
       "    <tr>\n",
       "      <th>16</th>\n",
       "      <td>Samsung</td>\n",
       "      <td>삼성 KU70UA8070FXKR</td>\n",
       "      <td>1286130</td>\n",
       "      <td>UHD(4K)</td>\n",
       "      <td>70.0</td>\n",
       "      <td>2441</td>\n",
       "    </tr>\n",
       "    <tr>\n",
       "      <th>17</th>\n",
       "      <td>Samsung</td>\n",
       "      <td>삼성 KU65UA8070FXKR</td>\n",
       "      <td>1053000</td>\n",
       "      <td>UHD(4K)</td>\n",
       "      <td>65.0</td>\n",
       "      <td>2098</td>\n",
       "    </tr>\n",
       "    <tr>\n",
       "      <th>19</th>\n",
       "      <td>Samsung</td>\n",
       "      <td>삼성 KU55UT8070FXKR</td>\n",
       "      <td>1228500</td>\n",
       "      <td>UHD(4K)</td>\n",
       "      <td>55.0</td>\n",
       "      <td>2005</td>\n",
       "    </tr>\n",
       "    <tr>\n",
       "      <th>20</th>\n",
       "      <td>Lucoms</td>\n",
       "      <td>루컴즈 T6503TU IPS HDR</td>\n",
       "      <td>679000</td>\n",
       "      <td>UHD(4K)</td>\n",
       "      <td>65.0</td>\n",
       "      <td>1937</td>\n",
       "    </tr>\n",
       "  </tbody>\n",
       "</table>\n",
       "</div>"
      ],
      "text/plain": [
       "      Brand                Model    Price Resolution  Screen Size  Reviews\n",
       "0     Innos              S6501KU   588000    UHD(4K)         65.0     7114\n",
       "1    Theham          코스모 C551UHD   343100    UHD(4K)         55.0     5793\n",
       "2    Theham       노바 N431UHD IPS   278950    UHD(4K)         43.0     5644\n",
       "3   Samsung    삼성 KU65UT8070FXKR  1248870    UHD(4K)         65.0     4944\n",
       "4   Samsung    삼성 KU75UT8070FXKR  2089000    UHD(4K)         75.0     4886\n",
       "5    Theham       노바 N651UHD IPS   543540    UHD(4K)         65.0     4618\n",
       "6     Innos    S5501KU ZeroBezel   428000    UHD(4K)         55.0     4219\n",
       "7    Theham          코스모 C651UHD   534810    UHD(4K)         65.0     3524\n",
       "8    Theham           우버 U553UHD   439000    UHD(4K)         55.0     3063\n",
       "9   Samsung    삼성 UN49NU7150FXKR   941000    UHD(4K)         49.0     2938\n",
       "10   Theham           노바 N551UHD   406570    UHD(4K)         55.0     2867\n",
       "11  Samsung    삼성 KU50UT8070FXKR   965000    UHD(4K)         50.0     2832\n",
       "12   Theham           우버 U651UHD   659000    UHD(4K)         65.0     2747\n",
       "13   Theham           우버 U501UHD   376000    UHD(4K)         50.0     2594\n",
       "14  Samsung    삼성 KU43UT8070FXKR   745000    UHD(4K)         43.0     2555\n",
       "15    Innos              S4301KU   299550    UHD(4K)         43.0     2492\n",
       "16  Samsung    삼성 KU70UA8070FXKR  1286130    UHD(4K)         70.0     2441\n",
       "17  Samsung    삼성 KU65UA8070FXKR  1053000    UHD(4K)         65.0     2098\n",
       "19  Samsung    삼성 KU55UT8070FXKR  1228500    UHD(4K)         55.0     2005\n",
       "20   Lucoms  루컴즈 T6503TU IPS HDR   679000    UHD(4K)         65.0     1937"
      ]
     },
     "execution_count": 43,
     "metadata": {},
     "output_type": "execute_result"
    }
   ],
   "source": [
    "chart_data_selected = chart_data[:20]\n",
    "chart_data_selected"
   ]
  },
  {
   "cell_type": "code",
   "execution_count": 44,
   "id": "2e9bb627",
   "metadata": {},
   "outputs": [
    {
     "data": {
      "image/png": "[encoded data removed]",
      "text/plain": [
       "<Figure size 1440x720 with 1 Axes>"
      ]
     },
     "metadata": {
      "needs_background": "light"
     },
     "output_type": "display_data"
    }
   ],
   "source": [
    "size_max_value = chart_data_selected['Screen Size'].max()\n",
    "size_min_value = chart_data_selected['Screen Size'].min()\n",
    "size_mean_value = chart_data_selected['Screen Size'].mean()\n",
    "price_max_value = chart_data_selected['Price'].max()\n",
    "price_min_value = chart_data_selected['Price'].min()\n",
    "price_mean_value = chart_data_selected['Price'].mean()\n",
    "plt.figure(figsize=(20, 10))\n",
    "plt.title(\"TOP 20 SmartTV\")\n",
    "sns.scatterplot(x = 'Screen Size', \n",
    "                  y = 'Price', \n",
    "                  size = 'Reviews', \n",
    "                  hue = chart_data_selected['Brand'], \n",
    "                  data = chart_data_selected, sizes = (100, 2000),\n",
    "                  legend = True,\n",
    "                  alpha=0.6, \n",
    "                  cmap='Spectral')\n",
    "plt.plot([size_min_value, size_max_value], \n",
    "          [price_mean_value, price_mean_value], \n",
    "          'r--', \n",
    "          lw = 1 )\n",
    "plt.plot([size_mean_value, size_mean_value], \n",
    "          [price_min_value, price_max_value], \n",
    "          'r--', \n",
    "          lw = 1 )\n",
    "for index, row in chart_data_selected.iterrows():\n",
    "    x = row['Screen Size']\n",
    "    y = row['Price']\n",
    "    s = row['Brand']\n",
    "    plt.text(x, y, s, size=12)\n",
    "plt.show()"
   ]
  },
  {
   "cell_type": "markdown",
   "id": "9a528071",
   "metadata": {},
   "source": [
    "## 6. SHARE\n",
    "### Data-driven storytelling"
   ]
  },
  {
   "cell_type": "markdown",
   "id": "9226c25c",
   "metadata": {},
   "source": [
    "#### 1) Most of the top 200 smart TVs offer a high picture quality with a 4K resolution.\n",
    "Screen size and brand may have a bigger impact on selection than screen resolution.\n",
    "\n",
    "#### 2) If you are looking for a large smart TV for the price, Samsung and LG may not be for you.\n",
    "Among the top 20, Innos' 65-inch TV is cheaper than Samsung's 43-inch TV. If brand matters to you, expect to pay at least 750,000 won(appx. $620).\n",
    "\n",
    "#### 3) The most preferred screen sizes are 65 inches and 55 inches.\n",
    "\n",
    "#### 4) Those with a large room have a relatively high budget for buying a smart TV.\n",
    "The screen size is proportional to the viewing distance, and the viewing distance is proportional to the room size. Among the top 20, Samsung's most popular 75-inch smart TV costs 1.7 times more than its 65-inch smart TV and 3.6 times more than Innos' 65-inch smart TV.\n",
    "\n",
    "#### 5) Samsung is superior to LG in smart TV market.\n",
    "The number of models included in the top 20 is 8 for Samsung and 0 for LG."
   ]
  },
  {
   "cell_type": "code",
   "execution_count": null,
   "id": "fa74509e",
   "metadata": {},
   "outputs": [],
   "source": []
  }
 ],
 "metadata": {
  "kernelspec": {
   "display_name": "Python 3 (ipykernel)",
   "language": "python",
   "name": "python3"
  },
  "language_info": {
   "codemirror_mode": {
    "name": "ipython",
    "version": 3
   },
   "file_extension": ".py",
   "mimetype": "text/x-python",
   "name": "python",
   "nbconvert_exporter": "python",
   "pygments_lexer": "ipython3",
   "version": "3.8.12"
  },
  "nbTranslate": {
   "displayLangs": [
    "*"
   ],
   "hotkey": "alt-t",
   "langInMainMenu": true,
   "sourceLang": "en",
   "targetLang": "fr",
   "useGoogleTranslate": true
  },
  "toc": {
   "base_numbering": 1,
   "nav_menu": {},
   "number_sections": false,
   "sideBar": true,
   "skip_h1_title": false,
   "title_cell": "Table of Contents",
   "title_sidebar": "Contents",
   "toc_cell": false,
   "toc_position": {},
   "toc_section_display": true,
   "toc_window_display": true
  },
  "varInspector": {
   "cols": {
    "lenName": 16,
    "lenType": 16,
    "lenVar": 40
   },
   "kernels_config": {
    "python": {
     "delete_cmd_postfix": "",
     "delete_cmd_prefix": "del ",
     "library": "var_list.py",
     "varRefreshCmd": "print(var_dic_list())"
    },
    "r": {
     "delete_cmd_postfix": ") ",
     "delete_cmd_prefix": "rm(",
     "library": "var_list.r",
     "varRefreshCmd": "cat(var_dic_list()) "
    }
   },
   "types_to_exclude": [
    "module",
    "function",
    "builtin_function_or_method",
    "instance",
    "_Feature"
   ],
   "window_display": false
  }
 },
 "nbformat": 4,
 "nbformat_minor": 5
}
