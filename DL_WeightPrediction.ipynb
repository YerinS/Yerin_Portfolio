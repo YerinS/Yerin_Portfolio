{
  "nbformat": 4,
  "nbformat_minor": 0,
  "metadata": {
    "colab": {
      "name": "DL_WeightPrediction.ipynb",
      "provenance": [],
      "collapsed_sections": [],
      "authorship_tag": "ABX9TyP7w0ckeKMKStKRGCixbexe",
      "include_colab_link": true
    },
    "kernelspec": {
      "name": "python3",
      "display_name": "Python 3"
    },
    "language_info": {
      "name": "python"
    },
    "accelerator": "GPU"
  },
  "cells": [
    {
      "cell_type": "markdown",
      "metadata": {
        "id": "view-in-github",
        "colab_type": "text"
      },
      "source": [
        "<a href=\"https://colab.research.google.com/github/YerinS/Yerin_Portfolio/blob/main/DL_WeightPrediction.ipynb\" target=\"_parent\"><img src=\"https://colab.research.google.com/assets/colab-badge.svg\" alt=\"Open In Colab\"/></a>"
      ]
    },
    {
      "cell_type": "markdown",
      "source": [
        "# [DL Regression] Weight Prediction\n"
      ],
      "metadata": {
        "id": "fMqfcR5LOXYo"
      }
    },
    {
      "cell_type": "markdown",
      "source": [
        "- 　__Data__ 　　　　　　　body measurements of 167,980 soldiers in Korea<br/>\n",
        "- 　__Features__ 　　　　　chest, arm, height, waist, inner leg, head, feet<br/>\n",
        "- 　__Label__ 　 　　　 　　weight<br/>\n",
        "- 　__Validation MAE__　　 0.0260<br/>\n",
        "- 　__Data Source__ 　 　　 Military Manpower Administration (https://open.mma.go.kr/caisGGGS/)<br/>\n",
        "- 　__DL Framework__ 　 　 Keras<br/>\n",
        "- 　__Packages__ 　 　 　 　Pandas, NumPy, Matplotlib, TensorFlow v2.7<br/>\n",
        "<br/>"
      ],
      "metadata": {
        "id": "vFCOJz2k0IHh"
      }
    },
    {
      "cell_type": "code",
      "execution_count": 1,
      "metadata": {
        "id": "EJL4mRBQXNlp"
      },
      "outputs": [],
      "source": [
        "import pandas as pd\n",
        "import numpy as np\n",
        "import random\n",
        "from matplotlib import pyplot as plt\n",
        "%matplotlib inline\n",
        "from tensorflow import keras\n",
        "from tensorflow.keras.utils import plot_model\n",
        "import warnings\n",
        "warnings.filterwarnings(\"ignore\")"
      ]
    },
    {
      "cell_type": "markdown",
      "source": [
        "# 1. Get Data"
      ],
      "metadata": {
        "id": "S5s9bZkjC6Pn"
      }
    },
    {
      "cell_type": "markdown",
      "source": [
        "- Download data from https://open.mma.go.kr/caisGGGS"
      ],
      "metadata": {
        "id": "3JUnGzP1SK0w"
      }
    },
    {
      "cell_type": "code",
      "source": [
        "from google.colab import files\n",
        "file = files.upload()"
      ],
      "metadata": {
        "colab": {
          "resources": {
            "http://localhost:8080/nbextensions/google.colab/files.js": {
              "data": "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",
              "ok": true,
              "headers": [
                [
                  "content-type",
                  "application/javascript"
                ]
              ],
              "status": 200,
              "status_text": ""
            }
          },
          "base_uri": "https://localhost:8080/",
          "height": 76
        },
        "id": "JuMoFBz0YEQz",
        "outputId": "e7444e0a-80fa-416e-9604-d90de06b2167"
      },
      "execution_count": 2,
      "outputs": [
        {
          "output_type": "display_data",
          "data": {
            "text/html": [
              "\n",
              "     <input type=\"file\" id=\"files-f3b9ab0d-d6c2-4bf7-b9e2-10d63b1452ed\" name=\"files[]\" multiple disabled\n",
              "        style=\"border:none\" />\n",
              "     <output id=\"result-f3b9ab0d-d6c2-4bf7-b9e2-10d63b1452ed\">\n",
              "      Upload widget is only available when the cell has been executed in the\n",
              "      current browser session. Please rerun this cell to enable.\n",
              "      </output>\n",
              "      <script src=\"/nbextensions/google.colab/files.js\"></script> "
            ],
            "text/plain": [
              "<IPython.core.display.HTML object>"
            ]
          },
          "metadata": {}
        },
        {
          "output_type": "stream",
          "name": "stdout",
          "text": [
            "Saving 육군신체측정정보.csv to 육군신체측정정보.csv\n"
          ]
        }
      ]
    },
    {
      "cell_type": "code",
      "source": [
        "df = pd.read_csv('육군신체측정정보.csv', usecols=[2, 3, 4, 5, 6, 7, 8, 9], encoding='cp949')\n",
        "df.columns = ['chest', 'arm', 'height', 'waist', 'leg', 'head', 'feet', 'weight']\n",
        "df.head()"
      ],
      "metadata": {
        "id": "41kLGiutjGhU",
        "colab": {
          "base_uri": "https://localhost:8080/",
          "height": 206
        },
        "outputId": "34e73f8a-f4aa-4ae9-98dc-edd5b7ef26f3"
      },
      "execution_count": 3,
      "outputs": [
        {
          "output_type": "execute_result",
          "data": {
            "text/html": [
              "\n",
              "  <div id=\"df-c975bc03-1727-4f3a-8483-7184384f4209\">\n",
              "    <div class=\"colab-df-container\">\n",
              "      <div>\n",
              "<style scoped>\n",
              "    .dataframe tbody tr th:only-of-type {\n",
              "        vertical-align: middle;\n",
              "    }\n",
              "\n",
              "    .dataframe tbody tr th {\n",
              "        vertical-align: top;\n",
              "    }\n",
              "\n",
              "    .dataframe thead th {\n",
              "        text-align: right;\n",
              "    }\n",
              "</style>\n",
              "<table border=\"1\" class=\"dataframe\">\n",
              "  <thead>\n",
              "    <tr style=\"text-align: right;\">\n",
              "      <th></th>\n",
              "      <th>chest</th>\n",
              "      <th>arm</th>\n",
              "      <th>height</th>\n",
              "      <th>waist</th>\n",
              "      <th>leg</th>\n",
              "      <th>head</th>\n",
              "      <th>feet</th>\n",
              "      <th>weight</th>\n",
              "    </tr>\n",
              "  </thead>\n",
              "  <tbody>\n",
              "    <tr>\n",
              "      <th>0</th>\n",
              "      <td>96.3</td>\n",
              "      <td>92.6</td>\n",
              "      <td>185.5</td>\n",
              "      <td>82.5</td>\n",
              "      <td>83.8</td>\n",
              "      <td>57.1</td>\n",
              "      <td>28.5</td>\n",
              "      <td>73.2</td>\n",
              "    </tr>\n",
              "    <tr>\n",
              "      <th>1</th>\n",
              "      <td>101.9</td>\n",
              "      <td>83.8</td>\n",
              "      <td>167.2</td>\n",
              "      <td>81.2</td>\n",
              "      <td>74.4</td>\n",
              "      <td>55.0</td>\n",
              "      <td>24.2</td>\n",
              "      <td>65.1</td>\n",
              "    </tr>\n",
              "    <tr>\n",
              "      <th>2</th>\n",
              "      <td>99.5</td>\n",
              "      <td>89.6</td>\n",
              "      <td>179.9</td>\n",
              "      <td>99.2</td>\n",
              "      <td>84.2</td>\n",
              "      <td>56.3</td>\n",
              "      <td>28.1</td>\n",
              "      <td>93.2</td>\n",
              "    </tr>\n",
              "    <tr>\n",
              "      <th>3</th>\n",
              "      <td>98.6</td>\n",
              "      <td>85.5</td>\n",
              "      <td>171.4</td>\n",
              "      <td>85.9</td>\n",
              "      <td>76.4</td>\n",
              "      <td>54.5</td>\n",
              "      <td>27.4</td>\n",
              "      <td>71.6</td>\n",
              "    </tr>\n",
              "    <tr>\n",
              "      <th>4</th>\n",
              "      <td>94.7</td>\n",
              "      <td>88.1</td>\n",
              "      <td>176.9</td>\n",
              "      <td>78.3</td>\n",
              "      <td>79.7</td>\n",
              "      <td>58.5</td>\n",
              "      <td>26.5</td>\n",
              "      <td>67.1</td>\n",
              "    </tr>\n",
              "  </tbody>\n",
              "</table>\n",
              "</div>\n",
              "      <button class=\"colab-df-convert\" onclick=\"convertToInteractive('df-c975bc03-1727-4f3a-8483-7184384f4209')\"\n",
              "              title=\"Convert this dataframe to an interactive table.\"\n",
              "              style=\"display:none;\">\n",
              "        \n",
              "  <svg xmlns=\"http://www.w3.org/2000/svg\" height=\"24px\"viewBox=\"0 0 24 24\"\n",
              "       width=\"24px\">\n",
              "    <path d=\"M0 0h24v24H0V0z\" fill=\"none\"/>\n",
              "    <path d=\"M18.56 5.44l.94 2.06.94-2.06 2.06-.94-2.06-.94-.94-2.06-.94 2.06-2.06.94zm-11 1L8.5 8.5l.94-2.06 2.06-.94-2.06-.94L8.5 2.5l-.94 2.06-2.06.94zm10 10l.94 2.06.94-2.06 2.06-.94-2.06-.94-.94-2.06-.94 2.06-2.06.94z\"/><path d=\"M17.41 7.96l-1.37-1.37c-.4-.4-.92-.59-1.43-.59-.52 0-1.04.2-1.43.59L10.3 9.45l-7.72 7.72c-.78.78-.78 2.05 0 2.83L4 21.41c.39.39.9.59 1.41.59.51 0 1.02-.2 1.41-.59l7.78-7.78 2.81-2.81c.8-.78.8-2.07 0-2.86zM5.41 20L4 18.59l7.72-7.72 1.47 1.35L5.41 20z\"/>\n",
              "  </svg>\n",
              "      </button>\n",
              "      \n",
              "  <style>\n",
              "    .colab-df-container {\n",
              "      display:flex;\n",
              "      flex-wrap:wrap;\n",
              "      gap: 12px;\n",
              "    }\n",
              "\n",
              "    .colab-df-convert {\n",
              "      background-color: #E8F0FE;\n",
              "      border: none;\n",
              "      border-radius: 50%;\n",
              "      cursor: pointer;\n",
              "      display: none;\n",
              "      fill: #1967D2;\n",
              "      height: 32px;\n",
              "      padding: 0 0 0 0;\n",
              "      width: 32px;\n",
              "    }\n",
              "\n",
              "    .colab-df-convert:hover {\n",
              "      background-color: #E2EBFA;\n",
              "      box-shadow: 0px 1px 2px rgba(60, 64, 67, 0.3), 0px 1px 3px 1px rgba(60, 64, 67, 0.15);\n",
              "      fill: #174EA6;\n",
              "    }\n",
              "\n",
              "    [theme=dark] .colab-df-convert {\n",
              "      background-color: #3B4455;\n",
              "      fill: #D2E3FC;\n",
              "    }\n",
              "\n",
              "    [theme=dark] .colab-df-convert:hover {\n",
              "      background-color: #434B5C;\n",
              "      box-shadow: 0px 1px 3px 1px rgba(0, 0, 0, 0.15);\n",
              "      filter: drop-shadow(0px 1px 2px rgba(0, 0, 0, 0.3));\n",
              "      fill: #FFFFFF;\n",
              "    }\n",
              "  </style>\n",
              "\n",
              "      <script>\n",
              "        const buttonEl =\n",
              "          document.querySelector('#df-c975bc03-1727-4f3a-8483-7184384f4209 button.colab-df-convert');\n",
              "        buttonEl.style.display =\n",
              "          google.colab.kernel.accessAllowed ? 'block' : 'none';\n",
              "\n",
              "        async function convertToInteractive(key) {\n",
              "          const element = document.querySelector('#df-c975bc03-1727-4f3a-8483-7184384f4209');\n",
              "          const dataTable =\n",
              "            await google.colab.kernel.invokeFunction('convertToInteractive',\n",
              "                                                     [key], {});\n",
              "          if (!dataTable) return;\n",
              "\n",
              "          const docLinkHtml = 'Like what you see? Visit the ' +\n",
              "            '<a target=\"_blank\" href=https://colab.research.google.com/notebooks/data_table.ipynb>data table notebook</a>'\n",
              "            + ' to learn more about interactive tables.';\n",
              "          element.innerHTML = '';\n",
              "          dataTable['output_type'] = 'display_data';\n",
              "          await google.colab.output.renderOutput(dataTable, element);\n",
              "          const docLink = document.createElement('div');\n",
              "          docLink.innerHTML = docLinkHtml;\n",
              "          element.appendChild(docLink);\n",
              "        }\n",
              "      </script>\n",
              "    </div>\n",
              "  </div>\n",
              "  "
            ],
            "text/plain": [
              "   chest   arm  height waist   leg  head  feet  weight\n",
              "0   96.3  92.6   185.5  82.5  83.8  57.1  28.5    73.2\n",
              "1  101.9  83.8   167.2  81.2  74.4  55.0  24.2    65.1\n",
              "2   99.5  89.6   179.9  99.2  84.2  56.3  28.1    93.2\n",
              "3   98.6  85.5   171.4  85.9  76.4  54.5  27.4    71.6\n",
              "4   94.7  88.1   176.9  78.3  79.7  58.5  26.5    67.1"
            ]
          },
          "metadata": {},
          "execution_count": 3
        }
      ]
    },
    {
      "cell_type": "markdown",
      "source": [
        "# 2. Clean, Prepare & Manipulate Data"
      ],
      "metadata": {
        "id": "f7lKQqFWDG7F"
      }
    },
    {
      "cell_type": "markdown",
      "source": [
        "- Clean data"
      ],
      "metadata": {
        "id": "HyblrorROE4n"
      }
    },
    {
      "cell_type": "code",
      "source": [
        "df['waist']"
      ],
      "metadata": {
        "colab": {
          "base_uri": "https://localhost:8080/"
        },
        "id": "_9JYpZrfCvYj",
        "outputId": "97ada57b-1efb-4491-fd69-df8d56d6bd04"
      },
      "execution_count": 4,
      "outputs": [
        {
          "output_type": "execute_result",
          "data": {
            "text/plain": [
              "0                   82.5\n",
              "1                   81.2\n",
              "2                   99.2\n",
              "3                   85.9\n",
              "4                   78.3\n",
              "               ...      \n",
              "167975    86.7 (34.1 in)\n",
              "167976    90.5 (35.6 in)\n",
              "167977    94.3 (37.1 in)\n",
              "167978    75.9 (29.9 in)\n",
              "167979    73.0 (28.7 in)\n",
              "Name: waist, Length: 167980, dtype: object"
            ]
          },
          "metadata": {},
          "execution_count": 4
        }
      ]
    },
    {
      "cell_type": "code",
      "source": [
        "waist = df['waist'].loc[135669:].str.split(\" \", expand=True)\n",
        "df['waist'].loc[135669:] = waist[0]\n",
        "df.tail()"
      ],
      "metadata": {
        "colab": {
          "base_uri": "https://localhost:8080/",
          "height": 206
        },
        "id": "gdHWhZ8ovVkH",
        "outputId": "3581ba77-e4f8-443c-a24f-32a0d416fd34"
      },
      "execution_count": 5,
      "outputs": [
        {
          "output_type": "execute_result",
          "data": {
            "text/html": [
              "\n",
              "  <div id=\"df-28b100ee-c987-4c8e-8ca2-d13302bc3c81\">\n",
              "    <div class=\"colab-df-container\">\n",
              "      <div>\n",
              "<style scoped>\n",
              "    .dataframe tbody tr th:only-of-type {\n",
              "        vertical-align: middle;\n",
              "    }\n",
              "\n",
              "    .dataframe tbody tr th {\n",
              "        vertical-align: top;\n",
              "    }\n",
              "\n",
              "    .dataframe thead th {\n",
              "        text-align: right;\n",
              "    }\n",
              "</style>\n",
              "<table border=\"1\" class=\"dataframe\">\n",
              "  <thead>\n",
              "    <tr style=\"text-align: right;\">\n",
              "      <th></th>\n",
              "      <th>chest</th>\n",
              "      <th>arm</th>\n",
              "      <th>height</th>\n",
              "      <th>waist</th>\n",
              "      <th>leg</th>\n",
              "      <th>head</th>\n",
              "      <th>feet</th>\n",
              "      <th>weight</th>\n",
              "    </tr>\n",
              "  </thead>\n",
              "  <tbody>\n",
              "    <tr>\n",
              "      <th>167975</th>\n",
              "      <td>100.6</td>\n",
              "      <td>86.4</td>\n",
              "      <td>173.2</td>\n",
              "      <td>86.7</td>\n",
              "      <td>77.1</td>\n",
              "      <td>56.9</td>\n",
              "      <td>27.1</td>\n",
              "      <td>73.7</td>\n",
              "    </tr>\n",
              "    <tr>\n",
              "      <th>167976</th>\n",
              "      <td>97.9</td>\n",
              "      <td>82.7</td>\n",
              "      <td>166.3</td>\n",
              "      <td>90.5</td>\n",
              "      <td>73.4</td>\n",
              "      <td>61.5</td>\n",
              "      <td>28.8</td>\n",
              "      <td>70.7</td>\n",
              "    </tr>\n",
              "    <tr>\n",
              "      <th>167977</th>\n",
              "      <td>97.9</td>\n",
              "      <td>87.2</td>\n",
              "      <td>175.2</td>\n",
              "      <td>94.3</td>\n",
              "      <td>83.1</td>\n",
              "      <td>57.1</td>\n",
              "      <td>27.6</td>\n",
              "      <td>78.7</td>\n",
              "    </tr>\n",
              "    <tr>\n",
              "      <th>167978</th>\n",
              "      <td>85.3</td>\n",
              "      <td>86.8</td>\n",
              "      <td>173.6</td>\n",
              "      <td>75.9</td>\n",
              "      <td>76.6</td>\n",
              "      <td>57.6</td>\n",
              "      <td>24.3</td>\n",
              "      <td>57.4</td>\n",
              "    </tr>\n",
              "    <tr>\n",
              "      <th>167979</th>\n",
              "      <td>86.6</td>\n",
              "      <td>88.3</td>\n",
              "      <td>175.8</td>\n",
              "      <td>73.0</td>\n",
              "      <td>77.8</td>\n",
              "      <td>56.3</td>\n",
              "      <td>26.1</td>\n",
              "      <td>51.7</td>\n",
              "    </tr>\n",
              "  </tbody>\n",
              "</table>\n",
              "</div>\n",
              "      <button class=\"colab-df-convert\" onclick=\"convertToInteractive('df-28b100ee-c987-4c8e-8ca2-d13302bc3c81')\"\n",
              "              title=\"Convert this dataframe to an interactive table.\"\n",
              "              style=\"display:none;\">\n",
              "        \n",
              "  <svg xmlns=\"http://www.w3.org/2000/svg\" height=\"24px\"viewBox=\"0 0 24 24\"\n",
              "       width=\"24px\">\n",
              "    <path d=\"M0 0h24v24H0V0z\" fill=\"none\"/>\n",
              "    <path d=\"M18.56 5.44l.94 2.06.94-2.06 2.06-.94-2.06-.94-.94-2.06-.94 2.06-2.06.94zm-11 1L8.5 8.5l.94-2.06 2.06-.94-2.06-.94L8.5 2.5l-.94 2.06-2.06.94zm10 10l.94 2.06.94-2.06 2.06-.94-2.06-.94-.94-2.06-.94 2.06-2.06.94z\"/><path d=\"M17.41 7.96l-1.37-1.37c-.4-.4-.92-.59-1.43-.59-.52 0-1.04.2-1.43.59L10.3 9.45l-7.72 7.72c-.78.78-.78 2.05 0 2.83L4 21.41c.39.39.9.59 1.41.59.51 0 1.02-.2 1.41-.59l7.78-7.78 2.81-2.81c.8-.78.8-2.07 0-2.86zM5.41 20L4 18.59l7.72-7.72 1.47 1.35L5.41 20z\"/>\n",
              "  </svg>\n",
              "      </button>\n",
              "      \n",
              "  <style>\n",
              "    .colab-df-container {\n",
              "      display:flex;\n",
              "      flex-wrap:wrap;\n",
              "      gap: 12px;\n",
              "    }\n",
              "\n",
              "    .colab-df-convert {\n",
              "      background-color: #E8F0FE;\n",
              "      border: none;\n",
              "      border-radius: 50%;\n",
              "      cursor: pointer;\n",
              "      display: none;\n",
              "      fill: #1967D2;\n",
              "      height: 32px;\n",
              "      padding: 0 0 0 0;\n",
              "      width: 32px;\n",
              "    }\n",
              "\n",
              "    .colab-df-convert:hover {\n",
              "      background-color: #E2EBFA;\n",
              "      box-shadow: 0px 1px 2px rgba(60, 64, 67, 0.3), 0px 1px 3px 1px rgba(60, 64, 67, 0.15);\n",
              "      fill: #174EA6;\n",
              "    }\n",
              "\n",
              "    [theme=dark] .colab-df-convert {\n",
              "      background-color: #3B4455;\n",
              "      fill: #D2E3FC;\n",
              "    }\n",
              "\n",
              "    [theme=dark] .colab-df-convert:hover {\n",
              "      background-color: #434B5C;\n",
              "      box-shadow: 0px 1px 3px 1px rgba(0, 0, 0, 0.15);\n",
              "      filter: drop-shadow(0px 1px 2px rgba(0, 0, 0, 0.3));\n",
              "      fill: #FFFFFF;\n",
              "    }\n",
              "  </style>\n",
              "\n",
              "      <script>\n",
              "        const buttonEl =\n",
              "          document.querySelector('#df-28b100ee-c987-4c8e-8ca2-d13302bc3c81 button.colab-df-convert');\n",
              "        buttonEl.style.display =\n",
              "          google.colab.kernel.accessAllowed ? 'block' : 'none';\n",
              "\n",
              "        async function convertToInteractive(key) {\n",
              "          const element = document.querySelector('#df-28b100ee-c987-4c8e-8ca2-d13302bc3c81');\n",
              "          const dataTable =\n",
              "            await google.colab.kernel.invokeFunction('convertToInteractive',\n",
              "                                                     [key], {});\n",
              "          if (!dataTable) return;\n",
              "\n",
              "          const docLinkHtml = 'Like what you see? Visit the ' +\n",
              "            '<a target=\"_blank\" href=https://colab.research.google.com/notebooks/data_table.ipynb>data table notebook</a>'\n",
              "            + ' to learn more about interactive tables.';\n",
              "          element.innerHTML = '';\n",
              "          dataTable['output_type'] = 'display_data';\n",
              "          await google.colab.output.renderOutput(dataTable, element);\n",
              "          const docLink = document.createElement('div');\n",
              "          docLink.innerHTML = docLinkHtml;\n",
              "          element.appendChild(docLink);\n",
              "        }\n",
              "      </script>\n",
              "    </div>\n",
              "  </div>\n",
              "  "
            ],
            "text/plain": [
              "        chest   arm  height waist   leg  head  feet  weight\n",
              "167975  100.6  86.4   173.2  86.7  77.1  56.9  27.1    73.7\n",
              "167976   97.9  82.7   166.3  90.5  73.4  61.5  28.8    70.7\n",
              "167977   97.9  87.2   175.2  94.3  83.1  57.1  27.6    78.7\n",
              "167978   85.3  86.8   173.6  75.9  76.6  57.6  24.3    57.4\n",
              "167979   86.6  88.3   175.8  73.0  77.8  56.3  26.1    51.7"
            ]
          },
          "metadata": {},
          "execution_count": 5
        }
      ]
    },
    {
      "cell_type": "code",
      "source": [
        "df.isnull().sum()"
      ],
      "metadata": {
        "colab": {
          "base_uri": "https://localhost:8080/"
        },
        "id": "r-1VRPVcZbx8",
        "outputId": "94f157eb-e2cc-439a-ec21-471e52a8b137"
      },
      "execution_count": 6,
      "outputs": [
        {
          "output_type": "execute_result",
          "data": {
            "text/plain": [
              "chest     0\n",
              "arm       0\n",
              "height    0\n",
              "waist     0\n",
              "leg       0\n",
              "head      0\n",
              "feet      0\n",
              "weight    0\n",
              "dtype: int64"
            ]
          },
          "metadata": {},
          "execution_count": 6
        }
      ]
    },
    {
      "cell_type": "markdown",
      "source": [
        "- Remove outliers"
      ],
      "metadata": {
        "id": "UY4nqxlcuoWv"
      }
    },
    {
      "cell_type": "code",
      "source": [
        "head_outlier = df.index[df['head'] > 100].tolist()\n",
        "leg_outlier = df.index[df['leg'] < 10].tolist()\n",
        "feet_outlier = df.index[df['feet'] < 10].tolist()\n",
        "weight_outlier = df.index[df['weight'] < 10].tolist()\n",
        "outliers = head_outlier + leg_outlier + feet_outlier + weight_outlier\n",
        "print(outliers)"
      ],
      "metadata": {
        "colab": {
          "base_uri": "https://localhost:8080/"
        },
        "id": "4SasTyO4iO-S",
        "outputId": "6571301b-bd0d-492e-e224-2860f10bff06"
      },
      "execution_count": 7,
      "outputs": [
        {
          "output_type": "stream",
          "name": "stdout",
          "text": [
            "[149786, 101680, 111533, 149778, 149796, 149761, 149778, 149786, 149789, 149793, 149795, 149796, 149797, 149798, 149799, 149800, 149828, 149829, 149830, 149831, 149832, 149834, 149835, 149836, 149844, 149852, 149860, 149861, 149862, 149863, 149864]\n"
          ]
        }
      ]
    },
    {
      "cell_type": "code",
      "source": [
        "df = df.drop(df.index[outliers])\n",
        "\n",
        "maxs = df.max()\n",
        "mins = df.min()\n",
        "print(\"MAX\")\n",
        "print(maxs)\n",
        "print(\"\\nMIN\")\n",
        "print(mins)"
      ],
      "metadata": {
        "colab": {
          "base_uri": "https://localhost:8080/"
        },
        "id": "_XyB5zkpk15U",
        "outputId": "68bfedbb-f7c0-4b1b-ed0b-754b267c3181"
      },
      "execution_count": 8,
      "outputs": [
        {
          "output_type": "stream",
          "name": "stdout",
          "text": [
            "MAX\n",
            "chest     139.9\n",
            "arm        99.6\n",
            "height    198.4\n",
            "leg       103.7\n",
            "head       63.9\n",
            "feet       34.2\n",
            "weight    135.0\n",
            "dtype: float64\n",
            "\n",
            "MIN\n",
            "chest      75.0\n",
            "arm        77.1\n",
            "height    153.6\n",
            "leg        68.0\n",
            "head       52.0\n",
            "feet       20.6\n",
            "weight     40.1\n",
            "dtype: float64\n"
          ]
        }
      ]
    },
    {
      "cell_type": "code",
      "source": [
        "data = df.to_numpy()\n",
        "data = data.astype(float)"
      ],
      "metadata": {
        "id": "PsHpqsllCT_i"
      },
      "execution_count": 9,
      "outputs": []
    },
    {
      "cell_type": "markdown",
      "source": [
        "- Normalize data"
      ],
      "metadata": {
        "id": "XoRi0mDt5s1T"
      }
    },
    {
      "cell_type": "code",
      "source": [
        "normalized_data = data / np.max(data, axis=0)"
      ],
      "metadata": {
        "id": "e3eBslnKQm30"
      },
      "execution_count": null,
      "outputs": []
    },
    {
      "cell_type": "markdown",
      "source": [
        "- Split data"
      ],
      "metadata": {
        "id": "XVkNBNBwNDK_"
      }
    },
    {
      "cell_type": "code",
      "source": [
        "x, y = normalized_data.shape\n",
        "\n",
        "x_train = normalized_data[:int(x * 0.8), :-1]\n",
        "y_train = normalized_data[:int(x * 0.8), -1]\n",
        "x_test = normalized_data[int(x * 0.8):, :-1]\n",
        "y_test = normalized_data[int(x * 0.8):, -1]\n",
        "\n",
        "print(\"Training X Size : \" + str(x_train.shape))\n",
        "print(\"Training Y Size : \" + str(y_train.shape))\n",
        "print(\"Test X Size : \" + str(x_test.shape))\n",
        "print(\"Test Y Size : \" + str(y_test.shape))"
      ],
      "metadata": {
        "colab": {
          "base_uri": "https://localhost:8080/"
        },
        "id": "el1mPJYyKX3R",
        "outputId": "922a8ee0-42e1-49f8-e80a-f95f649970c4"
      },
      "execution_count": 11,
      "outputs": [
        {
          "output_type": "stream",
          "name": "stdout",
          "text": [
            "Training X Size : (134361, 7)\n",
            "Training Y Size : (134361,)\n",
            "Test X Size : (33591, 7)\n",
            "Test Y Size : (33591,)\n"
          ]
        }
      ]
    },
    {
      "cell_type": "markdown",
      "source": [
        "# 3. Train Model"
      ],
      "metadata": {
        "id": "rcahxZCZDiqN"
      }
    },
    {
      "cell_type": "markdown",
      "source": [
        "- Create neural network model using Keras"
      ],
      "metadata": {
        "id": "FmUfyRUMSyaz"
      }
    },
    {
      "cell_type": "code",
      "source": [
        "model = keras.Sequential([\n",
        "    keras.layers.Dense(3),    \n",
        "    keras.layers.Dense(128, activation=\"relu\"),\n",
        "    keras.layers.Dense(128, activation=\"relu\"),\n",
        "    keras.layers.Dense(1, activation='sigmoid')\n",
        "])\n",
        "\n",
        "model.compile(optimizer=\"adam\", loss=\"mse\", metrics=['mae'])\n",
        "\n",
        "early_stop = keras.callbacks.EarlyStopping(monitor='val_loss', patience=5)\n",
        "history = model.fit(x_train, y_train, epochs=20,\n",
        "                    validation_data=(x_test, y_test),\n",
        "                    callbacks=[early_stop])"
      ],
      "metadata": {
        "colab": {
          "base_uri": "https://localhost:8080/"
        },
        "id": "K3_VxoGOKgAb",
        "outputId": "192e5af1-2c82-4db2-baff-f0e93ec47291"
      },
      "execution_count": 12,
      "outputs": [
        {
          "output_type": "stream",
          "name": "stdout",
          "text": [
            "Epoch 1/20\n",
            "4199/4199 [==============================] - 14s 3ms/step - loss: 0.0024 - mae: 0.0360 - val_loss: 0.0016 - val_mae: 0.0295\n",
            "Epoch 2/20\n",
            "4199/4199 [==============================] - 12s 3ms/step - loss: 0.0014 - mae: 0.0281 - val_loss: 0.0015 - val_mae: 0.0293\n",
            "Epoch 3/20\n",
            "4199/4199 [==============================] - 13s 3ms/step - loss: 0.0013 - mae: 0.0273 - val_loss: 0.0015 - val_mae: 0.0297\n",
            "Epoch 4/20\n",
            "4199/4199 [==============================] - 12s 3ms/step - loss: 0.0012 - mae: 0.0267 - val_loss: 0.0013 - val_mae: 0.0270\n",
            "Epoch 5/20\n",
            "4199/4199 [==============================] - 13s 3ms/step - loss: 0.0012 - mae: 0.0264 - val_loss: 0.0013 - val_mae: 0.0273\n",
            "Epoch 6/20\n",
            "4199/4199 [==============================] - 18s 4ms/step - loss: 0.0012 - mae: 0.0262 - val_loss: 0.0012 - val_mae: 0.0260\n",
            "Epoch 7/20\n",
            "4199/4199 [==============================] - 12s 3ms/step - loss: 0.0012 - mae: 0.0260 - val_loss: 0.0013 - val_mae: 0.0266\n",
            "Epoch 8/20\n",
            "4199/4199 [==============================] - 13s 3ms/step - loss: 0.0012 - mae: 0.0260 - val_loss: 0.0012 - val_mae: 0.0263\n",
            "Epoch 9/20\n",
            "4199/4199 [==============================] - 13s 3ms/step - loss: 0.0012 - mae: 0.0260 - val_loss: 0.0012 - val_mae: 0.0258\n",
            "Epoch 10/20\n",
            "4199/4199 [==============================] - 12s 3ms/step - loss: 0.0012 - mae: 0.0259 - val_loss: 0.0012 - val_mae: 0.0260\n",
            "Epoch 11/20\n",
            "4199/4199 [==============================] - 13s 3ms/step - loss: 0.0012 - mae: 0.0259 - val_loss: 0.0012 - val_mae: 0.0260\n",
            "Epoch 12/20\n",
            "4199/4199 [==============================] - 12s 3ms/step - loss: 0.0012 - mae: 0.0258 - val_loss: 0.0012 - val_mae: 0.0259\n",
            "Epoch 13/20\n",
            "4199/4199 [==============================] - 13s 3ms/step - loss: 0.0012 - mae: 0.0257 - val_loss: 0.0013 - val_mae: 0.0265\n",
            "Epoch 14/20\n",
            "4199/4199 [==============================] - 13s 3ms/step - loss: 0.0012 - mae: 0.0258 - val_loss: 0.0012 - val_mae: 0.0256\n",
            "Epoch 15/20\n",
            "4199/4199 [==============================] - 13s 3ms/step - loss: 0.0012 - mae: 0.0256 - val_loss: 0.0012 - val_mae: 0.0256\n",
            "Epoch 16/20\n",
            "4199/4199 [==============================] - 12s 3ms/step - loss: 0.0012 - mae: 0.0256 - val_loss: 0.0012 - val_mae: 0.0260\n",
            "Epoch 17/20\n",
            "4199/4199 [==============================] - 12s 3ms/step - loss: 0.0012 - mae: 0.0257 - val_loss: 0.0012 - val_mae: 0.0259\n",
            "Epoch 18/20\n",
            "4199/4199 [==============================] - 12s 3ms/step - loss: 0.0012 - mae: 0.0257 - val_loss: 0.0012 - val_mae: 0.0256\n",
            "Epoch 19/20\n",
            "4199/4199 [==============================] - 13s 3ms/step - loss: 0.0012 - mae: 0.0256 - val_loss: 0.0012 - val_mae: 0.0260\n"
          ]
        }
      ]
    },
    {
      "cell_type": "markdown",
      "source": [
        "- Visualize model"
      ],
      "metadata": {
        "id": "3VgiKGaxS1wG"
      }
    },
    {
      "cell_type": "code",
      "source": [
        "plot_model(model, 'model.png', show_shapes=True)"
      ],
      "metadata": {
        "colab": {
          "base_uri": "https://localhost:8080/",
          "height": 533
        },
        "id": "gFTIwzGWXXUs",
        "outputId": "18dca070-b0f7-4d93-eabf-ee19213bddb6"
      },
      "execution_count": 13,
      "outputs": [
        {
          "output_type": "execute_result",
          "data": {
            "image/png": "[encoded data removed]",
            "text/plain": [
              "<IPython.core.display.Image object>"
            ]
          },
          "metadata": {},
          "execution_count": 13
        }
      ]
    },
    {
      "cell_type": "markdown",
      "source": [
        "# 4. Evaluate Model "
      ],
      "metadata": {
        "id": "LlCNjnbuEAIT"
      }
    },
    {
      "cell_type": "markdown",
      "source": [
        "- Visualize accuracy and loss history"
      ],
      "metadata": {
        "id": "brdVMzYxS50t"
      }
    },
    {
      "cell_type": "code",
      "source": [
        "plt.plot(history.history['mae'], label='mae')\n",
        "plt.plot(history.history['loss'], label='loss')\n",
        "plt.plot(history.history['val_mae'], label='val_mae')\n",
        "plt.plot(history.history['val_loss'], label='val_loss')\n",
        "plt.title('Accuracy and Loss History')\n",
        "plt.xlabel('epoch')\n",
        "plt.legend(loc='center right')\n",
        "plt.savefig('result.png')\n",
        "plt.show()"
      ],
      "metadata": {
        "colab": {
          "base_uri": "https://localhost:8080/",
          "height": 295
        },
        "id": "nOGf1VFmXXWq",
        "outputId": "bd4b8ae0-7a35-4cc1-d175-095cdbffaddc"
      },
      "execution_count": 14,
      "outputs": [
        {
          "output_type": "display_data",
          "data": {
            "image/png": "[encoded data removed]",
            "text/plain": [
              "<Figure size 432x288 with 1 Axes>"
            ]
          },
          "metadata": {
            "needs_background": "light"
          }
        }
      ]
    },
    {
      "cell_type": "code",
      "source": [
        "X = model(x_test) / np.max(model(x_test), axis=0)\n",
        "Y = y_test / np.max(y_test, axis=0)\n",
        "\n",
        "minval = min(np.min(X), np.min(Y))\n",
        "maxval = max(np.max(X), np.max(Y))\n",
        "\n",
        "plt.title(\"Regression Result\")\n",
        "plt.xlabel(\"Ground Truth\")\n",
        "plt.ylabel(\"AI Prediction\")\n",
        "plt.scatter(X, Y)\n",
        "plt.plot([minval, maxval], [minval, maxval], \"red\", label='Regression Line') \n",
        "plt.legend()"
      ],
      "metadata": {
        "colab": {
          "base_uri": "https://localhost:8080/",
          "height": 313
        },
        "id": "EWcZado8KgIS",
        "outputId": "deb93da6-b040-4ca8-89ed-dee1645855fe"
      },
      "execution_count": 15,
      "outputs": [
        {
          "output_type": "execute_result",
          "data": {
            "text/plain": [
              "<matplotlib.legend.Legend at 0x7f086063a350>"
            ]
          },
          "metadata": {},
          "execution_count": 15
        },
        {
          "output_type": "display_data",
          "data": {
            "image/png": "[encoded data removed]",
            "text/plain": [
              "<Figure size 432x288 with 1 Axes>"
            ]
          },
          "metadata": {
            "needs_background": "light"
          }
        }
      ]
    }
  ]
}