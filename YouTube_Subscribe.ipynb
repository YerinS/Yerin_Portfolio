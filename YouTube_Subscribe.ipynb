{
 "cells": [
  {
   "cell_type": "markdown",
   "id": "1b6fdcbc",
   "metadata": {},
   "source": [
    "# Why don't people hit the subscribe button?"
   ]
  },
  {
   "cell_type": "markdown",
   "id": "606bbf26",
   "metadata": {},
   "source": [
    "## 1. ASK\n",
    "### Define the problem & ask the right question"
   ]
  },
  {
   "cell_type": "markdown",
   "id": "d829374f",
   "metadata": {},
   "source": [
    "- People spend a lot of time watching videos on YouTube. Korean smartphone users spend the longest time on YouTube than any other app. As of September, it was more than 2.5 times that of Kakao Talk, the most widely used mobile messaging app in Korea. (https://news.naver.com/main/read.naver?oid=031&aid=0000629492)\n",
    "\n",
    "\n",
    "- 'Subscription' is a convenient function that shortens the search time of YouTube users and enables them to watch the video they like asap. However, people do not always subscribe to the YouTube channel that uploaded the video they found interesting, whether they watched it accidentally or out of necessity.\n",
    "\n",
    "\n",
    "- Is the number of views proportional to the number of subscribers of the channel? Is there a difference in this depending on the type of channel? "
   ]
  },
  {
   "cell_type": "markdown",
   "id": "6cbcbcfc",
   "metadata": {},
   "source": [
    "## 2. PREPARE\n",
    "### Collect data"
   ]
  },
  {
   "cell_type": "code",
   "execution_count": 1,
   "id": "704ad577",
   "metadata": {
    "scrolled": true
   },
   "outputs": [],
   "source": [
    "from selenium import webdriver \n",
    "from bs4 import BeautifulSoup \n",
    "import time\n",
    "import pandas as pd\n",
    "import warnings\n",
    "warnings.filterwarnings(action='ignore')"
   ]
  },
  {
   "cell_type": "markdown",
   "id": "4d03add5",
   "metadata": {},
   "source": [
    "- Crawl data from www.youtube-rank.com/"
   ]
  },
  {
   "cell_type": "code",
   "execution_count": 2,
   "id": "91753301",
   "metadata": {
    "scrolled": true
   },
   "outputs": [],
   "source": [
    "browser = webdriver.Chrome('c:/YS/chromedriver.exe')\n",
    "url = \"https://youtube-rank.com/board/bbs/board.php?bo_table=youtube\" \n",
    "browser.get(url)\n",
    "\n",
    "html = browser.page_source\n",
    "soup = BeautifulSoup(html, 'html.parser')"
   ]
  },
  {
   "cell_type": "code",
   "execution_count": 3,
   "id": "1a89c482",
   "metadata": {},
   "outputs": [
    {
     "name": "stdout",
     "output_type": "stream",
     "text": [
      "102 \n",
      "\n",
      "<tr>\n",
      "<th class=\"rank\"><a href=\"/board/bbs/board.php?bo_table=youtube&amp;sop=and&amp;sst=rank&amp;sod=desc&amp;sfl=&amp;stx=&amp;sca=&amp;page=1\">순위 <i aria-hidden=\"true\" class=\"fa fa-sort\"></i></a></th>\n",
      "<th class=\"td_img\">이미지</th>\n",
      "<th class=\"subject\">제목</th>\n",
      "<th class=\"subscriber_cnt\"><a href=\"/board/bbs/board.php?bo_table=youtube&amp;sop=and&amp;sst=subscriber_cnt&amp;sod=desc&amp;sfl=&amp;stx=&amp;sca=&amp;page=1\">구독자순 <i aria-hidden=\"true\" class=\"fa fa-sort\"></i></a></th>\n",
      "<th class=\"view_cnt\"><a href=\"/board/bbs/board.php?bo_table=youtube&amp;sop=and&amp;sst=view_cnt&amp;sod=desc&amp;sfl=&amp;stx=&amp;sca=&amp;page=1\">View순 <i aria-hidden=\"true\" class=\"fa fa-sort\"></i></a></th>\n",
      "<th class=\"video_cnt\"><a href=\"/board/bbs/board.php?bo_table=youtube&amp;sop=and&amp;sst=video_cnt&amp;sod=desc&amp;sfl=&amp;stx=&amp;sca=&amp;page=1\">Video순 <i aria-hidden=\"true\" class=\"fa fa-sort\"></i></a></th>\n",
      "<th class=\"hit\"><a href=\"/board/bbs/board.php?bo_table=youtube&amp;sop=and&amp;sst=wr_hit&amp;sod=desc&amp;sfl=&amp;stx=&amp;sca=&amp;page=1\">조회수 <i aria-hidden=\"true\" class=\"fa fa-sort\"></i></a></th>\n",
      "</tr>\n"
     ]
    }
   ],
   "source": [
    "channel_list = soup.select('tr') \n",
    "print(len(channel_list), '\\n')\n",
    "print(channel_list[0])"
   ]
  },
  {
   "cell_type": "code",
   "execution_count": 4,
   "id": "2f0ce6ea",
   "metadata": {},
   "outputs": [
    {
     "name": "stdout",
     "output_type": "stream",
     "text": [
      "100\n"
     ]
    }
   ],
   "source": [
    "channel_list = soup.select('form > table > tbody > tr')\n",
    "print(len(channel_list))"
   ]
  },
  {
   "cell_type": "code",
   "execution_count": 5,
   "id": "b5b01ce3",
   "metadata": {},
   "outputs": [
    {
     "name": "stdout",
     "output_type": "stream",
     "text": [
      "<tr class=\"aos-init aos-animate\" data-aos=\"fade-up\" data-aos-duration=\"800\">\n",
      "<td class=\"rank\">\n",
      "                        1                    </td>\n",
      "<td class=\"td_img\">\n",
      "<div class=\"info_img\"><a href=\"https://youtube-rank.com/board/bbs/board.php?bo_table=youtube&amp;wr_id=3203\"><img class=\"lazyload\" data-src=\"https://yt3.ggpht.com/ytc/AKedOLS48A09N2xyM8i9JeIfYCWsd-13csflXwYa8XAmoA=s88-c-k-c0x00ffffff-no-rj-mo\" height=\"88\" src=\"https://yt3.ggpht.com/ytc/AKedOLS48A09N2xyM8i9JeIfYCWsd-13csflXwYa8XAmoA=s88-c-k-c0x00ffffff-no-rj-mo\" width=\"88\"/></a></div>\n",
      "<p class=\"info_rank\">1</p>\n",
      "</td>\n",
      "<td class=\"subject\">\n",
      "<h1>\n",
      "<p <a=\"\" class=\"category\" href=\"https://youtube-rank.com/board/bbs/board.php?bo_table=youtube&amp;sca=%EC%9D%8C%EC%95%85%2F%EB%8C%84%EC%8A%A4%2F%EA%B0%80%EC%88%98\">[음악/댄스/가수]\n",
      "                                \n",
      "                                </p>\n",
      "<a href=\"https://youtube-rank.com/board/bbs/board.php?bo_table=youtube&amp;wr_id=3203\">\n",
      "\t\t\t\t\t\t\t\t\n",
      "\t\t\t\t\t\t\t\tBLACKPINK\t\t\t\t\t\t\t</a>\n",
      "<span>\n",
      "<i class=\"fa fa-comment\"></i>\n",
      "\t\t\t\t\t\t\t\t1\t\t\t\t\t\t\t</span>\n",
      "<i aria-hidden=\"true\" class=\"fa fa-heart\"></i> </h1>\n",
      "<h2><span><a href=\"https://youtube-rank.com/board/bbs/board.php?bo_table=youtube&amp;wr_id=3203\">\"YG Entertainment\" YG 와이지 K-pop BLACKPINK 블랙핑크 블핑 제니 로제 리사 지수 Lisa Jisoo Jennie ...</a></span></h2>\n",
      "<h3>\n",
      "<i class=\"fa fa-user\"></i>\n",
      "                            7040만<i class=\"fa fa-play\"></i>215억3740만                            <i class=\"fa fa-video-camera\"></i>\n",
      "                            395                            <i class=\"fa fa-eye\"></i>\n",
      "                            17,376                        </h3>\n",
      "</td>\n",
      "<td class=\"subscriber_cnt\">7040만</td>\n",
      "<td class=\"view_cnt\">215억3740만</td>\n",
      "<td class=\"video_cnt\">395개</td>\n",
      "<td class=\"hit\">\n",
      "<strong>17,376</strong>\n",
      "<span>HIT</span>\n",
      "</td>\n",
      "</tr>\n"
     ]
    }
   ],
   "source": [
    "channel = channel_list[0]\n",
    "print(channel)"
   ]
  },
  {
   "cell_type": "code",
   "execution_count": 6,
   "id": "847a9c70",
   "metadata": {},
   "outputs": [
    {
     "name": "stdout",
     "output_type": "stream",
     "text": [
      "[음악/댄스/가수]\n"
     ]
    }
   ],
   "source": [
    "category = channel.select('p.category')[0].text.strip()\n",
    "print(category)"
   ]
  },
  {
   "cell_type": "code",
   "execution_count": 7,
   "id": "7bc401fc",
   "metadata": {},
   "outputs": [
    {
     "name": "stdout",
     "output_type": "stream",
     "text": [
      "BLACKPINK\n"
     ]
    }
   ],
   "source": [
    "title = channel.select('h1 > a')[0].text.strip()\n",
    "print(title)"
   ]
  },
  {
   "cell_type": "code",
   "execution_count": 8,
   "id": "e9c051ae",
   "metadata": {},
   "outputs": [
    {
     "name": "stdout",
     "output_type": "stream",
     "text": [
      "7040만\n",
      "215억3740만\n",
      "395개\n"
     ]
    }
   ],
   "source": [
    "subscriber = channel.select('.subscriber_cnt')[0].text\n",
    "view = channel.select('.view_cnt')[0].text\n",
    "video = channel.select('.video_cnt')[0].text\n",
    "\n",
    "print(subscriber)\n",
    "print(view)\n",
    "print(video)"
   ]
  },
  {
   "cell_type": "code",
   "execution_count": 9,
   "id": "649c6c5c",
   "metadata": {},
   "outputs": [
    {
     "name": "stdout",
     "output_type": "stream",
     "text": [
      "BLACKPINK [음악/댄스/가수] 7040만 215억3740만 395개\n",
      "HYBE LABELS [음악/댄스/가수] 6310만 205억6338만 728개\n",
      "BANGTANTV [음악/댄스/가수] 6170만 141억6115만 1,647개\n",
      "SMTOWN [음악/댄스/가수] 2940만 230억6671만 3,781개\n",
      "Boram Tube Vlog [보람튜브 브이로그] [키즈/어린이] 2650만 110억5288만 223개\n",
      "1MILLION Dance Studio [음악/댄스/가수] 2460만 69억4022만 3,409개\n",
      "1theK (원더케이) [음악/댄스/가수] 2370만 213억8537만 15,706개\n",
      "JYP Entertainment [음악/댄스/가수] 2310만 150억5889만 1,429개\n",
      "Mnet K-POP [음악/댄스/가수] 1910만 140억0484만 26,901개\n",
      "JFlaMusic [음악/댄스/가수] 1740만 35억0639만 281개\n",
      "KBS WORLD TV [TV/방송] 1720만 129억2744만 54,050개\n",
      "Jane ASMR 제인 [음식/요리/레시피] 1550만 55억2648만 1,305개\n",
      "officialpsy [음악/댄스/가수] 1530만 88억5136만 91개\n",
      "AdeleVEVO [미분류] 1520만 105억3893만 49개\n",
      "BIGBANG [음악/댄스/가수] 1390만 68억4229만 773개\n",
      "TWICE [음악/댄스/가수] 1260만 27억1784만 707개\n",
      "Saturday Night Live [미분류] 1250만 125억8441만 7,777개\n",
      "Hongyu ASMR 홍유 [음식/요리/레시피] 1100만 31억6754만 423개\n",
      "Nao FunFun [키즈/어린이] 1070만 449만 37개\n",
      "Stone Music Entertainment [음악/댄스/가수] 1020만 82억8943만 8,359개\n",
      "DuDuPopTOY [키즈/어린이] 1010만 45억3151만 1,912개\n",
      "핑크퐁 (인기 동요・동화) [키즈/어린이] 996만 60억1550만 2,396개\n",
      "MBCkpop [TV/방송] 962만 76억3721만 41,662개\n",
      "Toymong tv 토이몽TV [키즈/어린이] 958만 39억5891만 1,929개\n",
      "Larva TUBA [키즈/어린이] 953만 41억8057만 2,990개\n",
      "서은이야기[SeoeunStory] [키즈/어린이] 943만 40억6260만 1,052개\n",
      "Mnet TV [음악/댄스/가수] 869만 101억2681만 19,248개\n",
      "EXO [음악/댄스/가수] 855만 5억3351만 228개\n",
      "MBCentertainment [뉴스/정치/사회] 850만 149억2308만 88,307개\n",
      "[햄지]Hamzy [음식/요리/레시피] 845만 25억1931만 369개\n",
      "iKON [음악/댄스/가수] 843만 21억6429만 470개\n",
      "TOMORROW X TOGETHER OFFICIAL [음악/댄스/가수] 831만 5억9037만 910개\n",
      "Stray Kids [음악/댄스/가수] 810만 13억2726만 524개\n",
      "M2 [TV/방송] 785만 59억8877만 15,068개\n",
      "Serie A [해외] 769만 26억0635만 21,290개\n",
      "MariAndKids [키즈/어린이] 754만 23억2296만 809개\n",
      "SEVENTEEN [음악/댄스/가수] 727만 24억0573만 974개\n",
      "SonicToy소닉토이 [키즈/어린이] 726만 30억0915만 163개\n",
      "이지금 [IU Official] [음악/댄스/가수] 715만 11억5001만 134개\n",
      "쏘영 Ssoyoung [음식/요리/레시피] 713만 9억5236만 529개\n",
      "문복희 Eat with Boki [음식/요리/레시피] 702만 16억5123만 502개\n",
      "JTBC Entertainment [뉴스/정치/사회] 701만 101억2209만 66,765개\n",
      "Sungha Jung [음악/댄스/가수] 679만 18억9064만 1,282개\n",
      "DJSnakeVEVO [미분류] 659만 64억5079만 51개\n",
      "KBS Kpop [TV/방송] 656만 51억1539만 30,748개\n",
      "ALL THE K-POP [음악/댄스/가수] 652만 40억0112만 21,040개\n",
      "Pixar [미분류] 651만 32억1025만 691개\n",
      "YG ENTERTAINMENT [음악/댄스/가수] 651만 16억5940만 389개\n",
      "MAMAMOO [음악/댄스/가수] 640만 17억9584만 626개\n",
      "ITZY [음악/댄스/가수] 631만 11억8922만 497개\n",
      "서은일상이야기 [키즈/어린이] 623만 23억3985만 619개\n",
      "스브스케이팝 / SBS KPOP [TV/방송] 620만 42억6271만 27,576개\n",
      "GOT7 [음악/댄스/가수] 613만 7억7811만 579개\n",
      "SBS Entertainment [TV/방송] 595만 70억8350만 218,690개\n",
      "tvN drama [TV/방송] 594만 60억6116만 37,884개\n",
      "Samsung [회사/오피셜] 592만 12억8171만 1,637개\n",
      "PONY Syndrome [패션/미용] 590만 3억4438만 196개\n",
      "SBS Drama [TV/방송] 579만 61억1900만 341,738개\n",
      "[장난감티비]TOYTV [키즈/어린이] 578만 28억2640만 1,525개\n",
      "미니특공대TV [키즈/어린이] 571만 32억0975만 1,176개\n",
      "스위트티비 SweetTV [키즈/어린이] 561만 27억1028만 511개\n",
      "야미보이 Yummyboy [음식/요리/레시피] 556만 20억2947만 899개\n",
      "2NE1 [음악/댄스/가수] 537만 19억9397만 321개\n",
      "백종원의 요리비책 Paik's Cuisine [음식/요리/레시피] 523만 5억7852만 366개\n",
      "콩순이 • 시크릿 쥬쥬 [Kongsuni • Secret Jouju] [키즈/어린이] 519만 46억1589만 1,282개\n",
      "[Awesome Haeun]어썸하은 [BJ/인물/연예인] 517만 8억1891만 514개\n",
      "tzuyang쯔양 [음식/요리/레시피] 505만 7억7868만 292개\n",
      "starshipTV [음악/댄스/가수] 497만 28억9608만 1,987개\n",
      "ToyMart TV [키즈/어린이] 492만 21억4918만 651개\n",
      "베이비버스 -인기 동요・동화 [키즈/어린이] 488만 33억0042만 1,333개\n",
      "TOY GUMA [키즈/어린이] 483만 15억9446만 306개\n",
      "BT21 [음악/댄스/가수] 478만 3억9230만 208개\n",
      "SBS NOW / SBS 공식 채널 [뉴스/정치/사회] 476만 47억6579만 20,506개\n",
      "TREASURE (트레저) [음악/댄스/가수] 472만 9억4287만 294개\n",
      "Red Velvet [음악/댄스/가수] 462만 7억1561만 153개\n",
      "KBS Entertain [TV/방송] 460만 74억3341만 102,781개\n",
      "NCT [음악/댄스/가수] 458만 3억2682만 247개\n",
      "With Kids Playground [위드키즈 놀이터] [키즈/어린이] 458만 17억1634만 411개\n",
      "푸메Fume [음식/요리/레시피] 457만 9억4031만 501개\n",
      "떵개떵 [음식/요리/레시피] 457만 26억0707만 4,439개\n",
      "ASTRO 아스트로 [음악/댄스/가수] 454만 4억4838만 470개\n",
      "MBCdrama [TV/방송] 448만 50억6565만 54,948개\n",
      "뽀로로(Pororo) [키즈/어린이] 448만 60억7520만 3,701개\n",
      "영국남자 Korean Englishman [BJ/인물/연예인] 448만 14억5447만 444개\n",
      "하루한끼 one meal a day [음식/요리/레시피] 440만 4억2852만 172개\n",
      "채널 NCT DAILY [TV/방송] 431만 7억6382만 467개\n",
      "Cooking tree 쿠킹트리 [음식/요리/레시피] 429만 4억0087만 1,182개\n",
      "슈슈토이 Shushu ToysReview [키즈/어린이] 428만 16억0526만 636개\n",
      "NCT 127 [음악/댄스/가수] 427만 4억8226만 289개\n",
      "EA SPORTS FIFA [게임] 426만 8억0337만 795개\n",
      "JTBC Drama [TV/방송] 426만 43억6880만 23,532개\n",
      "SBS TV동물농장x애니멀봐 [애완/반려동물] 426만 38억9639만 3,196개\n",
      "NCT DREAM [음악/댄스/가수] 425만 4억7911만 244개\n",
      "Raon Lee [음악/댄스/가수] 424만 9억5844만 295개\n",
      "까니짱 [ G-NI ] [음식/요리/레시피] 421만 11억1110만 538개\n",
      "로미유 스토리[Romiyu Story] [키즈/어린이] 418만 10억9814만 434개\n",
      "[Dorothy]도로시 [음식/요리/레시피] 416만 9억9855만 905개\n",
      "JaeYeol ASMR 재열 [취미/라이프] 398만 10억9915만 1,021개\n",
      "CoCosToy 꼬꼬스토이 [키즈/어린이] 389만 21억9896만 653개\n",
      "허팝Heopop [BJ/인물/연예인] 384만 32억6741만 1,903개\n"
     ]
    },
    {
     "ename": "IndexError",
     "evalue": "list index out of range",
     "output_type": "error",
     "traceback": [
      "\u001b[1;31m---------------------------------------------------------------------------\u001b[0m",
      "\u001b[1;31mIndexError\u001b[0m                                Traceback (most recent call last)",
      "\u001b[1;32m~\\AppData\\Local\\Temp/ipykernel_9272/2129973415.py\u001b[0m in \u001b[0;36m<module>\u001b[1;34m\u001b[0m\n\u001b[0;32m      1\u001b[0m \u001b[0mchannel_list\u001b[0m \u001b[1;33m=\u001b[0m \u001b[0msoup\u001b[0m\u001b[1;33m.\u001b[0m\u001b[0mselect\u001b[0m\u001b[1;33m(\u001b[0m\u001b[1;34m'tbody > tr'\u001b[0m\u001b[1;33m)\u001b[0m\u001b[1;33m\u001b[0m\u001b[1;33m\u001b[0m\u001b[0m\n\u001b[0;32m      2\u001b[0m \u001b[1;32mfor\u001b[0m \u001b[0mchannel\u001b[0m \u001b[1;32min\u001b[0m \u001b[0mchannel_list\u001b[0m\u001b[1;33m:\u001b[0m\u001b[1;33m\u001b[0m\u001b[1;33m\u001b[0m\u001b[0m\n\u001b[1;32m----> 3\u001b[1;33m     \u001b[0mtitle\u001b[0m \u001b[1;33m=\u001b[0m \u001b[0mchannel\u001b[0m\u001b[1;33m.\u001b[0m\u001b[0mselect\u001b[0m\u001b[1;33m(\u001b[0m\u001b[1;34m'h1 > a'\u001b[0m\u001b[1;33m)\u001b[0m\u001b[1;33m[\u001b[0m\u001b[1;36m0\u001b[0m\u001b[1;33m]\u001b[0m\u001b[1;33m.\u001b[0m\u001b[0mtext\u001b[0m\u001b[1;33m.\u001b[0m\u001b[0mstrip\u001b[0m\u001b[1;33m(\u001b[0m\u001b[1;33m)\u001b[0m\u001b[1;33m\u001b[0m\u001b[1;33m\u001b[0m\u001b[0m\n\u001b[0m\u001b[0;32m      4\u001b[0m     \u001b[0mcategory\u001b[0m \u001b[1;33m=\u001b[0m \u001b[0mchannel\u001b[0m\u001b[1;33m.\u001b[0m\u001b[0mselect\u001b[0m\u001b[1;33m(\u001b[0m\u001b[1;34m'p.category'\u001b[0m\u001b[1;33m)\u001b[0m\u001b[1;33m[\u001b[0m\u001b[1;36m0\u001b[0m\u001b[1;33m]\u001b[0m\u001b[1;33m.\u001b[0m\u001b[0mtext\u001b[0m\u001b[1;33m.\u001b[0m\u001b[0mstrip\u001b[0m\u001b[1;33m(\u001b[0m\u001b[1;33m)\u001b[0m\u001b[1;33m\u001b[0m\u001b[1;33m\u001b[0m\u001b[0m\n\u001b[0;32m      5\u001b[0m     \u001b[0msubscriber\u001b[0m \u001b[1;33m=\u001b[0m \u001b[0mchannel\u001b[0m\u001b[1;33m.\u001b[0m\u001b[0mselect\u001b[0m\u001b[1;33m(\u001b[0m\u001b[1;34m'.subscriber_cnt'\u001b[0m\u001b[1;33m)\u001b[0m\u001b[1;33m[\u001b[0m\u001b[1;36m0\u001b[0m\u001b[1;33m]\u001b[0m\u001b[1;33m.\u001b[0m\u001b[0mtext\u001b[0m\u001b[1;33m\u001b[0m\u001b[1;33m\u001b[0m\u001b[0m\n",
      "\u001b[1;31mIndexError\u001b[0m: list index out of range"
     ]
    }
   ],
   "source": [
    "channel_list = soup.select('tbody > tr') \n",
    "for channel in channel_list:\n",
    "    title = channel.select('h1 > a')[0].text.strip()\n",
    "    category = channel.select('p.category')[0].text.strip()\n",
    "    subscriber = channel.select('.subscriber_cnt')[0].text\n",
    "    view = channel.select('.view_cnt')[0].text\n",
    "    video = channel.select('.video_cnt')[0].text \n",
    "    print(title, category, subscriber, view, video)"
   ]
  },
  {
   "cell_type": "markdown",
   "id": "07321dca",
   "metadata": {},
   "source": [
    "- Create URL"
   ]
  },
  {
   "cell_type": "code",
   "execution_count": 10,
   "id": "a30bf088",
   "metadata": {},
   "outputs": [
    {
     "name": "stdout",
     "output_type": "stream",
     "text": [
      "https://youtube-rank.com/board/bbs/board.php?bo_table=youtube&page=1\n"
     ]
    }
   ],
   "source": [
    "page = 1\n",
    "url = 'https://youtube-rank.com/board/bbs/board.php?bo_table=youtube&page={}'.format(page)\n",
    "print(url)"
   ]
  },
  {
   "cell_type": "code",
   "execution_count": 11,
   "id": "0603aa7c",
   "metadata": {},
   "outputs": [],
   "source": [
    "results = []\n",
    "for page in range(1,11):\n",
    "    url = f\"https://youtube-rank.com/board/bbs/board.php?bo_table=youtube&page={page}\" \n",
    "    browser.get(url)\n",
    "    time.sleep(2)\n",
    "    html = browser.page_source\n",
    "    soup = BeautifulSoup(html, 'html.parser')\n",
    "    channel_list = soup.select('form > table > tbody > tr')\n",
    "    for channel in channel_list:\n",
    "        title = channel.select('h1 > a')[0].text.strip() \n",
    "        category = channel.select('p.category')[0].text.strip()\n",
    "        subscriber = channel.select('.subscriber_cnt')[0].text \n",
    "        view = channel.select('.view_cnt')[0].text\n",
    "        video = channel.select('.video_cnt')[0].text\n",
    "        data = [title, category, subscriber, view, video]\n",
    "        results.append(data)"
   ]
  },
  {
   "cell_type": "markdown",
   "id": "224cf9a9",
   "metadata": {},
   "source": [
    "## 3. PROCESS\n",
    "### Clean data, determine data bias, make data more consistent"
   ]
  },
  {
   "cell_type": "markdown",
   "id": "fae5eab2",
   "metadata": {},
   "source": [
    "- Save data to an Excel file"
   ]
  },
  {
   "cell_type": "code",
   "execution_count": 12,
   "id": "ba52926d",
   "metadata": {},
   "outputs": [],
   "source": [
    "df = pd.DataFrame(results)\n",
    "df.columns = ['title', 'category', 'subscriber', 'view', 'video']\n",
    "df.to_excel('./files/youtube_rank.xlsx', index = False)"
   ]
  },
  {
   "cell_type": "code",
   "execution_count": 13,
   "id": "bb82321d",
   "metadata": {},
   "outputs": [
    {
     "data": {
      "text/plain": [
       "array(['[음악/댄스/가수]', '[키즈/어린이]', '[TV/방송]', '[음식/요리/레시피]', '[미분류]',\n",
       "       '[뉴스/정치/사회]', '[해외]', '[회사/오피셜]', '[패션/미용]', '[BJ/인물/연예인]', '[게임]',\n",
       "       '[애완/반려동물]', '[취미/라이프]', '[영화/만화/애니]', '[스포츠/운동]', '[교육/강의]',\n",
       "       '[IT/기술/컴퓨터]', '[주식/경제/부동산]', '[국내/해외/여행]', '[자동차]', '[취미]'],\n",
       "      dtype=object)"
      ]
     },
     "execution_count": 13,
     "metadata": {},
     "output_type": "execute_result"
    }
   ],
   "source": [
    "df['category'].unique()"
   ]
  },
  {
   "cell_type": "markdown",
   "id": "5056aa6f",
   "metadata": {},
   "source": [
    "- Translate categories"
   ]
  },
  {
   "cell_type": "code",
   "execution_count": 14,
   "id": "44498ddd",
   "metadata": {},
   "outputs": [
    {
     "data": {
      "text/plain": [
       "array(['Music & Dance', 'Kids', 'TV & Radio', 'Food & Recipe',\n",
       "       'Unclassified', 'News & Politics', 'Overseas', 'Brand & Business',\n",
       "       'Fashion & Beauty', 'Celebrity', 'Gaming', 'Pets & Animals',\n",
       "       'Lifestyle', 'Film & Animation', 'Sports & Fitness', 'Education',\n",
       "       'Technology', 'Economics & Investment', 'Travel',\n",
       "       'Autos & Vehicles', 'Hobbies'], dtype=object)"
      ]
     },
     "execution_count": 14,
     "metadata": {},
     "output_type": "execute_result"
    }
   ],
   "source": [
    "df = df.replace({'[음악/댄스/가수]':'Music & Dance', '[키즈/어린이]':'Kids', '[TV/방송]':'TV & Radio', '[음식/요리/레시피]':'Food & Recipe', '[미분류]':'Unclassified', '[뉴스/정치/사회]':'News & Politics', '[해외]':'Overseas', '[회사/오피셜]':'Brand & Business', '[패션/미용]':'Fashion & Beauty', '[BJ/인물/연예인]':'Celebrity', '[게임]':'Gaming', '[애완/반려동물]':'Pets & Animals', '[취미/라이프]':'Lifestyle', '[영화/만화/애니]':'Film & Animation', '[스포츠/운동]':'Sports & Fitness', '[교육/강의]':'Education', '[IT/기술/컴퓨터]':'Technology', '[주식/경제/부동산]':'Economics & Investment', '[국내/해외/여행]':'Travel', '[자동차]':'Autos & Vehicles', '[취미]':'Hobbies'})\n",
    "df['category'].unique()"
   ]
  },
  {
   "cell_type": "markdown",
   "id": "7e474edc",
   "metadata": {},
   "source": [
    "## 4. VISUALIZE\n",
    "### Communicate findings effectively"
   ]
  },
  {
   "cell_type": "code",
   "execution_count": 15,
   "id": "19854fa3",
   "metadata": {},
   "outputs": [],
   "source": [
    "import pandas as pd\n",
    "import matplotlib.pyplot as plt"
   ]
  },
  {
   "cell_type": "code",
   "execution_count": 16,
   "id": "3a42f4e2",
   "metadata": {},
   "outputs": [
    {
     "data": {
      "text/plain": [
       "0    7040만\n",
       "1    6310만\n",
       "2    6170만\n",
       "3    2940만\n",
       "4    2650만\n",
       "Name: subscriber, dtype: object"
      ]
     },
     "execution_count": 16,
     "metadata": {},
     "output_type": "execute_result"
    }
   ],
   "source": [
    "df['subscriber'].head()"
   ]
  },
  {
   "cell_type": "code",
   "execution_count": 17,
   "id": "6a86b743",
   "metadata": {},
   "outputs": [
    {
     "data": {
      "text/plain": [
       "0    215억3740만\n",
       "1    205억6338만\n",
       "2    141억6115만\n",
       "3    230억6671만\n",
       "4    110억5288만\n",
       "Name: view, dtype: object"
      ]
     },
     "execution_count": 17,
     "metadata": {},
     "output_type": "execute_result"
    }
   ],
   "source": [
    "df['view'].head()"
   ]
  },
  {
   "cell_type": "code",
   "execution_count": 18,
   "id": "8c64d16b",
   "metadata": {
    "scrolled": true
   },
   "outputs": [
    {
     "data": {
      "text/html": [
       "<div>\n",
       "<style scoped>\n",
       "    .dataframe tbody tr th:only-of-type {\n",
       "        vertical-align: middle;\n",
       "    }\n",
       "\n",
       "    .dataframe tbody tr th {\n",
       "        vertical-align: top;\n",
       "    }\n",
       "\n",
       "    .dataframe thead th {\n",
       "        text-align: right;\n",
       "    }\n",
       "</style>\n",
       "<table border=\"1\" class=\"dataframe\">\n",
       "  <thead>\n",
       "    <tr style=\"text-align: right;\">\n",
       "      <th></th>\n",
       "      <th>title</th>\n",
       "      <th>category</th>\n",
       "      <th>subscriber</th>\n",
       "      <th>view</th>\n",
       "      <th>video</th>\n",
       "      <th>replaced_subscriber(K)</th>\n",
       "      <th>replaced_view(K)</th>\n",
       "    </tr>\n",
       "  </thead>\n",
       "  <tbody>\n",
       "    <tr>\n",
       "      <th>0</th>\n",
       "      <td>BLACKPINK</td>\n",
       "      <td>Music &amp; Dance</td>\n",
       "      <td>7040만</td>\n",
       "      <td>215억3740만</td>\n",
       "      <td>395개</td>\n",
       "      <td>70400</td>\n",
       "      <td>21537400</td>\n",
       "    </tr>\n",
       "    <tr>\n",
       "      <th>1</th>\n",
       "      <td>HYBE LABELS</td>\n",
       "      <td>Music &amp; Dance</td>\n",
       "      <td>6310만</td>\n",
       "      <td>205억6338만</td>\n",
       "      <td>728개</td>\n",
       "      <td>63100</td>\n",
       "      <td>20563380</td>\n",
       "    </tr>\n",
       "    <tr>\n",
       "      <th>2</th>\n",
       "      <td>BANGTANTV</td>\n",
       "      <td>Music &amp; Dance</td>\n",
       "      <td>6170만</td>\n",
       "      <td>141억6115만</td>\n",
       "      <td>1,647개</td>\n",
       "      <td>61700</td>\n",
       "      <td>14161150</td>\n",
       "    </tr>\n",
       "    <tr>\n",
       "      <th>3</th>\n",
       "      <td>SMTOWN</td>\n",
       "      <td>Music &amp; Dance</td>\n",
       "      <td>2940만</td>\n",
       "      <td>230억6671만</td>\n",
       "      <td>3,781개</td>\n",
       "      <td>29400</td>\n",
       "      <td>23066710</td>\n",
       "    </tr>\n",
       "    <tr>\n",
       "      <th>4</th>\n",
       "      <td>Boram Tube Vlog [보람튜브 브이로그]</td>\n",
       "      <td>Kids</td>\n",
       "      <td>2650만</td>\n",
       "      <td>110억5288만</td>\n",
       "      <td>223개</td>\n",
       "      <td>26500</td>\n",
       "      <td>11052880</td>\n",
       "    </tr>\n",
       "  </tbody>\n",
       "</table>\n",
       "</div>"
      ],
      "text/plain": [
       "                         title       category subscriber       view   video  \\\n",
       "0                    BLACKPINK  Music & Dance      7040만  215억3740만    395개   \n",
       "1                  HYBE LABELS  Music & Dance      6310만  205억6338만    728개   \n",
       "2                    BANGTANTV  Music & Dance      6170만  141억6115만  1,647개   \n",
       "3                       SMTOWN  Music & Dance      2940만  230억6671만  3,781개   \n",
       "4  Boram Tube Vlog [보람튜브 브이로그]           Kids      2650만  110억5288만    223개   \n",
       "\n",
       "  replaced_subscriber(K) replaced_view(K)  \n",
       "0                  70400         21537400  \n",
       "1                  63100         20563380  \n",
       "2                  61700         14161150  \n",
       "3                  29400         23066710  \n",
       "4                  26500         11052880  "
      ]
     },
     "execution_count": 18,
     "metadata": {},
     "output_type": "execute_result"
    }
   ],
   "source": [
    "df['replaced_subscriber(K)'] = df['subscriber'].str.replace('만', '0')\n",
    "df['replaced_view(K)'] = df['view'].str.replace('만', '0')\n",
    "df['replaced_view(K)'] = df['replaced_view(K)'].str.replace('억', '')\n",
    "df.head()"
   ]
  },
  {
   "cell_type": "code",
   "execution_count": 19,
   "id": "0b2d4d55",
   "metadata": {},
   "outputs": [
    {
     "data": {
      "text/html": [
       "<div>\n",
       "<style scoped>\n",
       "    .dataframe tbody tr th:only-of-type {\n",
       "        vertical-align: middle;\n",
       "    }\n",
       "\n",
       "    .dataframe tbody tr th {\n",
       "        vertical-align: top;\n",
       "    }\n",
       "\n",
       "    .dataframe thead th {\n",
       "        text-align: right;\n",
       "    }\n",
       "</style>\n",
       "<table border=\"1\" class=\"dataframe\">\n",
       "  <thead>\n",
       "    <tr style=\"text-align: right;\">\n",
       "      <th></th>\n",
       "      <th>title</th>\n",
       "      <th>category</th>\n",
       "      <th>subscriber</th>\n",
       "      <th>view</th>\n",
       "      <th>video</th>\n",
       "      <th>replaced_subscriber(K)</th>\n",
       "      <th>replaced_view(K)</th>\n",
       "    </tr>\n",
       "  </thead>\n",
       "  <tbody>\n",
       "    <tr>\n",
       "      <th>995</th>\n",
       "      <td>Reynah</td>\n",
       "      <td>Music &amp; Dance</td>\n",
       "      <td>55만</td>\n",
       "      <td>1억4888만</td>\n",
       "      <td>246개</td>\n",
       "      <td>550</td>\n",
       "      <td>148880</td>\n",
       "    </tr>\n",
       "    <tr>\n",
       "      <th>996</th>\n",
       "      <td>J.Y. Park</td>\n",
       "      <td>TV &amp; Radio</td>\n",
       "      <td>55만</td>\n",
       "      <td>9373만</td>\n",
       "      <td>90개</td>\n",
       "      <td>550</td>\n",
       "      <td>93730</td>\n",
       "    </tr>\n",
       "    <tr>\n",
       "      <th>997</th>\n",
       "      <td>[ALTUBE] 김성현TV</td>\n",
       "      <td>Gaming</td>\n",
       "      <td>55만</td>\n",
       "      <td>4억2388만</td>\n",
       "      <td>2,121개</td>\n",
       "      <td>550</td>\n",
       "      <td>423880</td>\n",
       "    </tr>\n",
       "    <tr>\n",
       "      <th>998</th>\n",
       "      <td>앵쩡TV</td>\n",
       "      <td>Food &amp; Recipe</td>\n",
       "      <td>55만</td>\n",
       "      <td>9653만</td>\n",
       "      <td>294개</td>\n",
       "      <td>550</td>\n",
       "      <td>96530</td>\n",
       "    </tr>\n",
       "    <tr>\n",
       "      <th>999</th>\n",
       "      <td>방앗간 비둘기</td>\n",
       "      <td>Gaming</td>\n",
       "      <td>55만</td>\n",
       "      <td>3억5690만</td>\n",
       "      <td>4,381개</td>\n",
       "      <td>550</td>\n",
       "      <td>356900</td>\n",
       "    </tr>\n",
       "  </tbody>\n",
       "</table>\n",
       "</div>"
      ],
      "text/plain": [
       "              title       category subscriber     view   video  \\\n",
       "995          Reynah  Music & Dance        55만  1억4888만    246개   \n",
       "996       J.Y. Park     TV & Radio        55만    9373만     90개   \n",
       "997  [ALTUBE] 김성현TV         Gaming        55만  4억2388만  2,121개   \n",
       "998            앵쩡TV  Food & Recipe        55만    9653만    294개   \n",
       "999         방앗간 비둘기         Gaming        55만  3억5690만  4,381개   \n",
       "\n",
       "    replaced_subscriber(K) replaced_view(K)  \n",
       "995                    550           148880  \n",
       "996                    550            93730  \n",
       "997                    550           423880  \n",
       "998                    550            96530  \n",
       "999                    550           356900  "
      ]
     },
     "execution_count": 19,
     "metadata": {},
     "output_type": "execute_result"
    }
   ],
   "source": [
    "df.tail()"
   ]
  },
  {
   "cell_type": "code",
   "execution_count": 20,
   "id": "ca0e297b",
   "metadata": {},
   "outputs": [
    {
     "name": "stdout",
     "output_type": "stream",
     "text": [
      "<class 'pandas.core.frame.DataFrame'>\n",
      "RangeIndex: 1000 entries, 0 to 999\n",
      "Data columns (total 7 columns):\n",
      " #   Column                  Non-Null Count  Dtype \n",
      "---  ------                  --------------  ----- \n",
      " 0   title                   1000 non-null   object\n",
      " 1   category                1000 non-null   object\n",
      " 2   subscriber              1000 non-null   object\n",
      " 3   view                    1000 non-null   object\n",
      " 4   video                   1000 non-null   object\n",
      " 5   replaced_subscriber(K)  1000 non-null   object\n",
      " 6   replaced_view(K)        1000 non-null   object\n",
      "dtypes: object(7)\n",
      "memory usage: 54.8+ KB\n"
     ]
    }
   ],
   "source": [
    "df.info()"
   ]
  },
  {
   "cell_type": "markdown",
   "id": "92df45d0",
   "metadata": {},
   "source": [
    "- Convert data type"
   ]
  },
  {
   "cell_type": "code",
   "execution_count": 21,
   "id": "324fded0",
   "metadata": {},
   "outputs": [
    {
     "name": "stdout",
     "output_type": "stream",
     "text": [
      "<class 'pandas.core.frame.DataFrame'>\n",
      "RangeIndex: 1000 entries, 0 to 999\n",
      "Data columns (total 7 columns):\n",
      " #   Column                  Non-Null Count  Dtype \n",
      "---  ------                  --------------  ----- \n",
      " 0   title                   1000 non-null   object\n",
      " 1   category                1000 non-null   object\n",
      " 2   subscriber              1000 non-null   object\n",
      " 3   view                    1000 non-null   object\n",
      " 4   video                   1000 non-null   object\n",
      " 5   replaced_subscriber(K)  1000 non-null   int32 \n",
      " 6   replaced_view(K)        1000 non-null   int32 \n",
      "dtypes: int32(2), object(5)\n",
      "memory usage: 47.0+ KB\n"
     ]
    }
   ],
   "source": [
    "df['replaced_subscriber(K)'] = df['replaced_subscriber(K)'].astype('int')\n",
    "df['replaced_view(K)'] = df['replaced_view(K)'].astype('int')\n",
    "df.info()"
   ]
  },
  {
   "cell_type": "markdown",
   "id": "86c5e20e",
   "metadata": {},
   "source": [
    "- Create a pivot table"
   ]
  },
  {
   "cell_type": "code",
   "execution_count": 22,
   "id": "579f8d67",
   "metadata": {},
   "outputs": [
    {
     "data": {
      "text/html": [
       "<div>\n",
       "<style scoped>\n",
       "    .dataframe tbody tr th:only-of-type {\n",
       "        vertical-align: middle;\n",
       "    }\n",
       "\n",
       "    .dataframe tbody tr th {\n",
       "        vertical-align: top;\n",
       "    }\n",
       "\n",
       "    .dataframe thead th {\n",
       "        text-align: right;\n",
       "    }\n",
       "</style>\n",
       "<table border=\"1\" class=\"dataframe\">\n",
       "  <thead>\n",
       "    <tr style=\"text-align: right;\">\n",
       "      <th></th>\n",
       "      <th>subscriber_sum(K)</th>\n",
       "      <th>category_count</th>\n",
       "    </tr>\n",
       "    <tr>\n",
       "      <th>category</th>\n",
       "      <th></th>\n",
       "      <th></th>\n",
       "    </tr>\n",
       "  </thead>\n",
       "  <tbody>\n",
       "    <tr>\n",
       "      <th>Autos &amp; Vehicles</th>\n",
       "      <td>1390</td>\n",
       "      <td>2</td>\n",
       "    </tr>\n",
       "    <tr>\n",
       "      <th>Brand &amp; Business</th>\n",
       "      <td>13080</td>\n",
       "      <td>6</td>\n",
       "    </tr>\n",
       "    <tr>\n",
       "      <th>Celebrity</th>\n",
       "      <td>93020</td>\n",
       "      <td>65</td>\n",
       "    </tr>\n",
       "    <tr>\n",
       "      <th>Economics &amp; Investment</th>\n",
       "      <td>8220</td>\n",
       "      <td>8</td>\n",
       "    </tr>\n",
       "    <tr>\n",
       "      <th>Education</th>\n",
       "      <td>24790</td>\n",
       "      <td>22</td>\n",
       "    </tr>\n",
       "  </tbody>\n",
       "</table>\n",
       "</div>"
      ],
      "text/plain": [
       "                        subscriber_sum(K)  category_count\n",
       "category                                                 \n",
       "Autos & Vehicles                     1390               2\n",
       "Brand & Business                    13080               6\n",
       "Celebrity                           93020              65\n",
       "Economics & Investment               8220               8\n",
       "Education                           24790              22"
      ]
     },
     "execution_count": 22,
     "metadata": {},
     "output_type": "execute_result"
    }
   ],
   "source": [
    "pivot_df = df.pivot_table(index = 'category', values = 'replaced_subscriber(K)', aggfunc = ['sum','count'])\n",
    "pivot_df.columns = ['subscriber_sum(K)', 'category_count']\n",
    "pivot_df.head()"
   ]
  },
  {
   "cell_type": "code",
   "execution_count": 23,
   "id": "3add615b",
   "metadata": {},
   "outputs": [
    {
     "data": {
      "text/html": [
       "<div>\n",
       "<style scoped>\n",
       "    .dataframe tbody tr th:only-of-type {\n",
       "        vertical-align: middle;\n",
       "    }\n",
       "\n",
       "    .dataframe tbody tr th {\n",
       "        vertical-align: top;\n",
       "    }\n",
       "\n",
       "    .dataframe thead th {\n",
       "        text-align: right;\n",
       "    }\n",
       "</style>\n",
       "<table border=\"1\" class=\"dataframe\">\n",
       "  <thead>\n",
       "    <tr style=\"text-align: right;\">\n",
       "      <th></th>\n",
       "      <th>category</th>\n",
       "      <th>subscriber_sum(K)</th>\n",
       "      <th>category_count</th>\n",
       "    </tr>\n",
       "  </thead>\n",
       "  <tbody>\n",
       "    <tr>\n",
       "      <th>0</th>\n",
       "      <td>Autos &amp; Vehicles</td>\n",
       "      <td>1390</td>\n",
       "      <td>2</td>\n",
       "    </tr>\n",
       "    <tr>\n",
       "      <th>1</th>\n",
       "      <td>Brand &amp; Business</td>\n",
       "      <td>13080</td>\n",
       "      <td>6</td>\n",
       "    </tr>\n",
       "    <tr>\n",
       "      <th>2</th>\n",
       "      <td>Celebrity</td>\n",
       "      <td>93020</td>\n",
       "      <td>65</td>\n",
       "    </tr>\n",
       "    <tr>\n",
       "      <th>3</th>\n",
       "      <td>Economics &amp; Investment</td>\n",
       "      <td>8220</td>\n",
       "      <td>8</td>\n",
       "    </tr>\n",
       "    <tr>\n",
       "      <th>4</th>\n",
       "      <td>Education</td>\n",
       "      <td>24790</td>\n",
       "      <td>22</td>\n",
       "    </tr>\n",
       "    <tr>\n",
       "      <th>5</th>\n",
       "      <td>Fashion &amp; Beauty</td>\n",
       "      <td>41990</td>\n",
       "      <td>42</td>\n",
       "    </tr>\n",
       "    <tr>\n",
       "      <th>6</th>\n",
       "      <td>Film &amp; Animation</td>\n",
       "      <td>37490</td>\n",
       "      <td>33</td>\n",
       "    </tr>\n",
       "    <tr>\n",
       "      <th>7</th>\n",
       "      <td>Food &amp; Recipe</td>\n",
       "      <td>186090</td>\n",
       "      <td>84</td>\n",
       "    </tr>\n",
       "    <tr>\n",
       "      <th>8</th>\n",
       "      <td>Gaming</td>\n",
       "      <td>70480</td>\n",
       "      <td>69</td>\n",
       "    </tr>\n",
       "    <tr>\n",
       "      <th>9</th>\n",
       "      <td>Hobbies</td>\n",
       "      <td>610</td>\n",
       "      <td>1</td>\n",
       "    </tr>\n",
       "    <tr>\n",
       "      <th>10</th>\n",
       "      <td>Kids</td>\n",
       "      <td>271030</td>\n",
       "      <td>89</td>\n",
       "    </tr>\n",
       "    <tr>\n",
       "      <th>11</th>\n",
       "      <td>Lifestyle</td>\n",
       "      <td>48940</td>\n",
       "      <td>37</td>\n",
       "    </tr>\n",
       "    <tr>\n",
       "      <th>12</th>\n",
       "      <td>Music &amp; Dance</td>\n",
       "      <td>716730</td>\n",
       "      <td>172</td>\n",
       "    </tr>\n",
       "    <tr>\n",
       "      <th>13</th>\n",
       "      <td>News &amp; Politics</td>\n",
       "      <td>75350</td>\n",
       "      <td>53</td>\n",
       "    </tr>\n",
       "    <tr>\n",
       "      <th>14</th>\n",
       "      <td>Overseas</td>\n",
       "      <td>13210</td>\n",
       "      <td>6</td>\n",
       "    </tr>\n",
       "    <tr>\n",
       "      <th>15</th>\n",
       "      <td>Pets &amp; Animals</td>\n",
       "      <td>27020</td>\n",
       "      <td>18</td>\n",
       "    </tr>\n",
       "    <tr>\n",
       "      <th>16</th>\n",
       "      <td>Sports &amp; Fitness</td>\n",
       "      <td>14840</td>\n",
       "      <td>10</td>\n",
       "    </tr>\n",
       "    <tr>\n",
       "      <th>17</th>\n",
       "      <td>TV &amp; Radio</td>\n",
       "      <td>242070</td>\n",
       "      <td>144</td>\n",
       "    </tr>\n",
       "    <tr>\n",
       "      <th>18</th>\n",
       "      <td>Technology</td>\n",
       "      <td>8410</td>\n",
       "      <td>8</td>\n",
       "    </tr>\n",
       "    <tr>\n",
       "      <th>19</th>\n",
       "      <td>Travel</td>\n",
       "      <td>3810</td>\n",
       "      <td>4</td>\n",
       "    </tr>\n",
       "    <tr>\n",
       "      <th>20</th>\n",
       "      <td>Unclassified</td>\n",
       "      <td>134360</td>\n",
       "      <td>127</td>\n",
       "    </tr>\n",
       "  </tbody>\n",
       "</table>\n",
       "</div>"
      ],
      "text/plain": [
       "                  category  subscriber_sum(K)  category_count\n",
       "0         Autos & Vehicles               1390               2\n",
       "1         Brand & Business              13080               6\n",
       "2                Celebrity              93020              65\n",
       "3   Economics & Investment               8220               8\n",
       "4                Education              24790              22\n",
       "5         Fashion & Beauty              41990              42\n",
       "6         Film & Animation              37490              33\n",
       "7            Food & Recipe             186090              84\n",
       "8                   Gaming              70480              69\n",
       "9                  Hobbies                610               1\n",
       "10                    Kids             271030              89\n",
       "11               Lifestyle              48940              37\n",
       "12           Music & Dance             716730             172\n",
       "13         News & Politics              75350              53\n",
       "14                Overseas              13210               6\n",
       "15          Pets & Animals              27020              18\n",
       "16        Sports & Fitness              14840              10\n",
       "17              TV & Radio             242070             144\n",
       "18              Technology               8410               8\n",
       "19                  Travel               3810               4\n",
       "20            Unclassified             134360             127"
      ]
     },
     "execution_count": 23,
     "metadata": {},
     "output_type": "execute_result"
    }
   ],
   "source": [
    "pivot_df = pivot_df.reset_index()\n",
    "pivot_df"
   ]
  },
  {
   "cell_type": "markdown",
   "id": "1913adb1",
   "metadata": {},
   "source": [
    "#### Number of channels by category"
   ]
  },
  {
   "cell_type": "code",
   "execution_count": 24,
   "id": "068d0549",
   "metadata": {
    "scrolled": true
   },
   "outputs": [
    {
     "data": {
      "text/html": [
       "<div>\n",
       "<style scoped>\n",
       "    .dataframe tbody tr th:only-of-type {\n",
       "        vertical-align: middle;\n",
       "    }\n",
       "\n",
       "    .dataframe tbody tr th {\n",
       "        vertical-align: top;\n",
       "    }\n",
       "\n",
       "    .dataframe thead th {\n",
       "        text-align: right;\n",
       "    }\n",
       "</style>\n",
       "<table border=\"1\" class=\"dataframe\">\n",
       "  <thead>\n",
       "    <tr style=\"text-align: right;\">\n",
       "      <th></th>\n",
       "      <th>category</th>\n",
       "      <th>subscriber_sum(K)</th>\n",
       "      <th>category_count</th>\n",
       "    </tr>\n",
       "  </thead>\n",
       "  <tbody>\n",
       "    <tr>\n",
       "      <th>12</th>\n",
       "      <td>Music &amp; Dance</td>\n",
       "      <td>716730</td>\n",
       "      <td>172</td>\n",
       "    </tr>\n",
       "    <tr>\n",
       "      <th>17</th>\n",
       "      <td>TV &amp; Radio</td>\n",
       "      <td>242070</td>\n",
       "      <td>144</td>\n",
       "    </tr>\n",
       "    <tr>\n",
       "      <th>20</th>\n",
       "      <td>Unclassified</td>\n",
       "      <td>134360</td>\n",
       "      <td>127</td>\n",
       "    </tr>\n",
       "    <tr>\n",
       "      <th>10</th>\n",
       "      <td>Kids</td>\n",
       "      <td>271030</td>\n",
       "      <td>89</td>\n",
       "    </tr>\n",
       "    <tr>\n",
       "      <th>7</th>\n",
       "      <td>Food &amp; Recipe</td>\n",
       "      <td>186090</td>\n",
       "      <td>84</td>\n",
       "    </tr>\n",
       "  </tbody>\n",
       "</table>\n",
       "</div>"
      ],
      "text/plain": [
       "         category  subscriber_sum(K)  category_count\n",
       "12  Music & Dance             716730             172\n",
       "17     TV & Radio             242070             144\n",
       "20   Unclassified             134360             127\n",
       "10           Kids             271030              89\n",
       "7   Food & Recipe             186090              84"
      ]
     },
     "execution_count": 24,
     "metadata": {},
     "output_type": "execute_result"
    }
   ],
   "source": [
    "pivot_df = pivot_df.sort_values(by='category_count', ascending=False)\n",
    "pivot_df.head()"
   ]
  },
  {
   "cell_type": "code",
   "execution_count": 25,
   "id": "63168494",
   "metadata": {
    "scrolled": true
   },
   "outputs": [
    {
     "data": {
      "text/plain": [
       "21"
      ]
     },
     "execution_count": 25,
     "metadata": {},
     "output_type": "execute_result"
    }
   ],
   "source": [
    "categories = pivot_df['category']\n",
    "categories = categories.tolist()\n",
    "len(categories)"
   ]
  },
  {
   "cell_type": "code",
   "execution_count": 26,
   "id": "6794b721",
   "metadata": {
    "scrolled": true
   },
   "outputs": [
    {
     "name": "stdout",
     "output_type": "stream",
     "text": [
      "{'Music & Dance': 'C0', 'TV & Radio': 'C1', 'Unclassified': 'C2', 'Kids': 'C3', 'Food & Recipe': 'C4', 'Gaming': 'C5', 'Celebrity': 'C6', 'News & Politics': 'C7', 'Fashion & Beauty': 'C8', 'Lifestyle': 'C9', 'Film & Animation': 'C10', 'Education': 'C11', 'Pets & Animals': 'C12', 'Sports & Fitness': 'C13', 'Technology': 'C14', 'Economics & Investment': 'C15', 'Overseas': 'C16', 'Brand & Business': 'C17', 'Travel': 'C18', 'Autos & Vehicles': 'C19', 'Hobbies': 'C20'}\n"
     ]
    }
   ],
   "source": [
    "colorlist = []\n",
    "for i in range(22):\n",
    "    colors = 'C'+str(i)\n",
    "    colorlist.append(colors)\n",
    "\n",
    "color_dict = dict(zip(categories, colorlist))\n",
    "print(color_dict)"
   ]
  },
  {
   "cell_type": "code",
   "execution_count": 27,
   "id": "de43217f",
   "metadata": {
    "scrolled": true
   },
   "outputs": [
    {
     "data": {
      "image/png": "[encoded data removed]",
      "text/plain": [
       "<Figure size 2160x720 with 1 Axes>"
      ]
     },
     "metadata": {},
     "output_type": "display_data"
    }
   ],
   "source": [
    "plt.figure(figsize = (30,10))\n",
    "plt.title(\"Channels by category\", fontsize=20)\n",
    "plt.pie(pivot_df['category_count'], labels=pivot_df['category'], colors = [color_dict[key] for key in categories], autopct='%1.1f%%')\n",
    "plt.show()"
   ]
  },
  {
   "cell_type": "markdown",
   "id": "b1353409",
   "metadata": {},
   "source": [
    "#### Subscribers by category"
   ]
  },
  {
   "cell_type": "code",
   "execution_count": 28,
   "id": "887a953a",
   "metadata": {
    "scrolled": true
   },
   "outputs": [
    {
     "data": {
      "text/html": [
       "<div>\n",
       "<style scoped>\n",
       "    .dataframe tbody tr th:only-of-type {\n",
       "        vertical-align: middle;\n",
       "    }\n",
       "\n",
       "    .dataframe tbody tr th {\n",
       "        vertical-align: top;\n",
       "    }\n",
       "\n",
       "    .dataframe thead th {\n",
       "        text-align: right;\n",
       "    }\n",
       "</style>\n",
       "<table border=\"1\" class=\"dataframe\">\n",
       "  <thead>\n",
       "    <tr style=\"text-align: right;\">\n",
       "      <th></th>\n",
       "      <th>category</th>\n",
       "      <th>subscriber_sum(K)</th>\n",
       "      <th>category_count</th>\n",
       "    </tr>\n",
       "  </thead>\n",
       "  <tbody>\n",
       "    <tr>\n",
       "      <th>12</th>\n",
       "      <td>Music &amp; Dance</td>\n",
       "      <td>716730</td>\n",
       "      <td>172</td>\n",
       "    </tr>\n",
       "    <tr>\n",
       "      <th>10</th>\n",
       "      <td>Kids</td>\n",
       "      <td>271030</td>\n",
       "      <td>89</td>\n",
       "    </tr>\n",
       "    <tr>\n",
       "      <th>17</th>\n",
       "      <td>TV &amp; Radio</td>\n",
       "      <td>242070</td>\n",
       "      <td>144</td>\n",
       "    </tr>\n",
       "    <tr>\n",
       "      <th>7</th>\n",
       "      <td>Food &amp; Recipe</td>\n",
       "      <td>186090</td>\n",
       "      <td>84</td>\n",
       "    </tr>\n",
       "    <tr>\n",
       "      <th>20</th>\n",
       "      <td>Unclassified</td>\n",
       "      <td>134360</td>\n",
       "      <td>127</td>\n",
       "    </tr>\n",
       "  </tbody>\n",
       "</table>\n",
       "</div>"
      ],
      "text/plain": [
       "         category  subscriber_sum(K)  category_count\n",
       "12  Music & Dance             716730             172\n",
       "10           Kids             271030              89\n",
       "17     TV & Radio             242070             144\n",
       "7   Food & Recipe             186090              84\n",
       "20   Unclassified             134360             127"
      ]
     },
     "execution_count": 28,
     "metadata": {},
     "output_type": "execute_result"
    }
   ],
   "source": [
    "pivot1 = pivot_df.sort_values(by='subscriber_sum(K)', ascending=False)\n",
    "pivot1.head()"
   ]
  },
  {
   "cell_type": "code",
   "execution_count": 29,
   "id": "a8c2183e",
   "metadata": {},
   "outputs": [
    {
     "data": {
      "image/png": "[encoded data removed]",
      "text/plain": [
       "<Figure size 2160x720 with 1 Axes>"
      ]
     },
     "metadata": {},
     "output_type": "display_data"
    }
   ],
   "source": [
    "plt.figure(figsize = (30,10))\n",
    "plt.title(\"Subscribers by category\", fontsize=20)\n",
    "\n",
    "plt.pie(pivot1['subscriber_sum(K)'], labels=pivot1['category'], colors = [color_dict[key] for key in pivot1.category], autopct='%1.1f%%')\n",
    "plt.show()"
   ]
  },
  {
   "cell_type": "markdown",
   "id": "230d1738",
   "metadata": {},
   "source": [
    "#### Views by category"
   ]
  },
  {
   "cell_type": "code",
   "execution_count": 30,
   "id": "2a5c4f2f",
   "metadata": {},
   "outputs": [
    {
     "data": {
      "text/html": [
       "<div>\n",
       "<style scoped>\n",
       "    .dataframe tbody tr th:only-of-type {\n",
       "        vertical-align: middle;\n",
       "    }\n",
       "\n",
       "    .dataframe tbody tr th {\n",
       "        vertical-align: top;\n",
       "    }\n",
       "\n",
       "    .dataframe thead th {\n",
       "        text-align: right;\n",
       "    }\n",
       "</style>\n",
       "<table border=\"1\" class=\"dataframe\">\n",
       "  <thead>\n",
       "    <tr style=\"text-align: right;\">\n",
       "      <th></th>\n",
       "      <th>category</th>\n",
       "      <th>view_sum(K)</th>\n",
       "      <th>category_count</th>\n",
       "    </tr>\n",
       "  </thead>\n",
       "  <tbody>\n",
       "    <tr>\n",
       "      <th>12</th>\n",
       "      <td>Music &amp; Dance</td>\n",
       "      <td>252754280</td>\n",
       "      <td>172</td>\n",
       "    </tr>\n",
       "    <tr>\n",
       "      <th>17</th>\n",
       "      <td>TV &amp; Radio</td>\n",
       "      <td>167800630</td>\n",
       "      <td>144</td>\n",
       "    </tr>\n",
       "    <tr>\n",
       "      <th>10</th>\n",
       "      <td>Kids</td>\n",
       "      <td>142655550</td>\n",
       "      <td>89</td>\n",
       "    </tr>\n",
       "    <tr>\n",
       "      <th>13</th>\n",
       "      <td>News &amp; Politics</td>\n",
       "      <td>90081620</td>\n",
       "      <td>53</td>\n",
       "    </tr>\n",
       "    <tr>\n",
       "      <th>20</th>\n",
       "      <td>Unclassified</td>\n",
       "      <td>55438730</td>\n",
       "      <td>127</td>\n",
       "    </tr>\n",
       "  </tbody>\n",
       "</table>\n",
       "</div>"
      ],
      "text/plain": [
       "           category  view_sum(K)  category_count\n",
       "12    Music & Dance    252754280             172\n",
       "17       TV & Radio    167800630             144\n",
       "10             Kids    142655550              89\n",
       "13  News & Politics     90081620              53\n",
       "20     Unclassified     55438730             127"
      ]
     },
     "execution_count": 30,
     "metadata": {},
     "output_type": "execute_result"
    }
   ],
   "source": [
    "pivot2 = df.pivot_table(index = 'category', values = 'replaced_view(K)', aggfunc = ['sum','count'])\n",
    "pivot2.columns = ['view_sum(K)', 'category_count']\n",
    "pivot2 = pivot2.reset_index()\n",
    "pivot2 = pivot2.sort_values(by='view_sum(K)', ascending=False)\n",
    "pivot2.head()"
   ]
  },
  {
   "cell_type": "code",
   "execution_count": 31,
   "id": "a75cd589",
   "metadata": {
    "scrolled": true
   },
   "outputs": [
    {
     "data": {
      "image/png": "[encoded data removed]",
      "text/plain": [
       "<Figure size 2160x720 with 1 Axes>"
      ]
     },
     "metadata": {},
     "output_type": "display_data"
    }
   ],
   "source": [
    "plt.figure(figsize = (30,10))\n",
    "plt.title(\"Views by category\", fontsize=20)\n",
    "plt.pie(pivot2['view_sum(K)'], labels=pivot2['category'], colors = [color_dict[key] for key in pivot2.category], autopct='%1.1f%%')\n",
    "plt.show()"
   ]
  },
  {
   "cell_type": "markdown",
   "id": "80e943f0",
   "metadata": {},
   "source": [
    "## 5. ANALYZE\n",
    "### What stories data's telling? Reveal gaps & opportunities"
   ]
  },
  {
   "cell_type": "markdown",
   "id": "05454583",
   "metadata": {},
   "source": [
    "![Pie Chart](./images/piechart.png)"
   ]
  },
  {
   "cell_type": "markdown",
   "id": "1c001933",
   "metadata": {},
   "source": [
    "- 'Music & Dance' has three times the number of subscribers than 'TV & Radio' but the number of views is only 1.5 times.\n",
    "\n",
    "\n",
    "- Soon after BlackPink or BTS' new album is released, news articles say that they have achieved a new record of cumulative views on their music videos on YouTube. Therefore, it is not that the number of views compared to the number of subscribers of 'Music & Dance' is low but that of 'TV & Radio' is high. \n",
    "\n",
    "\n",
    "- In other words, many people watch videos of 'TV & Radio' without subscribing to the channel."
   ]
  },
  {
   "cell_type": "code",
   "execution_count": 32,
   "id": "5b554a7e",
   "metadata": {},
   "outputs": [
    {
     "data": {
      "text/html": [
       "<div>\n",
       "<style scoped>\n",
       "    .dataframe tbody tr th:only-of-type {\n",
       "        vertical-align: middle;\n",
       "    }\n",
       "\n",
       "    .dataframe tbody tr th {\n",
       "        vertical-align: top;\n",
       "    }\n",
       "\n",
       "    .dataframe thead th {\n",
       "        text-align: right;\n",
       "    }\n",
       "</style>\n",
       "<table border=\"1\" class=\"dataframe\">\n",
       "  <thead>\n",
       "    <tr style=\"text-align: right;\">\n",
       "      <th></th>\n",
       "      <th>title</th>\n",
       "      <th>category</th>\n",
       "      <th>subscriber</th>\n",
       "      <th>view</th>\n",
       "      <th>video</th>\n",
       "      <th>replaced_subscriber(K)</th>\n",
       "      <th>replaced_view(K)</th>\n",
       "      <th>view/subscriber</th>\n",
       "    </tr>\n",
       "  </thead>\n",
       "  <tbody>\n",
       "    <tr>\n",
       "      <th>0</th>\n",
       "      <td>BLACKPINK</td>\n",
       "      <td>Music &amp; Dance</td>\n",
       "      <td>7040만</td>\n",
       "      <td>215억3740만</td>\n",
       "      <td>395개</td>\n",
       "      <td>70400</td>\n",
       "      <td>21537400</td>\n",
       "      <td>305.93</td>\n",
       "    </tr>\n",
       "    <tr>\n",
       "      <th>1</th>\n",
       "      <td>HYBE LABELS</td>\n",
       "      <td>Music &amp; Dance</td>\n",
       "      <td>6310만</td>\n",
       "      <td>205억6338만</td>\n",
       "      <td>728개</td>\n",
       "      <td>63100</td>\n",
       "      <td>20563380</td>\n",
       "      <td>325.89</td>\n",
       "    </tr>\n",
       "    <tr>\n",
       "      <th>2</th>\n",
       "      <td>BANGTANTV</td>\n",
       "      <td>Music &amp; Dance</td>\n",
       "      <td>6170만</td>\n",
       "      <td>141억6115만</td>\n",
       "      <td>1,647개</td>\n",
       "      <td>61700</td>\n",
       "      <td>14161150</td>\n",
       "      <td>229.52</td>\n",
       "    </tr>\n",
       "    <tr>\n",
       "      <th>3</th>\n",
       "      <td>SMTOWN</td>\n",
       "      <td>Music &amp; Dance</td>\n",
       "      <td>2940만</td>\n",
       "      <td>230억6671만</td>\n",
       "      <td>3,781개</td>\n",
       "      <td>29400</td>\n",
       "      <td>23066710</td>\n",
       "      <td>784.58</td>\n",
       "    </tr>\n",
       "    <tr>\n",
       "      <th>5</th>\n",
       "      <td>1MILLION Dance Studio</td>\n",
       "      <td>Music &amp; Dance</td>\n",
       "      <td>2460만</td>\n",
       "      <td>69억4022만</td>\n",
       "      <td>3,409개</td>\n",
       "      <td>24600</td>\n",
       "      <td>6940220</td>\n",
       "      <td>282.12</td>\n",
       "    </tr>\n",
       "    <tr>\n",
       "      <th>6</th>\n",
       "      <td>1theK (원더케이)</td>\n",
       "      <td>Music &amp; Dance</td>\n",
       "      <td>2370만</td>\n",
       "      <td>213억8537만</td>\n",
       "      <td>15,706개</td>\n",
       "      <td>23700</td>\n",
       "      <td>21385370</td>\n",
       "      <td>902.34</td>\n",
       "    </tr>\n",
       "    <tr>\n",
       "      <th>7</th>\n",
       "      <td>JYP Entertainment</td>\n",
       "      <td>Music &amp; Dance</td>\n",
       "      <td>2310만</td>\n",
       "      <td>150억5889만</td>\n",
       "      <td>1,429개</td>\n",
       "      <td>23100</td>\n",
       "      <td>15058890</td>\n",
       "      <td>651.90</td>\n",
       "    </tr>\n",
       "    <tr>\n",
       "      <th>8</th>\n",
       "      <td>Mnet K-POP</td>\n",
       "      <td>Music &amp; Dance</td>\n",
       "      <td>1910만</td>\n",
       "      <td>140억0484만</td>\n",
       "      <td>26,901개</td>\n",
       "      <td>19100</td>\n",
       "      <td>14004840</td>\n",
       "      <td>733.24</td>\n",
       "    </tr>\n",
       "    <tr>\n",
       "      <th>9</th>\n",
       "      <td>JFlaMusic</td>\n",
       "      <td>Music &amp; Dance</td>\n",
       "      <td>1740만</td>\n",
       "      <td>35억0639만</td>\n",
       "      <td>281개</td>\n",
       "      <td>17400</td>\n",
       "      <td>3506390</td>\n",
       "      <td>201.52</td>\n",
       "    </tr>\n",
       "    <tr>\n",
       "      <th>12</th>\n",
       "      <td>officialpsy</td>\n",
       "      <td>Music &amp; Dance</td>\n",
       "      <td>1530만</td>\n",
       "      <td>88억5136만</td>\n",
       "      <td>91개</td>\n",
       "      <td>15300</td>\n",
       "      <td>8851360</td>\n",
       "      <td>578.52</td>\n",
       "    </tr>\n",
       "  </tbody>\n",
       "</table>\n",
       "</div>"
      ],
      "text/plain": [
       "                    title       category subscriber       view    video  \\\n",
       "0               BLACKPINK  Music & Dance      7040만  215억3740만     395개   \n",
       "1             HYBE LABELS  Music & Dance      6310만  205억6338만     728개   \n",
       "2               BANGTANTV  Music & Dance      6170만  141억6115만   1,647개   \n",
       "3                  SMTOWN  Music & Dance      2940만  230억6671만   3,781개   \n",
       "5   1MILLION Dance Studio  Music & Dance      2460만   69억4022만   3,409개   \n",
       "6            1theK (원더케이)  Music & Dance      2370만  213억8537만  15,706개   \n",
       "7       JYP Entertainment  Music & Dance      2310만  150억5889만   1,429개   \n",
       "8              Mnet K-POP  Music & Dance      1910만  140억0484만  26,901개   \n",
       "9               JFlaMusic  Music & Dance      1740만   35억0639만     281개   \n",
       "12            officialpsy  Music & Dance      1530만   88억5136만      91개   \n",
       "\n",
       "    replaced_subscriber(K)  replaced_view(K)  view/subscriber  \n",
       "0                    70400          21537400           305.93  \n",
       "1                    63100          20563380           325.89  \n",
       "2                    61700          14161150           229.52  \n",
       "3                    29400          23066710           784.58  \n",
       "5                    24600           6940220           282.12  \n",
       "6                    23700          21385370           902.34  \n",
       "7                    23100          15058890           651.90  \n",
       "8                    19100          14004840           733.24  \n",
       "9                    17400           3506390           201.52  \n",
       "12                   15300           8851360           578.52  "
      ]
     },
     "execution_count": 32,
     "metadata": {},
     "output_type": "execute_result"
    }
   ],
   "source": [
    "df1 = df.loc[df['category'] == 'Music & Dance']\n",
    "df1['view/subscriber'] = round(df1['replaced_view(K)'] / df1['replaced_subscriber(K)'], 2)\n",
    "df1[0:10]"
   ]
  },
  {
   "cell_type": "code",
   "execution_count": 33,
   "id": "fb4146e4",
   "metadata": {},
   "outputs": [
    {
     "data": {
      "text/html": [
       "<div>\n",
       "<style scoped>\n",
       "    .dataframe tbody tr th:only-of-type {\n",
       "        vertical-align: middle;\n",
       "    }\n",
       "\n",
       "    .dataframe tbody tr th {\n",
       "        vertical-align: top;\n",
       "    }\n",
       "\n",
       "    .dataframe thead th {\n",
       "        text-align: right;\n",
       "    }\n",
       "</style>\n",
       "<table border=\"1\" class=\"dataframe\">\n",
       "  <thead>\n",
       "    <tr style=\"text-align: right;\">\n",
       "      <th></th>\n",
       "      <th>title</th>\n",
       "      <th>category</th>\n",
       "      <th>subscriber</th>\n",
       "      <th>view</th>\n",
       "      <th>video</th>\n",
       "      <th>replaced_subscriber(K)</th>\n",
       "      <th>replaced_view(K)</th>\n",
       "      <th>view/subscriber</th>\n",
       "    </tr>\n",
       "  </thead>\n",
       "  <tbody>\n",
       "    <tr>\n",
       "      <th>10</th>\n",
       "      <td>KBS WORLD TV</td>\n",
       "      <td>TV &amp; Radio</td>\n",
       "      <td>1720만</td>\n",
       "      <td>129억2744만</td>\n",
       "      <td>54,050개</td>\n",
       "      <td>17200</td>\n",
       "      <td>12927440</td>\n",
       "      <td>751.60</td>\n",
       "    </tr>\n",
       "    <tr>\n",
       "      <th>22</th>\n",
       "      <td>MBCkpop</td>\n",
       "      <td>TV &amp; Radio</td>\n",
       "      <td>962만</td>\n",
       "      <td>76억3721만</td>\n",
       "      <td>41,662개</td>\n",
       "      <td>9620</td>\n",
       "      <td>7637210</td>\n",
       "      <td>793.89</td>\n",
       "    </tr>\n",
       "    <tr>\n",
       "      <th>33</th>\n",
       "      <td>M2</td>\n",
       "      <td>TV &amp; Radio</td>\n",
       "      <td>785만</td>\n",
       "      <td>59억8877만</td>\n",
       "      <td>15,068개</td>\n",
       "      <td>7850</td>\n",
       "      <td>5988770</td>\n",
       "      <td>762.90</td>\n",
       "    </tr>\n",
       "    <tr>\n",
       "      <th>44</th>\n",
       "      <td>KBS Kpop</td>\n",
       "      <td>TV &amp; Radio</td>\n",
       "      <td>656만</td>\n",
       "      <td>51억1539만</td>\n",
       "      <td>30,748개</td>\n",
       "      <td>6560</td>\n",
       "      <td>5115390</td>\n",
       "      <td>779.79</td>\n",
       "    </tr>\n",
       "    <tr>\n",
       "      <th>51</th>\n",
       "      <td>스브스케이팝 / SBS KPOP</td>\n",
       "      <td>TV &amp; Radio</td>\n",
       "      <td>620만</td>\n",
       "      <td>42억6271만</td>\n",
       "      <td>27,576개</td>\n",
       "      <td>6200</td>\n",
       "      <td>4262710</td>\n",
       "      <td>687.53</td>\n",
       "    </tr>\n",
       "    <tr>\n",
       "      <th>53</th>\n",
       "      <td>SBS Entertainment</td>\n",
       "      <td>TV &amp; Radio</td>\n",
       "      <td>595만</td>\n",
       "      <td>70억8350만</td>\n",
       "      <td>218,690개</td>\n",
       "      <td>5950</td>\n",
       "      <td>7083500</td>\n",
       "      <td>1190.50</td>\n",
       "    </tr>\n",
       "    <tr>\n",
       "      <th>54</th>\n",
       "      <td>tvN drama</td>\n",
       "      <td>TV &amp; Radio</td>\n",
       "      <td>594만</td>\n",
       "      <td>60억6116만</td>\n",
       "      <td>37,884개</td>\n",
       "      <td>5940</td>\n",
       "      <td>6061160</td>\n",
       "      <td>1020.40</td>\n",
       "    </tr>\n",
       "    <tr>\n",
       "      <th>57</th>\n",
       "      <td>SBS Drama</td>\n",
       "      <td>TV &amp; Radio</td>\n",
       "      <td>579만</td>\n",
       "      <td>61억1900만</td>\n",
       "      <td>341,738개</td>\n",
       "      <td>5790</td>\n",
       "      <td>6119000</td>\n",
       "      <td>1056.82</td>\n",
       "    </tr>\n",
       "    <tr>\n",
       "      <th>75</th>\n",
       "      <td>KBS Entertain</td>\n",
       "      <td>TV &amp; Radio</td>\n",
       "      <td>460만</td>\n",
       "      <td>74억3341만</td>\n",
       "      <td>102,781개</td>\n",
       "      <td>4600</td>\n",
       "      <td>7433410</td>\n",
       "      <td>1615.96</td>\n",
       "    </tr>\n",
       "    <tr>\n",
       "      <th>81</th>\n",
       "      <td>MBCdrama</td>\n",
       "      <td>TV &amp; Radio</td>\n",
       "      <td>448만</td>\n",
       "      <td>50억6565만</td>\n",
       "      <td>54,948개</td>\n",
       "      <td>4480</td>\n",
       "      <td>5065650</td>\n",
       "      <td>1130.73</td>\n",
       "    </tr>\n",
       "  </tbody>\n",
       "</table>\n",
       "</div>"
      ],
      "text/plain": [
       "                title    category subscriber       view     video  \\\n",
       "10       KBS WORLD TV  TV & Radio      1720만  129억2744만   54,050개   \n",
       "22            MBCkpop  TV & Radio       962만   76억3721만   41,662개   \n",
       "33                 M2  TV & Radio       785만   59억8877만   15,068개   \n",
       "44           KBS Kpop  TV & Radio       656만   51억1539만   30,748개   \n",
       "51  스브스케이팝 / SBS KPOP  TV & Radio       620만   42억6271만   27,576개   \n",
       "53  SBS Entertainment  TV & Radio       595만   70억8350만  218,690개   \n",
       "54          tvN drama  TV & Radio       594만   60억6116만   37,884개   \n",
       "57          SBS Drama  TV & Radio       579만   61억1900만  341,738개   \n",
       "75      KBS Entertain  TV & Radio       460만   74억3341만  102,781개   \n",
       "81           MBCdrama  TV & Radio       448만   50억6565만   54,948개   \n",
       "\n",
       "    replaced_subscriber(K)  replaced_view(K)  view/subscriber  \n",
       "10                   17200          12927440           751.60  \n",
       "22                    9620           7637210           793.89  \n",
       "33                    7850           5988770           762.90  \n",
       "44                    6560           5115390           779.79  \n",
       "51                    6200           4262710           687.53  \n",
       "53                    5950           7083500          1190.50  \n",
       "54                    5940           6061160          1020.40  \n",
       "57                    5790           6119000          1056.82  \n",
       "75                    4600           7433410          1615.96  \n",
       "81                    4480           5065650          1130.73  "
      ]
     },
     "execution_count": 33,
     "metadata": {},
     "output_type": "execute_result"
    }
   ],
   "source": [
    "df2 = df.loc[df['category'] == 'TV & Radio']\n",
    "df2['view/subscriber'] = round(df2['replaced_view(K)'] / df2['replaced_subscriber(K)'], 2)\n",
    "df2[0:10]"
   ]
  },
  {
   "cell_type": "markdown",
   "id": "9d09c784",
   "metadata": {},
   "source": [
    "- Again, The number of views compared to the number of subscribers is higher in 'TV & Radio' than in 'Music & Dance'.\n",
    "\n",
    "\n",
    "- To find the reason, I looked into the contents of the top channels of 'TV & Radio.'"
   ]
  },
  {
   "cell_type": "markdown",
   "id": "1f7f02c5",
   "metadata": {},
   "source": [
    "![Top3 TV Channel](./images/tvchannel.png)"
   ]
  },
  {
   "cell_type": "markdown",
   "id": "4b61c8ba",
   "metadata": {},
   "source": [
    "- Videos uploaded from the top 10 YouTube channels of 'TV & Radio' were mostly music shows or variety shows with Kpop stars."
   ]
  },
  {
   "cell_type": "markdown",
   "id": "9a528071",
   "metadata": {},
   "source": [
    "## 6. SHARE\n",
    "### Data-driven storytelling"
   ]
  },
  {
   "cell_type": "markdown",
   "id": "16caaf37",
   "metadata": {},
   "source": [
    "1) Fans of a Kpop star subscribe to the official YouTube channel of the star.\n",
    "\n",
    "2) Fans choose not to subscribe to the 'TV & Radio' channels because there are many videos of other stars besides the star they like.\n",
    "\n",
    "\n",
    "3) YouTube will become more user-friendly if it allows subscribers to configure keyword alerts.\n",
    "\n",
    "\n",
    "4) The most viewed video atm is PINKFONG's 'Baby Shark Dance'--doo doo doo doo doo doo!"
   ]
  }
 ],
 "metadata": {
  "kernelspec": {
   "display_name": "Python 3 (ipykernel)",
   "language": "python",
   "name": "python3"
  },
  "language_info": {
   "codemirror_mode": {
    "name": "ipython",
    "version": 3
   },
   "file_extension": ".py",
   "mimetype": "text/x-python",
   "name": "python",
   "nbconvert_exporter": "python",
   "pygments_lexer": "ipython3",
   "version": "3.8.12"
  },
  "nbTranslate": {
   "displayLangs": [
    "*"
   ],
   "hotkey": "alt-t",
   "langInMainMenu": true,
   "sourceLang": "en",
   "targetLang": "fr",
   "useGoogleTranslate": true
  },
  "toc": {
   "base_numbering": 1,
   "nav_menu": {},
   "number_sections": false,
   "sideBar": true,
   "skip_h1_title": false,
   "title_cell": "Table of Contents",
   "title_sidebar": "Contents",
   "toc_cell": false,
   "toc_position": {},
   "toc_section_display": true,
   "toc_window_display": true
  },
  "varInspector": {
   "cols": {
    "lenName": 16,
    "lenType": 16,
    "lenVar": 40
   },
   "kernels_config": {
    "python": {
     "delete_cmd_postfix": "",
     "delete_cmd_prefix": "del ",
     "library": "var_list.py",
     "varRefreshCmd": "print(var_dic_list())"
    },
    "r": {
     "delete_cmd_postfix": ") ",
     "delete_cmd_prefix": "rm(",
     "library": "var_list.r",
     "varRefreshCmd": "cat(var_dic_list()) "
    }
   },
   "types_to_exclude": [
    "module",
    "function",
    "builtin_function_or_method",
    "instance",
    "_Feature"
   ],
   "window_display": false
  }
 },
 "nbformat": 4,
 "nbformat_minor": 5
}
